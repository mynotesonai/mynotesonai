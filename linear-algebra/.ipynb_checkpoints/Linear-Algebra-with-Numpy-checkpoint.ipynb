{
 "cells": [
  {
   "cell_type": "code",
   "execution_count": 1,
   "id": "fae42364",
   "metadata": {},
   "outputs": [
    {
     "name": "stdout",
     "output_type": "stream",
     "text": [
      "Collecting mathjax\n",
      "  Downloading mathjax-0.1.2.tar.gz (1.5 kB)\n",
      "  Preparing metadata (setup.py) ... \u001b[?25ldone\n",
      "\u001b[?25hBuilding wheels for collected packages: mathjax\n",
      "  Building wheel for mathjax (setup.py) ... \u001b[?25ldone\n",
      "\u001b[?25h  Created wheel for mathjax: filename=mathjax-0.1.2-py3-none-any.whl size=1918 sha256=99c8caeb523be086db740c9fbab231cc04253680db2424d4e56d4d096df93621\n",
      "  Stored in directory: /Users/pamelagangopadhyay/Library/Caches/pip/wheels/56/ef/b8/40975c16c655b925f1ddb34971043fe42edc90dc0cd94586a7\n",
      "Successfully built mathjax\n",
      "Installing collected packages: mathjax\n",
      "Successfully installed mathjax-0.1.2\n"
     ]
    }
   ],
   "source": [
    "!pip3 install mathjax"
   ]
  },
  {
   "cell_type": "code",
   "execution_count": 3,
   "id": "e47d88fe",
   "metadata": {},
   "outputs": [],
   "source": [
    "import numpy as np\n",
    "import matplotlib.pyplot as plt\n",
    "import scipy.signal\n",
    "from mpl_toolkits.mplot3d import Axes3D"
   ]
  },
  {
   "cell_type": "markdown",
   "id": "aedbdfb1",
   "metadata": {},
   "source": [
    "# Linear Algebraic Operations using Numpy"
   ]
  },
  {
   "cell_type": "markdown",
   "id": "2acc41b2",
   "metadata": {},
   "source": [
    "## Singular Value Decomposition"
   ]
  },
  {
   "cell_type": "markdown",
   "id": "50b6f0c0",
   "metadata": {},
   "source": [
    "There is a famous saying that \"The SVD is the Swiss Army Knife of Matrix Decomposition\". We know that a square matrix\n",
    "$\\large{A_{n \\times n}}$ is diagonalizable and we can define Eigenvalues and Eigenvectors for rectangular matrices. It is impossible to obtain Eigenvalues and Eigenvectors for rectangular matrices. Even for square matrices, Eigenvalues and Eigenvectors may have some issues.\n",
    "\n",
    "- Singular Value Decomposition method enables orthogonal Diagonalization for matrices that can not be diagonalized, specially rectangular matrices and for non-diagonalizable matrices\n",
    "\n",
    "- Singular Value Decomposition gives a kind of pseudo-inverse for rectangular matrices and for singular matrices.\n",
    "\n",
    "- SVD is used in many applications e.g. Dimensionality Reduction (reduces the number of data dimensions to be able to work well with Machine Learning and Deep Learning models.\n",
    "\n",
    "- SVD Gives the best low rank approximation of a given matrix.\n",
    "\n",
    "### SVD the Bigger Picture\n",
    "\n",
    "                                The           Orthogonal         Singular     Orthogonal Basis\n",
    "                                Matrix A      Basis of Coulmn    Values of    for row space of A\n",
    "                                              Space of A            A\n",
    "\n",
    "\n",
    "$$ \\Huge{\\begin{bmatrix} A \\end{bmatrix} \\  = \\ \\begin{bmatrix} U \\end{bmatrix} \\ \\begin{bmatrix} \\sum \\end{bmatrix} \\ \\begin{bmatrix} V^{T} \\end{bmatrix}}$$\n",
    "\n",
    "                                 mxn                  mxm           mxn           nxn\n",
    "                                 \n",
    "                                 \n",
    "### Steps for Computing SVD \n",
    "\n",
    "Finding SVD of a Rectangular matrtix $$ \\begin{bmatrix} 1  & 1 & 0 \\\\ 0 & 1 & 1 \\end{bmatrix} $$\n",
    "\n",
    "Finding the Eigenvalues and Eigenvectors of $ A^{T}A $\n",
    "\n",
    "$$ A^{T}A = \\begin{bmatrix} 1 & 0 \\\\ 1 & 1 \\\\ 0 & 1 \\end{bmatrix} \\ \\ \\begin{bmatrix} 1  & 1 & 0 \\\\ 0 & 1 & 1 \\end{bmatrix} $$\n",
    "\n",
    "$ \\text{ Eigenvalues } \\lambda = 0 \\ \\  \\lambda = 3  \\ \\  \\lambda = 1 $\n",
    "\n",
    "$ \\text{ Finding Eigenvectors for Eigenvalues } $\n",
    "\n",
    "$ \\text{ Eigenvectors for } \\lambda = 3 \\text{ is } \\ \\begin{bmatrix} 1 \\\\ 2 \\\\ 1  \\end{bmatrix} $\n",
    "\n",
    "$$  v_3 = \\text{Span}{<1, 2, 1>^{T}} $$\n",
    "\n",
    "$ \\text{ Eigenvectors for } \\lambda = 1 \\text{ is } \\ \\begin{bmatrix} 1 \\\\ -1 \\\\ 1  \\end{bmatrix} $\n",
    "\n",
    "$$  v_3 = \\text{Span}{<1, -1, 1>^{T}} $$\n",
    "\n",
    "$ \\text{ Calculating Singular Values } $\n",
    "\n",
    "$ \\text{The Singular Values of} \\ \\ \\lambda = 3,  \\ \\  \\lambda = 1, \\ \\ \\lambda = 0 $\n",
    "\n",
    "$ \\sigma_0 = \\sqrt{3} \\ \\sigma_1 = \\sqrt{1} \\ \\sigma_2 = 0 $\n",
    "\n",
    "\n",
    "$$ \\sum = \\begin{bmatrix} \\sqrt{3} & 0 & 0 \\\\ 0 & \\sqrt{1} & 0 \\end{bmatrix} = \\begin{bmatrix} \\sqrt{3} & 0 & 0 \\\\ 0 & 1 & 0 \\end{bmatrix}$$\n",
    "\n",
    "$$ \\text{ Constructing V } = \\begin{bmatrix} 1 & -1 & 1 \\\\ 2 & 0 & -1 \\\\ 1 & 1 & 1 \\end{bmatrix} $$\n",
    "\n",
    "$$ \\text{ Normalized V } = \\begin{bmatrix} \\frac{1}{\\sqrt{6}} & -\\frac{1}{\\sqrt{2}} & \\frac{1}{\\sqrt{3}} \\\\ \n",
    "\\frac{2}{\\sqrt{6}} & 0 & -\\frac{1}{\\sqrt{3}}\n",
    "\\\\ \\frac{1}{\\sqrt{6}}  & \\frac{1}{\\sqrt{2}} & \\frac{1}{\\sqrt{3}} \\end{bmatrix} $$\n",
    "\n",
    "\n",
    "$ \\text{Constructing U} $\n",
    "\n",
    "$$ u_1 = \\frac{1}{\\sqrt{3}} \\begin{bmatrix} 1 & 1 & 0 \\\\ 0 & 1 & 1 \\end{bmatrix} \n",
    "\\begin{bmatrix} \\frac{1}{\\sqrt{6}} \\\\ \\frac{2}{\\sqrt{6}} \\\\ \\frac{1}{\\sqrt{6}}\\end{bmatrix} $$\n",
    "\n",
    "$$ U = \\begin{bmatrix} \\frac{1}{\\sqrt{2}} & -\\frac{1}{\\sqrt{2}} \\\\ \\frac{1}{\\sqrt{2}} & \\frac{1}{\\sqrt{2}}\\end{bmatrix} $$\n",
    "\n",
    "\n",
    "$$ V^T = \\begin{bmatrix} \n",
    "\\frac{1}{\\sqrt{6}} & \\frac{2}{\\sqrt{6}} & -\\frac{1}{\\sqrt{6}} \\\\ \n",
    "-\\frac{1}{\\sqrt{2}} & 0 & -\\frac{1}{\\sqrt{3}} \\\\\n",
    "\\frac{1}{\\sqrt{6}} & \\frac{1}{\\sqrt{2}} & \\frac{1}{\\sqrt{3}}\n",
    "\\end{bmatrix} $$ \n",
    "\n",
    "\n",
    "$$ U \\sum V^T = \\begin{bmatrix} \\frac{1}{\\sqrt{2}} & -\\frac{1}{\\sqrt{2}} \\\\ \\frac{1}{\\sqrt{2}} & \\frac{1}{\\sqrt{2}}\\end{bmatrix}\n",
    "\\begin{bmatrix} \\sqrt{3} & 0 & 0 \\\\ 0 & \\sqrt{1} & 0 \\end{bmatrix} = \\begin{bmatrix} \\sqrt{3} & 0 & 0 \\\\ 0 & 1 & 0 \\end{bmatrix}\n",
    "\\begin{bmatrix} \n",
    "\\frac{1}{\\sqrt{6}} & \\frac{2}{\\sqrt{6}} & -\\frac{1}{\\sqrt{6}} \\\\ \n",
    "-\\frac{1}{\\sqrt{2}} & 0 & -\\frac{1}{\\sqrt{3}} \\\\\n",
    "\\frac{1}{\\sqrt{6}} & \\frac{1}{\\sqrt{2}} & \\frac{1}{\\sqrt{3}}\n",
    "\\end{bmatrix} \n",
    "$$\n",
    "\n",
    "$$ = \\begin{bmatrix} 1  & 1 & 0 \\\\ 0 & 1 & 1 \\end{bmatrix} = A $$\n"
   ]
  },
  {
   "cell_type": "code",
   "execution_count": 22,
   "id": "f5d303db",
   "metadata": {},
   "outputs": [
    {
     "name": "stdout",
     "output_type": "stream",
     "text": [
      "Printing U\n",
      "[[-0.70710678 -0.70710678]\n",
      " [-0.70710678  0.70710678]]\n",
      "\n",
      "Printing the Singular values in descending order [1.73205081 1.        ]\n",
      " \n",
      "Printing V\n",
      "[[-4.08248290e-01 -8.16496581e-01 -4.08248290e-01]\n",
      " [-7.07106781e-01  2.13278616e-16  7.07106781e-01]\n",
      " [ 5.77350269e-01 -5.77350269e-01  5.77350269e-01]]\n"
     ]
    }
   ],
   "source": [
    "# the matrix\n",
    "A = [ [1,1,0], [0,1,1] ]\n",
    "\n",
    "# Note differences from MATLAB: S is vector, V is V'\n",
    "U,S,V = np.linalg.svd(A)\n",
    "\n",
    "print(\"Printing U\")\n",
    "print(U)\n",
    "print()\n",
    "print(f\"Printing the Singular values in descending order {S}\"), print(' ')\n",
    "print(\"Printing V\")\n",
    "print(V)\n"
   ]
  },
  {
   "cell_type": "code",
   "execution_count": 23,
   "id": "d09a89d3",
   "metadata": {},
   "outputs": [
    {
     "data": {
      "image/png": "[encoded data removed]",
      "text/plain": [
       "<Figure size 640x480 with 4 Axes>"
      ]
     },
     "metadata": {},
     "output_type": "display_data"
    }
   ],
   "source": [
    "plt.subplot(141)\n",
    "plt.imshow(A)\n",
    "plt.title('A')\n",
    "plt.axis('off')\n",
    "\n",
    "plt.subplot(142)\n",
    "plt.imshow(U)\n",
    "plt.title('U')\n",
    "plt.axis('off')\n",
    "\n",
    "plt.subplot(143)\n",
    "plt.imshow(np.diag(S))\n",
    "plt.title('$\\Sigma$')\n",
    "plt.axis('off')\n",
    "\n",
    "plt.subplot(144)\n",
    "plt.imshow(V)\n",
    "plt.title('$V^T$')\n",
    "plt.axis('off')\n",
    "\n",
    "plt.show()"
   ]
  },
  {
   "cell_type": "code",
   "execution_count": 19,
   "id": "a10c25d3",
   "metadata": {},
   "outputs": [
    {
     "name": "stdout",
     "output_type": "stream",
     "text": [
      "Printing U\n",
      "[[-0.7996281  -0.60049555]\n",
      " [-0.60049555  0.7996281 ]]\n",
      "\n",
      "Printing the Singular values in descending order [8.73384364 3.42344493]\n",
      " \n",
      "Printing V\n",
      "[[-0.52688531 -0.06875501 -0.84715088]\n",
      " [ 0.81705693  0.23357411 -0.52712533]\n",
      " [-0.23411502  0.96990509  0.06689001]]\n"
     ]
    }
   ],
   "source": [
    "# the matrix\n",
    "A = [ [2,0,7], [5,1,3] ]\n",
    "\n",
    "# Note differences from MATLAB: S is vector, V is V'\n",
    "U,S,V = np.linalg.svd(A)\n",
    "\n",
    "print(\"Printing U\")\n",
    "print(U)\n",
    "print()\n",
    "print(f\"Printing the Singular values in descending order {S}\"), print(' ')\n",
    "print(\"Printing V\")\n",
    "print(V)"
   ]
  },
  {
   "cell_type": "code",
   "execution_count": 7,
   "id": "b42d2bcd",
   "metadata": {},
   "outputs": [
    {
     "data": {
      "image/png": "[encoded data removed]",
      "text/plain": [
       "<Figure size 640x480 with 4 Axes>"
      ]
     },
     "metadata": {},
     "output_type": "display_data"
    }
   ],
   "source": [
    "plt.subplot(141)\n",
    "plt.imshow(A)\n",
    "plt.title('A')\n",
    "plt.axis('off')\n",
    "\n",
    "plt.subplot(142)\n",
    "plt.imshow(U)\n",
    "plt.title('U')\n",
    "plt.axis('off')\n",
    "\n",
    "plt.subplot(143)\n",
    "plt.imshow(np.diag(S))\n",
    "plt.title('$\\Sigma$')\n",
    "plt.axis('off')\n",
    "\n",
    "plt.subplot(144)\n",
    "plt.imshow(V)\n",
    "plt.title('$V^T$')\n",
    "plt.axis('off')\n",
    "\n",
    "plt.show()"
   ]
  },
  {
   "cell_type": "code",
   "execution_count": null,
   "id": "aac93b23",
   "metadata": {},
   "outputs": [],
   "source": []
  }
 ],
 "metadata": {
  "kernelspec": {
   "display_name": "Python 3 (ipykernel)",
   "language": "python",
   "name": "python3"
  },
  "language_info": {
   "codemirror_mode": {
    "name": "ipython",
    "version": 3
   },
   "file_extension": ".py",
   "mimetype": "text/x-python",
   "name": "python",
   "nbconvert_exporter": "python",
   "pygments_lexer": "ipython3",
   "version": "3.10.0"
  }
 },
 "nbformat": 4,
 "nbformat_minor": 5
}
