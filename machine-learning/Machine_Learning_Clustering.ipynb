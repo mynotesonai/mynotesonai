{
 "cells": [
  {
   "cell_type": "markdown",
   "metadata": {},
   "source": [
    "## Maching Learning - Clustering demo with PyClustering and sklearn"
   ]
  },
  {
   "cell_type": "markdown",
   "metadata": {},
   "source": [
    "In this demo I am using the Dataset for estimation of obesity levels based on eating habits and physical condition in individuals from Colombia, Peru and Mexico"
   ]
  },
  {
   "cell_type": "code",
   "execution_count": null,
   "metadata": {},
   "outputs": [],
   "source": [
    "import numpy as np\n",
    "import pandas as pd\n",
    "import numpy as np\n",
    "import pandas as pd\n",
    "import matplotlib. pyplot as plt\n",
    "\n",
    "\n",
    "from sklearn.model_selection import StratifiedShuffleSplit\n",
    "from sklearn.model_selection import train_test_split\n",
    "from sklearn.model_selection import KFold\n",
    "from sklearn.cluster import KMeans\n",
    "from sklearn.metrics import accuracy_score\n",
    "from sklearn.metrics import classification_report\n",
    "from sklearn.cluster import AgglomerativeClustering\n",
    "from scipy import stats"
   ]
  },
  {
   "cell_type": "markdown",
   "metadata": {},
   "source": [
    "### Required Installations: \n",
    "\n",
    "### I am using kmodes for question 1\n",
    "\n",
    "### I am using PyClustering library APIs to build the clusters for this assignment (for Question Numbers 4, 5, and 6 . \n",
    "\n",
    "### Please execute the following code to install it locally before executing this notebook.\n",
    "\n",
    "### All the required imports are defined before the code reference to this library"
   ]
  },
  {
   "cell_type": "code",
   "execution_count": 9,
   "metadata": {},
   "outputs": [
    {
     "name": "stdout",
     "output_type": "stream",
     "text": [
      "Requirement already satisfied: pyclustering in /home/pamela/anaconda3/lib/python3.8/site-packages (0.10.1.2)\n",
      "Requirement already satisfied: matplotlib>=3.0.0 in /home/pamela/anaconda3/lib/python3.8/site-packages (from pyclustering) (3.3.2)\n",
      "Requirement already satisfied: Pillow>=5.2.0 in /home/pamela/anaconda3/lib/python3.8/site-packages (from pyclustering) (8.0.1)\n",
      "Requirement already satisfied: numpy>=1.15.2 in /home/pamela/anaconda3/lib/python3.8/site-packages (from pyclustering) (1.19.2)\n",
      "Requirement already satisfied: scipy>=1.1.0 in /home/pamela/anaconda3/lib/python3.8/site-packages (from pyclustering) (1.5.2)\n",
      "Requirement already satisfied: kiwisolver>=1.0.1 in /home/pamela/anaconda3/lib/python3.8/site-packages (from matplotlib>=3.0.0->pyclustering) (1.3.0)\n",
      "Requirement already satisfied: pyparsing!=2.0.4,!=2.1.2,!=2.1.6,>=2.0.3 in /home/pamela/.local/lib/python3.8/site-packages (from matplotlib>=3.0.0->pyclustering) (2.4.7)\n",
      "Requirement already satisfied: python-dateutil>=2.1 in /home/pamela/anaconda3/lib/python3.8/site-packages (from matplotlib>=3.0.0->pyclustering) (2.8.1)\n",
      "Requirement already satisfied: cycler>=0.10 in /home/pamela/anaconda3/lib/python3.8/site-packages (from matplotlib>=3.0.0->pyclustering) (0.10.0)\n",
      "Requirement already satisfied: certifi>=2020.06.20 in /home/pamela/anaconda3/lib/python3.8/site-packages (from matplotlib>=3.0.0->pyclustering) (2020.6.20)\n",
      "Requirement already satisfied: six in /home/pamela/anaconda3/lib/python3.8/site-packages (from cycler>=0.10->matplotlib>=3.0.0->pyclustering) (1.15.0)\n",
      "\u001b[33mWARNING: You are using pip version 21.1.3; however, version 21.2.4 is available.\n",
      "You should consider upgrading via the '/home/pamela/anaconda3/bin/python -m pip install --upgrade pip' command.\u001b[0m\n"
     ]
    }
   ],
   "source": [
    "!pip install pyclustering"
   ]
  },
  {
   "cell_type": "code",
   "execution_count": 10,
   "metadata": {},
   "outputs": [
    {
     "name": "stdout",
     "output_type": "stream",
     "text": [
      "Requirement already satisfied: kmodes in /home/pamela/anaconda3/lib/python3.8/site-packages (0.11.0)\n",
      "Requirement already satisfied: numpy>=1.10.4 in /home/pamela/anaconda3/lib/python3.8/site-packages (from kmodes) (1.19.2)\n",
      "Requirement already satisfied: joblib>=0.11 in /home/pamela/anaconda3/lib/python3.8/site-packages (from kmodes) (0.17.0)\n",
      "Requirement already satisfied: scipy>=0.13.3 in /home/pamela/anaconda3/lib/python3.8/site-packages (from kmodes) (1.5.2)\n",
      "Requirement already satisfied: scikit-learn>=0.22.0 in /home/pamela/anaconda3/lib/python3.8/site-packages (from kmodes) (0.23.2)\n",
      "Requirement already satisfied: threadpoolctl>=2.0.0 in /home/pamela/anaconda3/lib/python3.8/site-packages (from scikit-learn>=0.22.0->kmodes) (2.1.0)\n",
      "\u001b[33mWARNING: You are using pip version 21.1.3; however, version 21.2.4 is available.\n",
      "You should consider upgrading via the '/home/pamela/anaconda3/bin/python -m pip install --upgrade pip' command.\u001b[0m\n"
     ]
    }
   ],
   "source": [
    "!pip install kmodes"
   ]
  },
  {
   "cell_type": "markdown",
   "metadata": {},
   "source": [
    "## Determine the number of subgroups from the dataset using attributes 3 to 205 i.e., exclude attributes 1,"
   ]
  },
  {
   "cell_type": "code",
   "execution_count": 3,
   "metadata": {},
   "outputs": [],
   "source": [
    "scadi_ds_url = 'https://raw.githubusercontent.com/pam1202g/SIT720_A2/main/SCADI.csv'"
   ]
  },
  {
   "cell_type": "code",
   "execution_count": 4,
   "metadata": {},
   "outputs": [],
   "source": [
    "self_care_df = pd.read_csv(scadi_ds_url)"
   ]
  },
  {
   "cell_type": "code",
   "execution_count": 5,
   "metadata": {},
   "outputs": [],
   "source": [
    "sc_reduced_df = self_care_df.iloc[:, 2:205]"
   ]
  },
  {
   "cell_type": "code",
   "execution_count": 6,
   "metadata": {},
   "outputs": [],
   "source": [
    "sc_reduced_df = sc_reduced_df.loc[:, (sc_reduced_df != 0).any()]"
   ]
  },
  {
   "cell_type": "code",
   "execution_count": 7,
   "metadata": {},
   "outputs": [
    {
     "data": {
      "image/png": "[encoded data removed]",
      "text/plain": [
       "<Figure size 432x288 with 1 Axes>"
      ]
     },
     "metadata": {
      "needs_background": "light"
     },
     "output_type": "display_data"
    }
   ],
   "source": [
    "ssq = []\n",
    "no_cl_min = 1\n",
    "no_cl_max = 12\n",
    "K = range(no_cl_min,no_cl_max)\n",
    "for k in K:\n",
    "    km = KMeans(n_clusters=k)\n",
    "    km = km.fit(sc_reduced_df)\n",
    "    ssq.append(km.inertia_)\n",
    "    \n",
    "plt.plot(K, ssq, 'go-')\n",
    "plt.xlabel('k')\n",
    "plt.ylabel('Sum of squared distances')\n",
    "plt.title('Elbow Method For Optimal k')\n",
    "plt.show()"
   ]
  },
  {
   "cell_type": "code",
   "execution_count": 11,
   "metadata": {},
   "outputs": [],
   "source": [
    "from kmodes.kmodes import KModes"
   ]
  },
  {
   "cell_type": "code",
   "execution_count": 12,
   "metadata": {},
   "outputs": [
    {
     "name": "stdout",
     "output_type": "stream",
     "text": [
      "Init: initializing centroids\n",
      "Init: initializing clusters\n",
      "Starting iterations...\n",
      "Run 1, iteration: 1/100, moves: 0, cost: 1862.0\n",
      "Init: initializing centroids\n",
      "Init: initializing clusters\n",
      "Starting iterations...\n",
      "Run 2, iteration: 1/100, moves: 0, cost: 1862.0\n",
      "Init: initializing centroids\n",
      "Init: initializing clusters\n",
      "Starting iterations...\n",
      "Run 3, iteration: 1/100, moves: 0, cost: 1862.0\n",
      "Init: initializing centroids\n",
      "Init: initializing clusters\n",
      "Starting iterations...\n",
      "Run 4, iteration: 1/100, moves: 0, cost: 1862.0\n",
      "Init: initializing centroids\n",
      "Init: initializing clusters\n",
      "Starting iterations...\n",
      "Run 5, iteration: 1/100, moves: 0, cost: 1862.0\n",
      "Best run was number 1\n",
      "Init: initializing centroids\n",
      "Init: initializing clusters\n",
      "Starting iterations...\n",
      "Run 1, iteration: 1/100, moves: 2, cost: 1427.0\n",
      "Run 1, iteration: 2/100, moves: 0, cost: 1427.0\n",
      "Init: initializing centroids\n",
      "Init: initializing clusters\n",
      "Starting iterations...\n",
      "Run 2, iteration: 1/100, moves: 19, cost: 1440.0\n",
      "Run 2, iteration: 2/100, moves: 6, cost: 1428.0\n",
      "Run 2, iteration: 3/100, moves: 1, cost: 1427.0\n",
      "Run 2, iteration: 4/100, moves: 0, cost: 1427.0\n",
      "Init: initializing centroids\n",
      "Init: initializing clusters\n",
      "Starting iterations...\n",
      "Run 3, iteration: 1/100, moves: 11, cost: 1427.0\n",
      "Run 3, iteration: 2/100, moves: 0, cost: 1427.0\n",
      "Init: initializing centroids\n",
      "Init: initializing clusters\n",
      "Starting iterations...\n",
      "Run 4, iteration: 1/100, moves: 23, cost: 1427.0\n",
      "Run 4, iteration: 2/100, moves: 0, cost: 1427.0\n",
      "Init: initializing centroids\n",
      "Init: initializing clusters\n",
      "Starting iterations...\n",
      "Run 5, iteration: 1/100, moves: 25, cost: 1428.0\n",
      "Run 5, iteration: 2/100, moves: 1, cost: 1427.0\n",
      "Run 5, iteration: 3/100, moves: 0, cost: 1427.0\n",
      "Best run was number 1\n",
      "Init: initializing centroids\n",
      "Init: initializing clusters\n",
      "Starting iterations...\n",
      "Run 1, iteration: 1/100, moves: 15, cost: 1316.0\n",
      "Run 1, iteration: 2/100, moves: 14, cost: 1242.0\n",
      "Run 1, iteration: 3/100, moves: 6, cost: 1188.0\n",
      "Run 1, iteration: 4/100, moves: 1, cost: 1188.0\n",
      "Init: initializing centroids\n",
      "Init: initializing clusters\n",
      "Starting iterations...\n",
      "Run 2, iteration: 1/100, moves: 9, cost: 1215.0\n",
      "Run 2, iteration: 2/100, moves: 3, cost: 1210.0\n",
      "Run 2, iteration: 3/100, moves: 0, cost: 1210.0\n",
      "Init: initializing centroids\n",
      "Init: initializing clusters\n",
      "Starting iterations...\n",
      "Run 3, iteration: 1/100, moves: 6, cost: 1188.0\n",
      "Run 3, iteration: 2/100, moves: 1, cost: 1188.0\n",
      "Init: initializing centroids\n",
      "Init: initializing clusters\n",
      "Starting iterations...\n",
      "Run 4, iteration: 1/100, moves: 14, cost: 1215.0\n",
      "Run 4, iteration: 2/100, moves: 3, cost: 1209.0\n",
      "Run 4, iteration: 3/100, moves: 0, cost: 1209.0\n",
      "Init: initializing centroids\n",
      "Init: initializing clusters\n",
      "Starting iterations...\n",
      "Run 5, iteration: 1/100, moves: 10, cost: 1252.0\n",
      "Run 5, iteration: 2/100, moves: 0, cost: 1252.0\n",
      "Best run was number 1\n",
      "Init: initializing centroids\n",
      "Init: initializing clusters\n",
      "Starting iterations...\n",
      "Run 1, iteration: 1/100, moves: 6, cost: 1048.0\n",
      "Run 1, iteration: 2/100, moves: 0, cost: 1048.0\n",
      "Init: initializing centroids\n",
      "Init: initializing clusters\n",
      "Starting iterations...\n",
      "Run 2, iteration: 1/100, moves: 22, cost: 1231.0\n",
      "Run 2, iteration: 2/100, moves: 9, cost: 1138.0\n",
      "Run 2, iteration: 3/100, moves: 0, cost: 1138.0\n",
      "Init: initializing centroids\n",
      "Init: initializing clusters\n",
      "Starting iterations...\n",
      "Run 3, iteration: 1/100, moves: 31, cost: 1165.0\n",
      "Run 3, iteration: 2/100, moves: 2, cost: 1160.0\n",
      "Run 3, iteration: 3/100, moves: 4, cost: 1140.0\n",
      "Run 3, iteration: 4/100, moves: 0, cost: 1140.0\n",
      "Init: initializing centroids\n",
      "Init: initializing clusters\n",
      "Starting iterations...\n",
      "Run 4, iteration: 1/100, moves: 32, cost: 1056.0\n",
      "Run 4, iteration: 2/100, moves: 0, cost: 1056.0\n",
      "Init: initializing centroids\n",
      "Init: initializing clusters\n",
      "Starting iterations...\n",
      "Run 5, iteration: 1/100, moves: 7, cost: 1102.0\n",
      "Run 5, iteration: 2/100, moves: 0, cost: 1102.0\n",
      "Best run was number 1\n",
      "Init: initializing centroids\n",
      "Init: initializing clusters\n",
      "Starting iterations...\n",
      "Run 1, iteration: 1/100, moves: 4, cost: 1116.0\n",
      "Run 1, iteration: 2/100, moves: 2, cost: 1114.0\n",
      "Run 1, iteration: 3/100, moves: 0, cost: 1114.0\n",
      "Init: initializing centroids\n",
      "Init: initializing clusters\n",
      "Starting iterations...\n",
      "Run 2, iteration: 1/100, moves: 14, cost: 1184.0\n",
      "Run 2, iteration: 2/100, moves: 5, cost: 1133.0\n",
      "Run 2, iteration: 3/100, moves: 3, cost: 1122.0\n",
      "Run 2, iteration: 4/100, moves: 1, cost: 1122.0\n",
      "Init: initializing centroids\n",
      "Init: initializing clusters\n",
      "Starting iterations...\n",
      "Run 3, iteration: 1/100, moves: 4, cost: 1172.0\n",
      "Run 3, iteration: 2/100, moves: 0, cost: 1172.0\n",
      "Init: initializing centroids\n",
      "Init: initializing clusters\n",
      "Starting iterations...\n",
      "Run 4, iteration: 1/100, moves: 21, cost: 1068.0\n",
      "Run 4, iteration: 2/100, moves: 1, cost: 1067.0\n",
      "Run 4, iteration: 3/100, moves: 0, cost: 1067.0\n",
      "Init: initializing centroids\n",
      "Init: initializing clusters\n",
      "Starting iterations...\n",
      "Run 5, iteration: 1/100, moves: 21, cost: 1036.0\n",
      "Run 5, iteration: 2/100, moves: 5, cost: 1031.0\n",
      "Run 5, iteration: 3/100, moves: 0, cost: 1031.0\n",
      "Best run was number 5\n",
      "Init: initializing centroids\n",
      "Init: initializing clusters\n",
      "Starting iterations...\n",
      "Run 1, iteration: 1/100, moves: 10, cost: 929.0\n",
      "Run 1, iteration: 2/100, moves: 1, cost: 928.0\n",
      "Run 1, iteration: 3/100, moves: 0, cost: 928.0\n",
      "Init: initializing centroids\n",
      "Init: initializing clusters\n",
      "Starting iterations...\n",
      "Run 2, iteration: 1/100, moves: 11, cost: 1024.0\n",
      "Run 2, iteration: 2/100, moves: 5, cost: 957.0\n",
      "Run 2, iteration: 3/100, moves: 1, cost: 956.0\n",
      "Run 2, iteration: 4/100, moves: 0, cost: 956.0\n",
      "Init: initializing centroids\n",
      "Init: initializing clusters\n",
      "Starting iterations...\n",
      "Run 3, iteration: 1/100, moves: 4, cost: 998.0\n",
      "Run 3, iteration: 2/100, moves: 0, cost: 998.0\n",
      "Init: initializing centroids\n",
      "Init: initializing clusters\n",
      "Starting iterations...\n",
      "Run 4, iteration: 1/100, moves: 7, cost: 962.0\n",
      "Run 4, iteration: 2/100, moves: 0, cost: 962.0\n",
      "Init: initializing centroids\n",
      "Init: initializing clusters\n",
      "Starting iterations...\n",
      "Run 5, iteration: 1/100, moves: 6, cost: 1093.0\n",
      "Run 5, iteration: 2/100, moves: 6, cost: 1075.0\n",
      "Run 5, iteration: 3/100, moves: 1, cost: 1071.0\n",
      "Run 5, iteration: 4/100, moves: 0, cost: 1071.0\n",
      "Best run was number 1\n",
      "Init: initializing centroids\n",
      "Init: initializing clusters\n",
      "Starting iterations...\n",
      "Run 1, iteration: 1/100, moves: 10, cost: 985.0\n",
      "Run 1, iteration: 2/100, moves: 2, cost: 983.0\n",
      "Run 1, iteration: 3/100, moves: 0, cost: 983.0\n",
      "Init: initializing centroids\n",
      "Init: initializing clusters\n",
      "Starting iterations...\n",
      "Run 2, iteration: 1/100, moves: 11, cost: 1064.0\n",
      "Run 2, iteration: 2/100, moves: 1, cost: 1064.0\n",
      "Init: initializing centroids\n",
      "Init: initializing clusters\n",
      "Starting iterations...\n",
      "Run 3, iteration: 1/100, moves: 13, cost: 890.0\n",
      "Run 3, iteration: 2/100, moves: 2, cost: 886.0\n",
      "Run 3, iteration: 3/100, moves: 0, cost: 886.0\n",
      "Init: initializing centroids\n",
      "Init: initializing clusters\n",
      "Starting iterations...\n",
      "Run 4, iteration: 1/100, moves: 7, cost: 964.0\n",
      "Run 4, iteration: 2/100, moves: 0, cost: 964.0\n",
      "Init: initializing centroids\n",
      "Init: initializing clusters\n",
      "Starting iterations...\n",
      "Run 5, iteration: 1/100, moves: 6, cost: 950.0\n",
      "Run 5, iteration: 2/100, moves: 2, cost: 948.0\n",
      "Run 5, iteration: 3/100, moves: 0, cost: 948.0\n",
      "Best run was number 3\n",
      "Init: initializing centroids\n",
      "Init: initializing clusters\n",
      "Starting iterations...\n",
      "Run 1, iteration: 1/100, moves: 5, cost: 839.0\n",
      "Run 1, iteration: 2/100, moves: 0, cost: 839.0\n",
      "Init: initializing centroids\n",
      "Init: initializing clusters\n",
      "Starting iterations...\n",
      "Run 2, iteration: 1/100, moves: 6, cost: 841.0\n",
      "Run 2, iteration: 2/100, moves: 0, cost: 841.0\n",
      "Init: initializing centroids\n",
      "Init: initializing clusters\n",
      "Starting iterations...\n",
      "Run 3, iteration: 1/100, moves: 10, cost: 949.0\n",
      "Run 3, iteration: 2/100, moves: 5, cost: 941.0\n",
      "Run 3, iteration: 3/100, moves: 0, cost: 941.0\n",
      "Init: initializing centroids\n",
      "Init: initializing clusters\n",
      "Starting iterations...\n",
      "Run 4, iteration: 1/100, moves: 6, cost: 930.0\n",
      "Run 4, iteration: 2/100, moves: 1, cost: 926.0\n",
      "Run 4, iteration: 3/100, moves: 0, cost: 926.0\n",
      "Init: initializing centroids\n",
      "Init: initializing clusters\n",
      "Starting iterations...\n",
      "Run 5, iteration: 1/100, moves: 6, cost: 857.0\n",
      "Run 5, iteration: 2/100, moves: 0, cost: 857.0\n",
      "Best run was number 1\n",
      "Init: initializing centroids\n",
      "Init: initializing clusters\n",
      "Starting iterations...\n",
      "Run 1, iteration: 1/100, moves: 12, cost: 841.0\n",
      "Run 1, iteration: 2/100, moves: 2, cost: 832.0\n",
      "Run 1, iteration: 3/100, moves: 0, cost: 832.0\n",
      "Init: initializing centroids\n",
      "Init: initializing clusters\n"
     ]
    },
    {
     "name": "stdout",
     "output_type": "stream",
     "text": [
      "Starting iterations...\n",
      "Run 2, iteration: 1/100, moves: 7, cost: 989.0\n",
      "Run 2, iteration: 2/100, moves: 1, cost: 989.0\n",
      "Init: initializing centroids\n",
      "Init: initializing clusters\n",
      "Starting iterations...\n",
      "Run 3, iteration: 1/100, moves: 7, cost: 825.0\n",
      "Run 3, iteration: 2/100, moves: 0, cost: 825.0\n",
      "Init: initializing centroids\n",
      "Init: initializing clusters\n",
      "Starting iterations...\n",
      "Run 4, iteration: 1/100, moves: 15, cost: 741.0\n",
      "Run 4, iteration: 2/100, moves: 3, cost: 741.0\n",
      "Init: initializing centroids\n",
      "Init: initializing clusters\n",
      "Starting iterations...\n",
      "Run 5, iteration: 1/100, moves: 11, cost: 859.0\n",
      "Run 5, iteration: 2/100, moves: 4, cost: 847.0\n",
      "Run 5, iteration: 3/100, moves: 0, cost: 847.0\n",
      "Best run was number 4\n"
     ]
    },
    {
     "data": {
      "image/png": "[encoded data removed]",
      "text/plain": [
       "<Figure size 432x288 with 1 Axes>"
      ]
     },
     "metadata": {
      "needs_background": "light"
     },
     "output_type": "display_data"
    }
   ],
   "source": [
    "K = range(1,10)\n",
    "cost = []\n",
    "for k in K:\n",
    "    kmode = KModes(n_clusters=k, init = \"random\", n_init = 5, verbose=1)\n",
    "    kmode.fit(sc_reduced_df)\n",
    "    cost.append(kmode.cost_)\n",
    "    \n",
    "plt.plot(K, cost, 'bx-')\n",
    "plt.xlabel('No. of clusters')\n",
    "plt.ylabel('Cost')\n",
    "plt.title('Elbow Method For Optimal k')\n",
    "plt.show()"
   ]
  },
  {
   "cell_type": "markdown",
   "metadata": {},
   "source": [
    "## Dimensionality Reduction"
   ]
  },
  {
   "cell_type": "code",
   "execution_count": 102,
   "metadata": {},
   "outputs": [],
   "source": [
    "from sklearn.preprocessing import scale\n",
    "from sklearn.decomposition import PCA"
   ]
  },
  {
   "cell_type": "code",
   "execution_count": 103,
   "metadata": {},
   "outputs": [],
   "source": [
    "x_norm = scale(sc_reduced_df)\n",
    "pca_comp = np.min(sc_reduced_df.shape)"
   ]
  },
  {
   "cell_type": "code",
   "execution_count": 104,
   "metadata": {},
   "outputs": [
    {
     "name": "stdout",
     "output_type": "stream",
     "text": [
      "PCA(n_components=70)\n"
     ]
    }
   ],
   "source": [
    "pca = PCA(n_components=pca_comp)\n",
    "pca.fit(x_norm)\n",
    "print(pca)"
   ]
  },
  {
   "cell_type": "code",
   "execution_count": 105,
   "metadata": {},
   "outputs": [],
   "source": [
    "var_rto = pca.explained_variance_ratio_"
   ]
  },
  {
   "cell_type": "markdown",
   "metadata": {},
   "source": [
    "### Plotting the variance ratio"
   ]
  },
  {
   "cell_type": "code",
   "execution_count": 106,
   "metadata": {},
   "outputs": [
    {
     "data": {
      "text/plain": [
       "Text(0, 0.5, 'Variance')"
      ]
     },
     "execution_count": 106,
     "metadata": {},
     "output_type": "execute_result"
    },
    {
     "data": {
      "image/png": "[encoded data removed]",
      "text/plain": [
       "<Figure size 432x288 with 1 Axes>"
      ]
     },
     "metadata": {
      "needs_background": "light"
     },
     "output_type": "display_data"
    }
   ],
   "source": [
    "plt.plot(var_rto)\n",
    "plt.xlabel(\"Principal components\")\n",
    "plt.ylabel(\"Variance\")"
   ]
  },
  {
   "cell_type": "code",
   "execution_count": 107,
   "metadata": {},
   "outputs": [],
   "source": [
    "var_capt = np.cumsum(np.round(pca.explained_variance_ratio_, decimals=4) * 100)"
   ]
  },
  {
   "cell_type": "code",
   "execution_count": null,
   "metadata": {},
   "outputs": [],
   "source": [
    "selected_components = 50"
   ]
  },
  {
   "cell_type": "code",
   "execution_count": 108,
   "metadata": {},
   "outputs": [
    {
     "data": {
      "text/plain": [
       "Text(0, 0.5, 'Variance captured')"
      ]
     },
     "execution_count": 108,
     "metadata": {},
     "output_type": "execute_result"
    },
    {
     "data": {
      "image/png": "[encoded data removed]",
      "text/plain": [
       "<Figure size 432x288 with 1 Axes>"
      ]
     },
     "metadata": {
      "needs_background": "light"
     },
     "output_type": "display_data"
    }
   ],
   "source": [
    "plt.plot(var_capt)\n",
    "plt.xlabel(\"Principal components\")\n",
    "plt.ylabel(\"Variance captured\")"
   ]
  },
  {
   "cell_type": "code",
   "execution_count": 109,
   "metadata": {},
   "outputs": [
    {
     "name": "stdout",
     "output_type": "stream",
     "text": [
      "Captured variance\n",
      "[18.88 32.91 42.2  47.75 52.37 56.72 60.42 63.55 66.4  69.16 71.7  73.99\n",
      " 76.19 78.19 79.91 81.59 83.08 84.43 85.73 86.94 88.12 89.09 89.95 90.73\n",
      " 91.49 92.2  92.86 93.47 94.06 94.58 95.08 95.55 95.99 96.4  96.76 97.11\n",
      " 97.43 97.73 97.97 98.19 98.39 98.58 98.77 98.94 99.1  99.22 99.33 99.42\n",
      " 99.51 99.59 99.66 99.71 99.76 99.8  99.84 99.87 99.89 99.91 99.93 99.95\n",
      " 99.96 99.97 99.98 99.98 99.98 99.98 99.98 99.98 99.98 99.98]\n"
     ]
    }
   ],
   "source": [
    "print(\"Captured variance\")\n",
    "print(var_capt)"
   ]
  },
  {
   "cell_type": "code",
   "execution_count": 111,
   "metadata": {},
   "outputs": [
    {
     "name": "stdout",
     "output_type": "stream",
     "text": [
      "0.06378302423544131\n"
     ]
    }
   ],
   "source": [
    "pca = PCA(n_components=50)\n",
    "z_reduced = pca.fit_transform(x_norm)\n",
    "\n",
    "x_reconstruction = pca.inverse_transform(z_reduced)\n",
    "reconstruction_error = np.linalg.norm(x_norm-x_reconstruction, 'fro')/np.linalg.norm(x_norm, 'fro')\n",
    "print(reconstruction_error)"
   ]
  },
  {
   "cell_type": "markdown",
   "metadata": {},
   "source": [
    "## Common Data Loading and Data Processing functions"
   ]
  },
  {
   "cell_type": "code",
   "execution_count": 13,
   "metadata": {},
   "outputs": [],
   "source": [
    "def load_data(url):\n",
    "    df = pd.read_csv(url)\n",
    "    return df"
   ]
  },
  {
   "cell_type": "code",
   "execution_count": 14,
   "metadata": {},
   "outputs": [],
   "source": [
    "def replace_values(df):\n",
    "    replace_values_spread = {\"Gender\": {\"Female\": 2, \"Male\": 1},\n",
    "                \"family_history_with_overweight\": {\"yes\": 1, \"no\": 0},\n",
    "                \"FAVC\": {\"yes\": 1, \"no\": 0},\n",
    "                \"FCVC\": {3: 0, 2: 1, 1: 2, 0: 3},  \n",
    "                \"CAEC\": {\"no\": 0, \"Sometimes\": 1, \"Frequently\": 2, \"Always\": 3},\n",
    "                \"NCP\": {4: 4, 3: 3, 2: 2, 1: 1},\n",
    "                \"CH20\": {3: 0, 2: 1, 1: 2},  \n",
    "                \"SMOKE\": {\"yes\": 1, \"no\": 0},\n",
    "                \"SCC\": {\"yes\": 0, \"no\": 1},\n",
    "                \"FAF\": {3: 0, 2: 1, 1: 2, 0: 3}, \n",
    "                \"TUE\": {2: 2, 1: 1, 0: 0}, \n",
    "                \"CALC\": {\"no\": 0, \"Sometimes\": 1, \"Frequently\": 2, \"Always\": 3},\n",
    "                \"MTRANS\": {\"Automobile\": 4, \"Public_Transportation\": 2, \"Walking\": 0, \"Motorbike\": 3, \"Bike\": 1}}\n",
    "\n",
    "    df = df.replace(replace_values_spread)\n",
    "    return df"
   ]
  },
  {
   "cell_type": "code",
   "execution_count": 15,
   "metadata": {},
   "outputs": [],
   "source": [
    "def add_type(df):\n",
    "    df['Age'] = df['Age'].astype(int)\n",
    "    df['Height'] = np.round(df['Height'], 2)\n",
    "    df['Weight'] = np.round(df['Weight'], 2)\n",
    "    df['FCVC'] = np.ceil(df['FCVC'])\n",
    "    df['NCP'] = np.ceil(df['NCP'])\n",
    "    df['CH2O'] = np.ceil(df['CH2O'])\n",
    "    df['FAF'] = np.ceil(df['FAF'])\n",
    "    df['TUE'] = np.ceil(df['TUE'])\n",
    "    \n",
    "    return df"
   ]
  },
  {
   "cell_type": "markdown",
   "metadata": {},
   "source": [
    "## Listing all the prediction methods"
   ]
  },
  {
   "cell_type": "code",
   "execution_count": 16,
   "metadata": {},
   "outputs": [],
   "source": [
    "def predict_euclidean_square(point1, point2):\n",
    "    distance = 0.0\n",
    "    for i in range(len(point1)):\n",
    "        distance += (point1[i] - point2[i]) ** 2.0\n",
    "    \n",
    "    return distance"
   ]
  },
  {
   "cell_type": "code",
   "execution_count": 17,
   "metadata": {},
   "outputs": [],
   "source": [
    "def predict_manhattan(point1, point2):\n",
    "    distance = 0.0\n",
    "    dimension = len(point1)\n",
    " \n",
    "    for i in range(dimension):\n",
    "        distance += abs(point1[i] - point2[i])\n",
    "\n",
    "    return distance"
   ]
  },
  {
   "cell_type": "markdown",
   "metadata": {},
   "source": [
    "## Building a machine learning (ML) model for predicting “weight” using all features except “NObeyesdad” and report observed performance. Explain your results based on following criteria:"
   ]
  },
  {
   "cell_type": "markdown",
   "metadata": {},
   "source": [
    "#### Seed and test dataset size configuration"
   ]
  },
  {
   "cell_type": "code",
   "execution_count": 18,
   "metadata": {},
   "outputs": [],
   "source": [
    "r_state = 15\n",
    "test_ds_sz = 0.003"
   ]
  },
  {
   "cell_type": "code",
   "execution_count": 19,
   "metadata": {},
   "outputs": [
    {
     "data": {
      "text/html": [
       "<div>\n",
       "<style scoped>\n",
       "    .dataframe tbody tr th:only-of-type {\n",
       "        vertical-align: middle;\n",
       "    }\n",
       "\n",
       "    .dataframe tbody tr th {\n",
       "        vertical-align: top;\n",
       "    }\n",
       "\n",
       "    .dataframe thead th {\n",
       "        text-align: right;\n",
       "    }\n",
       "</style>\n",
       "<table border=\"1\" class=\"dataframe\">\n",
       "  <thead>\n",
       "    <tr style=\"text-align: right;\">\n",
       "      <th></th>\n",
       "      <th>Gender</th>\n",
       "      <th>Age</th>\n",
       "      <th>Height</th>\n",
       "      <th>Weight</th>\n",
       "      <th>family_history_with_overweight</th>\n",
       "      <th>FAVC</th>\n",
       "      <th>FCVC</th>\n",
       "      <th>NCP</th>\n",
       "      <th>CAEC</th>\n",
       "      <th>SMOKE</th>\n",
       "      <th>CH2O</th>\n",
       "      <th>SCC</th>\n",
       "      <th>FAF</th>\n",
       "      <th>TUE</th>\n",
       "      <th>CALC</th>\n",
       "      <th>MTRANS</th>\n",
       "      <th>NObeyesdad</th>\n",
       "    </tr>\n",
       "  </thead>\n",
       "  <tbody>\n",
       "    <tr>\n",
       "      <th>0</th>\n",
       "      <td>Female</td>\n",
       "      <td>21.0</td>\n",
       "      <td>1.62</td>\n",
       "      <td>64.0</td>\n",
       "      <td>yes</td>\n",
       "      <td>no</td>\n",
       "      <td>2.0</td>\n",
       "      <td>3.0</td>\n",
       "      <td>Sometimes</td>\n",
       "      <td>no</td>\n",
       "      <td>2.0</td>\n",
       "      <td>no</td>\n",
       "      <td>0.0</td>\n",
       "      <td>1.0</td>\n",
       "      <td>no</td>\n",
       "      <td>Public_Transportation</td>\n",
       "      <td>Normal_Weight</td>\n",
       "    </tr>\n",
       "    <tr>\n",
       "      <th>1</th>\n",
       "      <td>Female</td>\n",
       "      <td>21.0</td>\n",
       "      <td>1.52</td>\n",
       "      <td>56.0</td>\n",
       "      <td>yes</td>\n",
       "      <td>no</td>\n",
       "      <td>3.0</td>\n",
       "      <td>3.0</td>\n",
       "      <td>Sometimes</td>\n",
       "      <td>yes</td>\n",
       "      <td>3.0</td>\n",
       "      <td>yes</td>\n",
       "      <td>3.0</td>\n",
       "      <td>0.0</td>\n",
       "      <td>Sometimes</td>\n",
       "      <td>Public_Transportation</td>\n",
       "      <td>Normal_Weight</td>\n",
       "    </tr>\n",
       "    <tr>\n",
       "      <th>2</th>\n",
       "      <td>Male</td>\n",
       "      <td>23.0</td>\n",
       "      <td>1.80</td>\n",
       "      <td>77.0</td>\n",
       "      <td>yes</td>\n",
       "      <td>no</td>\n",
       "      <td>2.0</td>\n",
       "      <td>3.0</td>\n",
       "      <td>Sometimes</td>\n",
       "      <td>no</td>\n",
       "      <td>2.0</td>\n",
       "      <td>no</td>\n",
       "      <td>2.0</td>\n",
       "      <td>1.0</td>\n",
       "      <td>Frequently</td>\n",
       "      <td>Public_Transportation</td>\n",
       "      <td>Normal_Weight</td>\n",
       "    </tr>\n",
       "    <tr>\n",
       "      <th>3</th>\n",
       "      <td>Male</td>\n",
       "      <td>27.0</td>\n",
       "      <td>1.80</td>\n",
       "      <td>87.0</td>\n",
       "      <td>no</td>\n",
       "      <td>no</td>\n",
       "      <td>3.0</td>\n",
       "      <td>3.0</td>\n",
       "      <td>Sometimes</td>\n",
       "      <td>no</td>\n",
       "      <td>2.0</td>\n",
       "      <td>no</td>\n",
       "      <td>2.0</td>\n",
       "      <td>0.0</td>\n",
       "      <td>Frequently</td>\n",
       "      <td>Walking</td>\n",
       "      <td>Overweight_Level_I</td>\n",
       "    </tr>\n",
       "    <tr>\n",
       "      <th>4</th>\n",
       "      <td>Male</td>\n",
       "      <td>22.0</td>\n",
       "      <td>1.78</td>\n",
       "      <td>89.8</td>\n",
       "      <td>no</td>\n",
       "      <td>no</td>\n",
       "      <td>2.0</td>\n",
       "      <td>1.0</td>\n",
       "      <td>Sometimes</td>\n",
       "      <td>no</td>\n",
       "      <td>2.0</td>\n",
       "      <td>no</td>\n",
       "      <td>0.0</td>\n",
       "      <td>0.0</td>\n",
       "      <td>Sometimes</td>\n",
       "      <td>Public_Transportation</td>\n",
       "      <td>Overweight_Level_II</td>\n",
       "    </tr>\n",
       "  </tbody>\n",
       "</table>\n",
       "</div>"
      ],
      "text/plain": [
       "   Gender   Age  Height  Weight family_history_with_overweight FAVC  FCVC  \\\n",
       "0  Female  21.0    1.62    64.0                            yes   no   2.0   \n",
       "1  Female  21.0    1.52    56.0                            yes   no   3.0   \n",
       "2    Male  23.0    1.80    77.0                            yes   no   2.0   \n",
       "3    Male  27.0    1.80    87.0                             no   no   3.0   \n",
       "4    Male  22.0    1.78    89.8                             no   no   2.0   \n",
       "\n",
       "   NCP       CAEC SMOKE  CH2O  SCC  FAF  TUE        CALC  \\\n",
       "0  3.0  Sometimes    no   2.0   no  0.0  1.0          no   \n",
       "1  3.0  Sometimes   yes   3.0  yes  3.0  0.0   Sometimes   \n",
       "2  3.0  Sometimes    no   2.0   no  2.0  1.0  Frequently   \n",
       "3  3.0  Sometimes    no   2.0   no  2.0  0.0  Frequently   \n",
       "4  1.0  Sometimes    no   2.0   no  0.0  0.0   Sometimes   \n",
       "\n",
       "                  MTRANS           NObeyesdad  \n",
       "0  Public_Transportation        Normal_Weight  \n",
       "1  Public_Transportation        Normal_Weight  \n",
       "2  Public_Transportation        Normal_Weight  \n",
       "3                Walking   Overweight_Level_I  \n",
       "4  Public_Transportation  Overweight_Level_II  "
      ]
     },
     "execution_count": 19,
     "metadata": {},
     "output_type": "execute_result"
    }
   ],
   "source": [
    "df_rg = load_data(\"https://raw.githubusercontent.com/pam1202g/SIT720_A2/main/obesity_levels.csv\")\n",
    "\n",
    "\n",
    "df_rg.head()"
   ]
  },
  {
   "cell_type": "code",
   "execution_count": 20,
   "metadata": {},
   "outputs": [],
   "source": [
    "df_rg = add_type(df_rg)"
   ]
  },
  {
   "cell_type": "code",
   "execution_count": 21,
   "metadata": {},
   "outputs": [],
   "source": [
    "df_rg = replace_values(df_rg)"
   ]
  },
  {
   "cell_type": "markdown",
   "metadata": {},
   "source": [
    "#### Stratified Split requires np array, converting dataframe to np arrays"
   ]
  },
  {
   "cell_type": "code",
   "execution_count": 22,
   "metadata": {},
   "outputs": [],
   "source": [
    "weight_col_idx = 4\n",
    "target_df_rg = df_rg.iloc[:,weight_col_idx]\n",
    "\n",
    "feat_list = df_rg.to_numpy()\n",
    "targ_list = target_df_rg.to_numpy()"
   ]
  },
  {
   "cell_type": "markdown",
   "metadata": {},
   "source": [
    "#### Performing StratifiedSplit  that returns stratified randomized folds. This mechpreserving the percentage of samples for each class."
   ]
  },
  {
   "cell_type": "code",
   "execution_count": 23,
   "metadata": {},
   "outputs": [],
   "source": [
    "feat_train = []\n",
    "feat_test = []\n",
    "\n",
    "sss_rg = StratifiedShuffleSplit(n_splits=1, test_size=test_ds_sz, random_state=r_state)\n",
    "sss_rg.get_n_splits(feat_list, targ_list)\n",
    "\n",
    "for tr_idx, test_idx in sss_rg.split(feat_list, targ_list):\n",
    "    feat_train, feat_test = feat_list[tr_idx], feat_list[test_idx]"
   ]
  },
  {
   "cell_type": "markdown",
   "metadata": {},
   "source": [
    "#### Coverting the training data np array back to a dataframe"
   ]
  },
  {
   "cell_type": "code",
   "execution_count": 24,
   "metadata": {},
   "outputs": [],
   "source": [
    "train_df_rg = pd.DataFrame(feat_train, columns=[\"Gender\",\"Age\",\"Height\",\"Weight\",\"family_history_with_overweight\",\"FAVC\",\"FCVC\",\"NCP\",\"CAEC\",\"SMOKE\",\"CH2O\",\"SCC\",\"FAF\",\"TUE\",\"CALC\",\"MTRANS\",\"NObeyesdad\"])"
   ]
  },
  {
   "cell_type": "markdown",
   "metadata": {},
   "source": [
    "#### Removing all the Target and Type variables from the Dataset before unsupervised learning"
   ]
  },
  {
   "cell_type": "code",
   "execution_count": 25,
   "metadata": {},
   "outputs": [],
   "source": [
    "obs_df_train = train_df_rg[[\"Gender\", \"Age\", \"Height\", \"family_history_with_overweight\", \"FAVC\", \"FCVC\", \"NCP\", \"CAEC\", \"SMOKE\", \"CH2O\", \"SCC\", \"FAF\", \"TUE\", \"CALC\", \"MTRANS\"]].copy()"
   ]
  },
  {
   "cell_type": "markdown",
   "metadata": {},
   "source": [
    "####  I am using the reduced dataframe here. Weight and ObesityType field is no longer a part the input dataset used for clustering."
   ]
  },
  {
   "cell_type": "code",
   "execution_count": 26,
   "metadata": {},
   "outputs": [],
   "source": [
    "no_of_fields = 15"
   ]
  },
  {
   "cell_type": "markdown",
   "metadata": {},
   "source": [
    "#### Elbow Plot - From the Elbow plot I am trying to get the optimum number of Clusters"
   ]
  },
  {
   "cell_type": "code",
   "execution_count": 27,
   "metadata": {},
   "outputs": [],
   "source": [
    "ssq_dist = []\n",
    "K = range(1,no_of_fields)\n",
    "for k in K:\n",
    "    km = KMeans(n_clusters=k)\n",
    "    km = km.fit(obs_df_train)\n",
    "    ssq_dist.append(km.inertia_)"
   ]
  },
  {
   "cell_type": "code",
   "execution_count": 28,
   "metadata": {},
   "outputs": [
    {
     "data": {
      "image/png": "[encoded data removed]",
      "text/plain": [
       "<Figure size 432x288 with 1 Axes>"
      ]
     },
     "metadata": {
      "needs_background": "light"
     },
     "output_type": "display_data"
    }
   ],
   "source": [
    "plt.plot(K, ssq_dist, 'go-')\n",
    "plt.xlabel('k')\n",
    "plt.ylabel('Sum of squared distances')\n",
    "plt.title('Elbow Method For Optimal k')\n",
    "plt.show()"
   ]
  },
  {
   "cell_type": "markdown",
   "metadata": {},
   "source": [
    "#### From the Elbow plot I have decided to make 3 clusters for the dataset"
   ]
  },
  {
   "cell_type": "code",
   "execution_count": 29,
   "metadata": {},
   "outputs": [],
   "source": [
    "no_of_clusters = 3"
   ]
  },
  {
   "cell_type": "markdown",
   "metadata": {},
   "source": [
    "#### Converting the DataFrame to the numpy array before Clustering."
   ]
  },
  {
   "cell_type": "code",
   "execution_count": 30,
   "metadata": {},
   "outputs": [],
   "source": [
    "X = obs_df_train.iloc[:,0:no_of_fields].values"
   ]
  },
  {
   "cell_type": "markdown",
   "metadata": {},
   "source": [
    "#### I am using PyClustering library to build the cluster. As I am using different Distance Metric here so I am using the python version of PyClustering"
   ]
  },
  {
   "cell_type": "code",
   "execution_count": 33,
   "metadata": {},
   "outputs": [],
   "source": [
    "from pyclustering.cluster.center_initializer import kmeans_plusplus_initializer\n",
    "from pyclustering.cluster.kmeans import kmeans, kmeans_visualizer\n",
    "from pyclustering.cluster.kmedoids import kmedoids\n",
    "from pyclustering.utils.metric import type_metric, distance_metric\n",
    "from pyclustering.cluster.silhouette import silhouette"
   ]
  },
  {
   "cell_type": "code",
   "execution_count": 34,
   "metadata": {},
   "outputs": [],
   "source": [
    "initial_medoids = kmeans_plusplus_initializer(X, no_of_clusters, random_state=r_state).initialize(return_index=True)\n",
    "metric = distance_metric(type_metric.MANHATTAN, degree=2)\n",
    "kmedoids_instance = kmedoids(X, initial_medoids, metric=metric)\n",
    "kmedoids_instance.process()\n",
    "clusters = kmedoids_instance.get_clusters()\n",
    "medoids = kmedoids_instance.get_medoids()"
   ]
  },
  {
   "cell_type": "markdown",
   "metadata": {},
   "source": [
    "#### Reporting the Cluster Score using the Silhouette score\n",
    "\n",
    "The silhouette method of PyClustering assign a score to each point of the cluster. I am gathering the datapoints and then calculating the aggregate of the silhouette score per cluster.\n",
    "\n",
    "The acceptable silhouette score is between -1 and 1"
   ]
  },
  {
   "cell_type": "code",
   "execution_count": 35,
   "metadata": {},
   "outputs": [
    {
     "name": "stdout",
     "output_type": "stream",
     "text": [
      "2104\n"
     ]
    }
   ],
   "source": [
    "score = silhouette(X, clusters).process().get_score()\n",
    "print(len(score))"
   ]
  },
  {
   "cell_type": "code",
   "execution_count": 36,
   "metadata": {},
   "outputs": [],
   "source": [
    "cluster_0_lst = kmedoids_instance.get_clusters()[0]\n",
    "cluster_1_lst = kmedoids_instance.get_clusters()[1]\n",
    "cluster_2_lst = kmedoids_instance.get_clusters()[2]"
   ]
  },
  {
   "cell_type": "code",
   "execution_count": 37,
   "metadata": {},
   "outputs": [],
   "source": [
    "cluster_0_scores = []\n",
    "cluster_1_scores = []\n",
    "cluster_2_scores = []\n",
    "\n",
    "for idx in cluster_0_lst:\n",
    "    cluster_0_scores.append(score[idx])\n",
    "    \n",
    "for idx in cluster_1_lst:\n",
    "    cluster_1_scores.append(score[idx])\n",
    "\n",
    "for idx in cluster_2_lst:\n",
    "    cluster_2_scores.append(score[idx])"
   ]
  },
  {
   "cell_type": "markdown",
   "metadata": {},
   "source": [
    "print(np.mean(cluster_0_scores))\n",
    "print(np.mean(cluster_1_scores))\n",
    "print(np.mean(cluster_2_scores))"
   ]
  },
  {
   "cell_type": "markdown",
   "metadata": {},
   "source": [
    "##  Cluster Analysis: Calculating the Average Weight of the members per cluster"
   ]
  },
  {
   "cell_type": "markdown",
   "metadata": {},
   "source": [
    "## I am creating a separate copy of the original training dataset for my analysis"
   ]
  },
  {
   "cell_type": "code",
   "execution_count": 38,
   "metadata": {},
   "outputs": [],
   "source": [
    "obs_df_cl = obs_df_train.copy()"
   ]
  },
  {
   "cell_type": "markdown",
   "metadata": {},
   "source": [
    "### Adding a new column called cluster in the analysis ds to view the cluster membership of different points. This is defaulted to -1. After this I am updating this column with the cluster membership lists derived from the cluster such that all the datapoints whose idexes are under a specific cluster will be assigned to that cluster number.\n"
   ]
  },
  {
   "cell_type": "code",
   "execution_count": 39,
   "metadata": {},
   "outputs": [],
   "source": [
    "obs_df_cl.insert(2, \"Cluster\", -1)\n",
    "\n",
    "obs_df_cl.loc[cluster_0_lst, ['Cluster']] = 0\n",
    "obs_df_cl.loc[cluster_1_lst, ['Cluster']] = 1\n",
    "obs_df_cl.loc[cluster_2_lst, ['Cluster']] = 2"
   ]
  },
  {
   "cell_type": "markdown",
   "metadata": {},
   "source": [
    "### Now from the original dataset I am merging back the Weight and NObeyesdad fields. Now we can see the Weigt values for the datapoints in a particular cluster."
   ]
  },
  {
   "cell_type": "code",
   "execution_count": 40,
   "metadata": {},
   "outputs": [],
   "source": [
    "clustered_obs_df = pd.merge(obs_df_cl, train_df_rg[[\"Weight\", \"NObeyesdad\"]], left_index=True, right_index=True)"
   ]
  },
  {
   "cell_type": "markdown",
   "metadata": {},
   "source": [
    "### Now I am extracting 3 different dataframes for each cluster with the aim of performing aggredates on the target column to understand average weight value for the cluster. This average weight values will be the reference points for predicting the Test Data.\n",
    "\n",
    "### For any new datapoint in the test dataset, all I am doing is to calculate the distance from the centers and assign the new DP the closest cluster membership and based on that predicting their target variable values"
   ]
  },
  {
   "cell_type": "code",
   "execution_count": 41,
   "metadata": {},
   "outputs": [],
   "source": [
    "obs_cl0_df = clustered_obs_df[clustered_obs_df['Cluster'] == 0]\n",
    "obs_cl1_df = clustered_obs_df[clustered_obs_df['Cluster'] == 1]\n",
    "obs_cl2_df = clustered_obs_df[clustered_obs_df['Cluster'] == 2]"
   ]
  },
  {
   "cell_type": "code",
   "execution_count": 42,
   "metadata": {},
   "outputs": [
    {
     "name": "stdout",
     "output_type": "stream",
     "text": [
      "100.52000000000001\n",
      "95.19649164677794\n",
      "0    70\n",
      "dtype: object\n",
      "42.85\n",
      "165.06\n"
     ]
    }
   ],
   "source": [
    "print(obs_cl0_df[\"Weight\"].median())\n",
    "print(obs_cl0_df[\"Weight\"].mean())\n",
    "print(obs_cl0_df[\"Weight\"].mode())\n",
    "\n",
    "print(obs_cl0_df[\"Weight\"].min())\n",
    "print(obs_cl0_df[\"Weight\"].max())"
   ]
  },
  {
   "cell_type": "code",
   "execution_count": 43,
   "metadata": {},
   "outputs": [
    {
     "name": "stdout",
     "output_type": "stream",
     "text": [
      "84.16\n",
      "89.58127717391305\n",
      "0    80\n",
      "dtype: object\n",
      "45.0\n",
      "130.0\n"
     ]
    }
   ],
   "source": [
    "print(obs_cl1_df[\"Weight\"].median())\n",
    "print(obs_cl1_df[\"Weight\"].mean())\n",
    "print(obs_cl1_df[\"Weight\"].mode())\n",
    "\n",
    "print(obs_cl1_df[\"Weight\"].min())\n",
    "print(obs_cl1_df[\"Weight\"].max())"
   ]
  },
  {
   "cell_type": "code",
   "execution_count": 44,
   "metadata": {},
   "outputs": [
    {
     "name": "stdout",
     "output_type": "stream",
     "text": [
      "68.99000000000001\n",
      "77.35043429844097\n",
      "0    50\n",
      "dtype: object\n",
      "39.0\n",
      "173.0\n"
     ]
    }
   ],
   "source": [
    "print(obs_cl2_df[\"Weight\"].median())\n",
    "print(obs_cl2_df[\"Weight\"].mean())\n",
    "print(obs_cl2_df[\"Weight\"].mode())\n",
    "\n",
    "print(obs_cl2_df[\"Weight\"].min())\n",
    "print(obs_cl2_df[\"Weight\"].max())"
   ]
  },
  {
   "cell_type": "markdown",
   "metadata": {},
   "source": [
    "### According to the above analysis I can see that the median weight value is close to 100 for cluster 1, 68 for cluster 2 and 84 for cluster 3. I am taking into account the mode values because there are outliers existing in the datasets."
   ]
  },
  {
   "cell_type": "markdown",
   "metadata": {},
   "source": [
    "### Testing with a new DataPoints"
   ]
  },
  {
   "cell_type": "code",
   "execution_count": 45,
   "metadata": {},
   "outputs": [],
   "source": [
    "test_df_rg = pd.DataFrame(feat_test, columns=[\"Gender\",\"Age\",\"Height\",\"Weight\",\"family_history_with_overweight\",\"FAVC\",\"FCVC\",\"NCP\",\"CAEC\",\"SMOKE\",\"CH2O\",\"SCC\",\"FAF\",\"TUE\",\"CALC\",\"MTRANS\",\"NObeyesdad\"])"
   ]
  },
  {
   "cell_type": "code",
   "execution_count": 46,
   "metadata": {},
   "outputs": [],
   "source": [
    "obs_df_test = test_df_rg[[\"Gender\", \"Age\", \"Height\", \"family_history_with_overweight\", \"FAVC\", \"FCVC\", \"NCP\", \"CAEC\", \"SMOKE\", \"CH2O\", \"SCC\", \"FAF\", \"TUE\", \"CALC\", \"MTRANS\"]].copy()"
   ]
  },
  {
   "cell_type": "code",
   "execution_count": 47,
   "metadata": {},
   "outputs": [
    {
     "data": {
      "text/html": [
       "<div>\n",
       "<style scoped>\n",
       "    .dataframe tbody tr th:only-of-type {\n",
       "        vertical-align: middle;\n",
       "    }\n",
       "\n",
       "    .dataframe tbody tr th {\n",
       "        vertical-align: top;\n",
       "    }\n",
       "\n",
       "    .dataframe thead th {\n",
       "        text-align: right;\n",
       "    }\n",
       "</style>\n",
       "<table border=\"1\" class=\"dataframe\">\n",
       "  <thead>\n",
       "    <tr style=\"text-align: right;\">\n",
       "      <th></th>\n",
       "      <th>Gender</th>\n",
       "      <th>Age</th>\n",
       "      <th>Height</th>\n",
       "      <th>family_history_with_overweight</th>\n",
       "      <th>FAVC</th>\n",
       "      <th>FCVC</th>\n",
       "      <th>NCP</th>\n",
       "      <th>CAEC</th>\n",
       "      <th>SMOKE</th>\n",
       "      <th>CH2O</th>\n",
       "      <th>SCC</th>\n",
       "      <th>FAF</th>\n",
       "      <th>TUE</th>\n",
       "      <th>CALC</th>\n",
       "      <th>MTRANS</th>\n",
       "    </tr>\n",
       "  </thead>\n",
       "  <tbody>\n",
       "    <tr>\n",
       "      <th>0</th>\n",
       "      <td>1</td>\n",
       "      <td>18</td>\n",
       "      <td>1.78</td>\n",
       "      <td>1</td>\n",
       "      <td>1</td>\n",
       "      <td>1</td>\n",
       "      <td>4</td>\n",
       "      <td>1</td>\n",
       "      <td>0</td>\n",
       "      <td>3</td>\n",
       "      <td>1</td>\n",
       "      <td>1</td>\n",
       "      <td>2</td>\n",
       "      <td>0</td>\n",
       "      <td>4</td>\n",
       "    </tr>\n",
       "    <tr>\n",
       "      <th>1</th>\n",
       "      <td>1</td>\n",
       "      <td>30</td>\n",
       "      <td>1.91</td>\n",
       "      <td>1</td>\n",
       "      <td>1</td>\n",
       "      <td>0</td>\n",
       "      <td>3</td>\n",
       "      <td>1</td>\n",
       "      <td>0</td>\n",
       "      <td>2</td>\n",
       "      <td>1</td>\n",
       "      <td>2</td>\n",
       "      <td>1</td>\n",
       "      <td>1</td>\n",
       "      <td>2</td>\n",
       "    </tr>\n",
       "    <tr>\n",
       "      <th>2</th>\n",
       "      <td>2</td>\n",
       "      <td>19</td>\n",
       "      <td>1.59</td>\n",
       "      <td>1</td>\n",
       "      <td>1</td>\n",
       "      <td>1</td>\n",
       "      <td>1</td>\n",
       "      <td>0</td>\n",
       "      <td>0</td>\n",
       "      <td>2</td>\n",
       "      <td>1</td>\n",
       "      <td>1</td>\n",
       "      <td>0</td>\n",
       "      <td>0</td>\n",
       "      <td>2</td>\n",
       "    </tr>\n",
       "    <tr>\n",
       "      <th>3</th>\n",
       "      <td>2</td>\n",
       "      <td>39</td>\n",
       "      <td>1.57</td>\n",
       "      <td>1</td>\n",
       "      <td>1</td>\n",
       "      <td>0</td>\n",
       "      <td>2</td>\n",
       "      <td>1</td>\n",
       "      <td>0</td>\n",
       "      <td>2</td>\n",
       "      <td>1</td>\n",
       "      <td>1</td>\n",
       "      <td>0</td>\n",
       "      <td>1</td>\n",
       "      <td>4</td>\n",
       "    </tr>\n",
       "    <tr>\n",
       "      <th>4</th>\n",
       "      <td>1</td>\n",
       "      <td>37</td>\n",
       "      <td>1.75</td>\n",
       "      <td>1</td>\n",
       "      <td>1</td>\n",
       "      <td>0</td>\n",
       "      <td>3</td>\n",
       "      <td>1</td>\n",
       "      <td>0</td>\n",
       "      <td>2</td>\n",
       "      <td>1</td>\n",
       "      <td>2</td>\n",
       "      <td>1</td>\n",
       "      <td>1</td>\n",
       "      <td>4</td>\n",
       "    </tr>\n",
       "  </tbody>\n",
       "</table>\n",
       "</div>"
      ],
      "text/plain": [
       "  Gender Age Height family_history_with_overweight FAVC FCVC NCP CAEC SMOKE  \\\n",
       "0      1  18   1.78                              1    1    1   4    1     0   \n",
       "1      1  30   1.91                              1    1    0   3    1     0   \n",
       "2      2  19   1.59                              1    1    1   1    0     0   \n",
       "3      2  39   1.57                              1    1    0   2    1     0   \n",
       "4      1  37   1.75                              1    1    0   3    1     0   \n",
       "\n",
       "  CH2O SCC FAF TUE CALC MTRANS  \n",
       "0    3   1   1   2    0      4  \n",
       "1    2   1   2   1    1      2  \n",
       "2    2   1   1   0    0      2  \n",
       "3    2   1   1   0    1      4  \n",
       "4    2   1   2   1    1      4  "
      ]
     },
     "execution_count": 47,
     "metadata": {},
     "output_type": "execute_result"
    }
   ],
   "source": [
    "obs_df_test.head()"
   ]
  },
  {
   "cell_type": "code",
   "execution_count": 48,
   "metadata": {},
   "outputs": [
    {
     "data": {
      "text/plain": [
       "7"
      ]
     },
     "execution_count": 48,
     "metadata": {},
     "output_type": "execute_result"
    }
   ],
   "source": [
    "len(obs_df_test)"
   ]
  },
  {
   "cell_type": "code",
   "execution_count": 49,
   "metadata": {},
   "outputs": [
    {
     "name": "stdout",
     "output_type": "stream",
     "text": [
      "[[1, 18, 1.78, 1, 1, 1.0, 4.0, 1, 0, 3.0, 1, 1.0, 2.0, 0, 4], [1, 30, 1.91, 1, 1, 0.0, 3.0, 1, 0, 2.0, 1, 2.0, 1.0, 1, 2], [2, 19, 1.59, 1, 1, 1.0, 1.0, 0, 0, 2.0, 1, 1.0, 0.0, 0, 2], [2, 39, 1.57, 1, 1, 0.0, 2.0, 1, 0, 2.0, 1, 1.0, 0.0, 1, 4], [1, 37, 1.75, 1, 1, 0.0, 3.0, 1, 0, 2.0, 1, 2.0, 1.0, 1, 4], [2, 18, 1.7, 0, 1, 1.0, 4.0, 1, 0, 2.0, 1, 2.0, 1.0, 1, 2], [1, 23, 1.76, 1, 1, 1.0, 3.0, 1, 0, 3.0, 1, 0.0, 2.0, 0, 2]]\n"
     ]
    }
   ],
   "source": [
    "Row_list = []\n",
    "for index, rows in obs_df_test.iterrows(): \n",
    "    my_list =[rows.Gender, rows.Age, rows.Height, rows.family_history_with_overweight, rows.FAVC, rows.FCVC, rows.NCP, rows.CAEC, rows.SMOKE, rows.CH2O, rows.SCC, rows.FAF, rows.TUE, rows.CALC, rows.MTRANS]\n",
    "    Row_list.append(my_list)\n",
    "print(Row_list)"
   ]
  },
  {
   "cell_type": "code",
   "execution_count": 50,
   "metadata": {},
   "outputs": [],
   "source": [
    "md_1 = obs_df_train.iloc[[medoids[0]],:]\n",
    "md_2 = obs_df_train.iloc[[medoids[1]],:]\n",
    "md_3 = obs_df_train.iloc[[medoids[2]],:]"
   ]
  },
  {
   "cell_type": "code",
   "execution_count": 51,
   "metadata": {},
   "outputs": [
    {
     "name": "stdout",
     "output_type": "stream",
     "text": [
      "Cluster proximity for data point 1:  [13.07, 24.1, 9.1]\n",
      "Cluster proximity for data point 2:  [7.2, 8.23, 13.23]\n",
      "Cluster proximity for data point 3:  [14.120000000000001, 23.09, 6.09]\n",
      "Cluster proximity for data point 4:  [22.14, 7.109999999999999, 24.11]\n",
      "Cluster proximity for data point 5:  [16.04, 5.07, 22.07]\n"
     ]
    }
   ],
   "source": [
    "d11m = predict_manhattan(Row_list[0], md_1.values[0])\n",
    "d12m = predict_manhattan(Row_list[0], md_2.values[0])\n",
    "d13m = predict_manhattan(Row_list[0], md_3.values[0])\n",
    "dp_1_cl_proximity = [d11m, d12m, d13m]\n",
    "\n",
    "d21m = predict_manhattan(Row_list[1], md_1.values[0])\n",
    "d22m = predict_manhattan(Row_list[1], md_2.values[0])\n",
    "d23m = predict_manhattan(Row_list[1], md_3.values[0])\n",
    "dp_2_cl_proximity = [d21m, d22m, d23m]\n",
    "\n",
    "d31m = predict_manhattan(Row_list[2], md_1.values[0])\n",
    "d32m = predict_manhattan(Row_list[2], md_2.values[0])\n",
    "d33m = predict_manhattan(Row_list[2], md_3.values[0])\n",
    "dp_3_cl_proximity = [d31m, d32m, d33m]\n",
    "\n",
    "d41m = predict_manhattan(Row_list[3], md_1.values[0])\n",
    "d42m = predict_manhattan(Row_list[3], md_2.values[0])\n",
    "d43m = predict_manhattan(Row_list[3], md_3.values[0])\n",
    "dp_4_cl_proximity = [d41m, d42m, d43m]\n",
    "\n",
    "d51m = predict_manhattan(Row_list[4], md_1.values[0])\n",
    "d52m = predict_manhattan(Row_list[4], md_2.values[0])\n",
    "d53m = predict_manhattan(Row_list[4], md_3.values[0])\n",
    "dp_5_cl_proximity = [d51m, d52m, d53m]\n",
    "\n",
    "print(\"Cluster proximity for data point 1: \", dp_1_cl_proximity)\n",
    "print(\"Cluster proximity for data point 2: \", dp_2_cl_proximity)\n",
    "print(\"Cluster proximity for data point 3: \", dp_3_cl_proximity)\n",
    "print(\"Cluster proximity for data point 4: \", dp_4_cl_proximity)\n",
    "print(\"Cluster proximity for data point 5: \", dp_5_cl_proximity)"
   ]
  },
  {
   "cell_type": "code",
   "execution_count": 52,
   "metadata": {},
   "outputs": [
    {
     "name": "stdout",
     "output_type": "stream",
     "text": [
      "Data point 1 cluster : 2\n",
      "Data point 2 cluster : 0\n",
      "Data point 3 cluster : 2\n",
      "Data point 4 cluster : 1\n",
      "Data point 5 cluster : 1\n"
     ]
    }
   ],
   "source": [
    "dp_1_cluster = dp_1_cl_proximity.index(min(dp_1_cl_proximity))\n",
    "dp_2_cluster = dp_2_cl_proximity.index(min(dp_2_cl_proximity))\n",
    "dp_3_cluster = dp_3_cl_proximity.index(min(dp_3_cl_proximity))\n",
    "dp_4_cluster = dp_4_cl_proximity.index(min(dp_4_cl_proximity))\n",
    "dp_5_cluster = dp_5_cl_proximity.index(min(dp_5_cl_proximity))\n",
    "\n",
    "print(\"Data point 1 cluster :\", dp_1_cluster)\n",
    "print(\"Data point 2 cluster :\", dp_2_cluster)\n",
    "print(\"Data point 3 cluster :\", dp_3_cluster)\n",
    "print(\"Data point 4 cluster :\", dp_4_cluster)\n",
    "print(\"Data point 5 cluster :\", dp_5_cluster)"
   ]
  },
  {
   "cell_type": "markdown",
   "metadata": {},
   "source": [
    "#### Hence we can predict \n",
    "\n",
    "#### The weight value of the first data point is in the vicinity of the median weight score of cluster 2 is 68\n",
    "\n",
    "#### The weight value of the second data point is  in the vicinity of the median weight score of cluster 0 is 100\n",
    "\n",
    "#### The weight value of the third data point is in the vicinity of the median weight score of cluster 0 is 68\n",
    "\n",
    "#### The weight value of the fourth data point is in the vicinity of the median weight score of cluster 1 is 84\n",
    "\n",
    "#### The weight value of the fifth data point is in the vicinity of the median weight score of cluster 1 => 84"
   ]
  },
  {
   "cell_type": "markdown",
   "metadata": {},
   "source": [
    "### Actual Weights of the Test Data points"
   ]
  },
  {
   "cell_type": "code",
   "execution_count": 53,
   "metadata": {},
   "outputs": [
    {
     "data": {
      "text/html": [
       "<div>\n",
       "<style scoped>\n",
       "    .dataframe tbody tr th:only-of-type {\n",
       "        vertical-align: middle;\n",
       "    }\n",
       "\n",
       "    .dataframe tbody tr th {\n",
       "        vertical-align: top;\n",
       "    }\n",
       "\n",
       "    .dataframe thead th {\n",
       "        text-align: right;\n",
       "    }\n",
       "</style>\n",
       "<table border=\"1\" class=\"dataframe\">\n",
       "  <thead>\n",
       "    <tr style=\"text-align: right;\">\n",
       "      <th></th>\n",
       "      <th>Gender</th>\n",
       "      <th>Age</th>\n",
       "      <th>Height</th>\n",
       "      <th>family_history_with_overweight</th>\n",
       "      <th>FAVC</th>\n",
       "      <th>FCVC</th>\n",
       "      <th>NCP</th>\n",
       "      <th>CAEC</th>\n",
       "      <th>SMOKE</th>\n",
       "      <th>CH2O</th>\n",
       "      <th>SCC</th>\n",
       "      <th>FAF</th>\n",
       "      <th>TUE</th>\n",
       "      <th>CALC</th>\n",
       "      <th>MTRANS</th>\n",
       "      <th>Weight</th>\n",
       "      <th>NObeyesdad</th>\n",
       "    </tr>\n",
       "  </thead>\n",
       "  <tbody>\n",
       "    <tr>\n",
       "      <th>0</th>\n",
       "      <td>1</td>\n",
       "      <td>18</td>\n",
       "      <td>1.78</td>\n",
       "      <td>1</td>\n",
       "      <td>1</td>\n",
       "      <td>1</td>\n",
       "      <td>4</td>\n",
       "      <td>1</td>\n",
       "      <td>0</td>\n",
       "      <td>3</td>\n",
       "      <td>1</td>\n",
       "      <td>1</td>\n",
       "      <td>2</td>\n",
       "      <td>0</td>\n",
       "      <td>4</td>\n",
       "      <td>57.28</td>\n",
       "      <td>Insufficient_Weight</td>\n",
       "    </tr>\n",
       "    <tr>\n",
       "      <th>1</th>\n",
       "      <td>1</td>\n",
       "      <td>30</td>\n",
       "      <td>1.91</td>\n",
       "      <td>1</td>\n",
       "      <td>1</td>\n",
       "      <td>0</td>\n",
       "      <td>3</td>\n",
       "      <td>1</td>\n",
       "      <td>0</td>\n",
       "      <td>2</td>\n",
       "      <td>1</td>\n",
       "      <td>2</td>\n",
       "      <td>1</td>\n",
       "      <td>1</td>\n",
       "      <td>2</td>\n",
       "      <td>129.85</td>\n",
       "      <td>Obesity_Type_II</td>\n",
       "    </tr>\n",
       "    <tr>\n",
       "      <th>2</th>\n",
       "      <td>2</td>\n",
       "      <td>19</td>\n",
       "      <td>1.59</td>\n",
       "      <td>1</td>\n",
       "      <td>1</td>\n",
       "      <td>1</td>\n",
       "      <td>1</td>\n",
       "      <td>0</td>\n",
       "      <td>0</td>\n",
       "      <td>2</td>\n",
       "      <td>1</td>\n",
       "      <td>1</td>\n",
       "      <td>0</td>\n",
       "      <td>0</td>\n",
       "      <td>2</td>\n",
       "      <td>49</td>\n",
       "      <td>Normal_Weight</td>\n",
       "    </tr>\n",
       "    <tr>\n",
       "      <th>3</th>\n",
       "      <td>2</td>\n",
       "      <td>39</td>\n",
       "      <td>1.57</td>\n",
       "      <td>1</td>\n",
       "      <td>1</td>\n",
       "      <td>0</td>\n",
       "      <td>2</td>\n",
       "      <td>1</td>\n",
       "      <td>0</td>\n",
       "      <td>2</td>\n",
       "      <td>1</td>\n",
       "      <td>1</td>\n",
       "      <td>0</td>\n",
       "      <td>1</td>\n",
       "      <td>4</td>\n",
       "      <td>80</td>\n",
       "      <td>Obesity_Type_I</td>\n",
       "    </tr>\n",
       "    <tr>\n",
       "      <th>4</th>\n",
       "      <td>1</td>\n",
       "      <td>37</td>\n",
       "      <td>1.75</td>\n",
       "      <td>1</td>\n",
       "      <td>1</td>\n",
       "      <td>0</td>\n",
       "      <td>3</td>\n",
       "      <td>1</td>\n",
       "      <td>0</td>\n",
       "      <td>2</td>\n",
       "      <td>1</td>\n",
       "      <td>2</td>\n",
       "      <td>1</td>\n",
       "      <td>1</td>\n",
       "      <td>4</td>\n",
       "      <td>117.9</td>\n",
       "      <td>Obesity_Type_II</td>\n",
       "    </tr>\n",
       "  </tbody>\n",
       "</table>\n",
       "</div>"
      ],
      "text/plain": [
       "  Gender Age Height family_history_with_overweight FAVC FCVC NCP CAEC SMOKE  \\\n",
       "0      1  18   1.78                              1    1    1   4    1     0   \n",
       "1      1  30   1.91                              1    1    0   3    1     0   \n",
       "2      2  19   1.59                              1    1    1   1    0     0   \n",
       "3      2  39   1.57                              1    1    0   2    1     0   \n",
       "4      1  37   1.75                              1    1    0   3    1     0   \n",
       "\n",
       "  CH2O SCC FAF TUE CALC MTRANS  Weight           NObeyesdad  \n",
       "0    3   1   1   2    0      4   57.28  Insufficient_Weight  \n",
       "1    2   1   2   1    1      2  129.85      Obesity_Type_II  \n",
       "2    2   1   1   0    0      2      49        Normal_Weight  \n",
       "3    2   1   1   0    1      4      80       Obesity_Type_I  \n",
       "4    2   1   2   1    1      4   117.9      Obesity_Type_II  "
      ]
     },
     "execution_count": 53,
     "metadata": {},
     "output_type": "execute_result"
    }
   ],
   "source": [
    "cl_obs_test_df = pd.merge(obs_df_test, test_df_rg[[\"Weight\", \"NObeyesdad\"]], left_index=True, right_index=True)\n",
    "cl_obs_test_df.head()"
   ]
  },
  {
   "cell_type": "code",
   "execution_count": 96,
   "metadata": {},
   "outputs": [
    {
     "name": "stdout",
     "output_type": "stream",
     "text": [
      "Closest Cluster to DataPoint1 : 2\n",
      "Predicting weight for DataPoint1 ===============================\n",
      "Ground Truth  57.28\n",
      "Median Weight calculated for closest cluster :  68.99000000000001\n",
      "Predicted weight for DataPoint1 : 68.99\n",
      "\n",
      "Closest Cluster to DataPoint2 : 0\n",
      "Predicting weight for DataPoint2 ===============================\n",
      "Ground Truth  129.85\n",
      "Median Weight calculated for closest cluster :  100.52000000000001\n",
      "Predicted weight for DataPoint2 : 100.52\n",
      "\n",
      "Closest Cluster to DataPoint3 : 2\n",
      "Predicting weight for DataPoint3 ===============================\n",
      "Ground Truth  49.0\n",
      "Median Weight calculated for closest cluster :  68.99000000000001\n",
      "Predicted weight for DataPoint3 : 68.99\n",
      "\n",
      "Closest Cluster to DataPoint4 : 1\n",
      "Predicting weight for DataPoint4 ===============================\n",
      "Ground Truth  80.0\n",
      "Median Weight calculated for closest cluster :  84.16\n",
      "Predicted weight for DataPoint4 : 84.16\n",
      "\n",
      "Closest Cluster to DataPoint5 : 1\n",
      "Predicting weight for DataPoint5 ===============================\n",
      "Ground Truth  117.9\n",
      "Median Weight calculated for closest cluster :  84.16\n",
      "Predicted weight for DataPoint5 : 84.16\n"
     ]
    }
   ],
   "source": [
    "print(\"Closest Cluster to DataPoint1 :\", dp_1_cluster)\n",
    "print(\"Predicting weight for DataPoint1 ===============================\")\n",
    "print(\"Ground Truth \", cl_obs_test_df.iloc[0].Weight)\n",
    "print(\"Median Weight calculated for closest cluster : \", obs_cl2_df[\"Weight\"].median())\n",
    "print(\"Predicted weight for DataPoint1 :\", np.round(obs_cl2_df[\"Weight\"].median(), 2))\n",
    "\n",
    "print()\n",
    "\n",
    "print(\"Closest Cluster to DataPoint2 :\", dp_2_cluster)\n",
    "print(\"Predicting weight for DataPoint2 ===============================\")\n",
    "print(\"Ground Truth \", cl_obs_test_df.iloc[1].Weight)\n",
    "print(\"Median Weight calculated for closest cluster : \", obs_cl0_df[\"Weight\"].median())\n",
    "print(\"Predicted weight for DataPoint2 :\", np.round(obs_cl0_df[\"Weight\"].median(), 2))\n",
    "\n",
    "print()\n",
    "\n",
    "print(\"Closest Cluster to DataPoint3 :\", dp_3_cluster)\n",
    "print(\"Predicting weight for DataPoint3 ===============================\")\n",
    "print(\"Ground Truth \", cl_obs_test_df.iloc[2].Weight)\n",
    "print(\"Median Weight calculated for closest cluster : \", obs_cl2_df[\"Weight\"].median())\n",
    "print(\"Predicted weight for DataPoint3 :\", np.round(obs_cl2_df[\"Weight\"].median(), 2))\n",
    "\n",
    "print()\n",
    "\n",
    "print(\"Closest Cluster to DataPoint4 :\", dp_4_cluster)\n",
    "print(\"Predicting weight for DataPoint4 ===============================\")\n",
    "print(\"Ground Truth \", cl_obs_test_df.iloc[3].Weight)\n",
    "print(\"Median Weight calculated for closest cluster : \", obs_cl1_df[\"Weight\"].median())\n",
    "print(\"Predicted weight for DataPoint4 :\", np.round(obs_cl1_df[\"Weight\"].median(), 2))\n",
    "\n",
    "print()\n",
    "\n",
    "print(\"Closest Cluster to DataPoint5 :\", dp_5_cluster)\n",
    "print(\"Predicting weight for DataPoint5 ===============================\")\n",
    "print(\"Ground Truth \", cl_obs_test_df.iloc[4].Weight)\n",
    "print(\"Median Weight calculated for closest cluster : \", obs_cl1_df[\"Weight\"].median())\n",
    "print(\"Predicted weight for DataPoint5 :\", np.round(obs_cl1_df[\"Weight\"].median(), 2))"
   ]
  },
  {
   "cell_type": "markdown",
   "metadata": {},
   "source": [
    "#### From the above predictions we can see that the model is able to somehow correctly predict the first 4 datapoints in the dataset and the last one is a higher weight and could be a part of cluster 0."
   ]
  },
  {
   "cell_type": "markdown",
   "metadata": {},
   "source": [
    "###  What model have you selected for solving this problem and why?\n",
    "\n",
    "###   Have you made any assumption for the target variable? If so, then why?\n",
    "\n",
    "###  What have you done with text variables? Explain.\n",
    "\n",
    "###  Have you optimised any model parameters? What is the benefit of this action?\n",
    "\n",
    "###   Have you applied any step for handling overfitting or underfitting issue? What is that?"
   ]
  },
  {
   "cell_type": "markdown",
   "metadata": {},
   "source": [
    "### Answers of Question 4 a, b, c, d are in the pdf document"
   ]
  },
  {
   "cell_type": "markdown",
   "metadata": {},
   "source": [
    "Create a ML model for classifying subjects into two classes applying following constraints on above dataset.\n",
    "Use “NObeyesdad” as target variable and rest of them as predictor variables.\n",
    "drop samples with value “Insufficient Weight” for “NObeyesdad”\n",
    "Group Normal Weight, Overweight Level I, and Overweight Level II into a class, and the other three labels (Obesity Type I, II, III) as the other class.\n",
    "\n",
    " a. Report classification performance scores. Select scores that you think best for describing the model performance with appropriate justification.\n",
    " \n",
    " b. Have you taken any step to check generalisability of the model? What is that and how it ensures generalisability.\n",
    " \n",
    " c. Can you design and develop any other model for solving this problem? If so, then why have you usedthe reported one? Give your justification."
   ]
  },
  {
   "cell_type": "markdown",
   "metadata": {},
   "source": [
    "### Data loading and Data Processing"
   ]
  },
  {
   "cell_type": "code",
   "execution_count": 54,
   "metadata": {},
   "outputs": [
    {
     "data": {
      "text/html": [
       "<div>\n",
       "<style scoped>\n",
       "    .dataframe tbody tr th:only-of-type {\n",
       "        vertical-align: middle;\n",
       "    }\n",
       "\n",
       "    .dataframe tbody tr th {\n",
       "        vertical-align: top;\n",
       "    }\n",
       "\n",
       "    .dataframe thead th {\n",
       "        text-align: right;\n",
       "    }\n",
       "</style>\n",
       "<table border=\"1\" class=\"dataframe\">\n",
       "  <thead>\n",
       "    <tr style=\"text-align: right;\">\n",
       "      <th></th>\n",
       "      <th>Gender</th>\n",
       "      <th>Age</th>\n",
       "      <th>Height</th>\n",
       "      <th>Weight</th>\n",
       "      <th>family_history_with_overweight</th>\n",
       "      <th>FAVC</th>\n",
       "      <th>FCVC</th>\n",
       "      <th>NCP</th>\n",
       "      <th>CAEC</th>\n",
       "      <th>SMOKE</th>\n",
       "      <th>CH2O</th>\n",
       "      <th>SCC</th>\n",
       "      <th>FAF</th>\n",
       "      <th>TUE</th>\n",
       "      <th>CALC</th>\n",
       "      <th>MTRANS</th>\n",
       "      <th>NObeyesdad</th>\n",
       "    </tr>\n",
       "  </thead>\n",
       "  <tbody>\n",
       "    <tr>\n",
       "      <th>0</th>\n",
       "      <td>Female</td>\n",
       "      <td>21.0</td>\n",
       "      <td>1.62</td>\n",
       "      <td>64.0</td>\n",
       "      <td>yes</td>\n",
       "      <td>no</td>\n",
       "      <td>2.0</td>\n",
       "      <td>3.0</td>\n",
       "      <td>Sometimes</td>\n",
       "      <td>no</td>\n",
       "      <td>2.0</td>\n",
       "      <td>no</td>\n",
       "      <td>0.0</td>\n",
       "      <td>1.0</td>\n",
       "      <td>no</td>\n",
       "      <td>Public_Transportation</td>\n",
       "      <td>Normal_Weight</td>\n",
       "    </tr>\n",
       "    <tr>\n",
       "      <th>1</th>\n",
       "      <td>Female</td>\n",
       "      <td>21.0</td>\n",
       "      <td>1.52</td>\n",
       "      <td>56.0</td>\n",
       "      <td>yes</td>\n",
       "      <td>no</td>\n",
       "      <td>3.0</td>\n",
       "      <td>3.0</td>\n",
       "      <td>Sometimes</td>\n",
       "      <td>yes</td>\n",
       "      <td>3.0</td>\n",
       "      <td>yes</td>\n",
       "      <td>3.0</td>\n",
       "      <td>0.0</td>\n",
       "      <td>Sometimes</td>\n",
       "      <td>Public_Transportation</td>\n",
       "      <td>Normal_Weight</td>\n",
       "    </tr>\n",
       "    <tr>\n",
       "      <th>2</th>\n",
       "      <td>Male</td>\n",
       "      <td>23.0</td>\n",
       "      <td>1.80</td>\n",
       "      <td>77.0</td>\n",
       "      <td>yes</td>\n",
       "      <td>no</td>\n",
       "      <td>2.0</td>\n",
       "      <td>3.0</td>\n",
       "      <td>Sometimes</td>\n",
       "      <td>no</td>\n",
       "      <td>2.0</td>\n",
       "      <td>no</td>\n",
       "      <td>2.0</td>\n",
       "      <td>1.0</td>\n",
       "      <td>Frequently</td>\n",
       "      <td>Public_Transportation</td>\n",
       "      <td>Normal_Weight</td>\n",
       "    </tr>\n",
       "    <tr>\n",
       "      <th>3</th>\n",
       "      <td>Male</td>\n",
       "      <td>27.0</td>\n",
       "      <td>1.80</td>\n",
       "      <td>87.0</td>\n",
       "      <td>no</td>\n",
       "      <td>no</td>\n",
       "      <td>3.0</td>\n",
       "      <td>3.0</td>\n",
       "      <td>Sometimes</td>\n",
       "      <td>no</td>\n",
       "      <td>2.0</td>\n",
       "      <td>no</td>\n",
       "      <td>2.0</td>\n",
       "      <td>0.0</td>\n",
       "      <td>Frequently</td>\n",
       "      <td>Walking</td>\n",
       "      <td>Overweight_Level_I</td>\n",
       "    </tr>\n",
       "    <tr>\n",
       "      <th>4</th>\n",
       "      <td>Male</td>\n",
       "      <td>22.0</td>\n",
       "      <td>1.78</td>\n",
       "      <td>89.8</td>\n",
       "      <td>no</td>\n",
       "      <td>no</td>\n",
       "      <td>2.0</td>\n",
       "      <td>1.0</td>\n",
       "      <td>Sometimes</td>\n",
       "      <td>no</td>\n",
       "      <td>2.0</td>\n",
       "      <td>no</td>\n",
       "      <td>0.0</td>\n",
       "      <td>0.0</td>\n",
       "      <td>Sometimes</td>\n",
       "      <td>Public_Transportation</td>\n",
       "      <td>Overweight_Level_II</td>\n",
       "    </tr>\n",
       "  </tbody>\n",
       "</table>\n",
       "</div>"
      ],
      "text/plain": [
       "   Gender   Age  Height  Weight family_history_with_overweight FAVC  FCVC  \\\n",
       "0  Female  21.0    1.62    64.0                            yes   no   2.0   \n",
       "1  Female  21.0    1.52    56.0                            yes   no   3.0   \n",
       "2    Male  23.0    1.80    77.0                            yes   no   2.0   \n",
       "3    Male  27.0    1.80    87.0                             no   no   3.0   \n",
       "4    Male  22.0    1.78    89.8                             no   no   2.0   \n",
       "\n",
       "   NCP       CAEC SMOKE  CH2O  SCC  FAF  TUE        CALC  \\\n",
       "0  3.0  Sometimes    no   2.0   no  0.0  1.0          no   \n",
       "1  3.0  Sometimes   yes   3.0  yes  3.0  0.0   Sometimes   \n",
       "2  3.0  Sometimes    no   2.0   no  2.0  1.0  Frequently   \n",
       "3  3.0  Sometimes    no   2.0   no  2.0  0.0  Frequently   \n",
       "4  1.0  Sometimes    no   2.0   no  0.0  0.0   Sometimes   \n",
       "\n",
       "                  MTRANS           NObeyesdad  \n",
       "0  Public_Transportation        Normal_Weight  \n",
       "1  Public_Transportation        Normal_Weight  \n",
       "2  Public_Transportation        Normal_Weight  \n",
       "3                Walking   Overweight_Level_I  \n",
       "4  Public_Transportation  Overweight_Level_II  "
      ]
     },
     "execution_count": 54,
     "metadata": {},
     "output_type": "execute_result"
    }
   ],
   "source": [
    "df_cl = load_data(\"https://raw.githubusercontent.com/pam1202g/SIT720_A2/main/obesity_levels.csv\")\n",
    "df_cl.head()"
   ]
  },
  {
   "cell_type": "markdown",
   "metadata": {},
   "source": [
    "#### Defining the seed for initialization"
   ]
  },
  {
   "cell_type": "code",
   "execution_count": 86,
   "metadata": {},
   "outputs": [],
   "source": [
    "rand_state = 22"
   ]
  },
  {
   "cell_type": "markdown",
   "metadata": {},
   "source": [
    "### data Processing function"
   ]
  },
  {
   "cell_type": "code",
   "execution_count": 55,
   "metadata": {},
   "outputs": [],
   "source": [
    "def norm_datatypes(df):\n",
    "    df.loc[:,[\"Age\"]] = df.loc[:,[\"Age\"]].astype(int)\n",
    "    df.loc[:,[\"NObeyesdad\"]] = df.loc[:,[\"NObeyesdad\"]].astype(int)\n",
    "\n",
    "    df['Height'] = np.round(df['Height'], 2)\n",
    "    df['Weight'] = np.round(df['Weight'], 2)\n",
    "    df['FCVC'] = np.ceil(df['FCVC'])\n",
    "    df['NCP'] = np.ceil(df['NCP'])\n",
    "    df['CH2O'] = np.ceil(df['CH2O'])\n",
    "    df['FAF'] = np.ceil(df['FAF'])\n",
    "    df['TUE'] = np.ceil(df['TUE'])\n",
    "    \n",
    "    return df"
   ]
  },
  {
   "cell_type": "markdown",
   "metadata": {},
   "source": [
    "### Dropping Insufficient weight and Grouping data into Class 1 (Normal) and Class 2 (Obese) "
   ]
  },
  {
   "cell_type": "code",
   "execution_count": 56,
   "metadata": {},
   "outputs": [],
   "source": [
    "df_cl = df_cl.drop(df_cl[df_cl.NObeyesdad == \"Insufficient_Weight\"].index)\n",
    "df_cl.loc[(df_cl.NObeyesdad == 'Normal_Weight'),'NObeyesdad'] = 0\n",
    "df_cl.loc[(df_cl.NObeyesdad == 'Overweight_Level_I'),'NObeyesdad'] = 0\n",
    "df_cl.loc[(df_cl.NObeyesdad == 'Overweight_Level_II'),'NObeyesdad'] = 0\n",
    "df_cl.loc[(df_cl.NObeyesdad == 'Obesity_Type_I'),'NObeyesdad'] = 1\n",
    "df_cl.loc[(df_cl.NObeyesdad == 'Obesity_Type_II'),'NObeyesdad'] = 1\n",
    "df_cl.loc[(df_cl.NObeyesdad == 'Obesity_Type_III'),'NObeyesdad'] = 1"
   ]
  },
  {
   "cell_type": "markdown",
   "metadata": {},
   "source": [
    "df_proc = norm_datatypes(df)\n",
    "df_norm_proc = norm_values(df_proc)"
   ]
  },
  {
   "cell_type": "code",
   "execution_count": 57,
   "metadata": {},
   "outputs": [],
   "source": [
    "df_cl = replace_values(df_cl)"
   ]
  },
  {
   "cell_type": "code",
   "execution_count": 58,
   "metadata": {},
   "outputs": [],
   "source": [
    "df_cl = norm_datatypes(df_cl)"
   ]
  },
  {
   "cell_type": "markdown",
   "metadata": {},
   "source": [
    "### Reindexing after data processing"
   ]
  },
  {
   "cell_type": "code",
   "execution_count": 59,
   "metadata": {},
   "outputs": [],
   "source": [
    "df_cl.reset_index(drop=True, inplace=True)"
   ]
  },
  {
   "cell_type": "markdown",
   "metadata": {},
   "source": [
    "### Extracting the target data column for prediction and performance evaluation"
   ]
  },
  {
   "cell_type": "code",
   "execution_count": 60,
   "metadata": {},
   "outputs": [],
   "source": [
    "feat_df = df_cl.copy()\n",
    "target_df = df_cl.iloc[:,-1]\n",
    "\n",
    "X = feat_df.to_numpy()\n",
    "Y = target_df.to_numpy()"
   ]
  },
  {
   "cell_type": "markdown",
   "metadata": {},
   "source": [
    "X = feat_df.to_numpy()\n",
    "Y = target_df.to_numpy()"
   ]
  },
  {
   "cell_type": "markdown",
   "metadata": {},
   "source": [
    "### Splitting between Training and Test Data - Using Stratified Random Split\n",
    "\n",
    "I want to make the model as generalizable as possible. So extracting the test data before the begining of the Learning process. The model will never see the test data before the actuai evaluation and reporting process."
   ]
  },
  {
   "cell_type": "code",
   "execution_count": 61,
   "metadata": {},
   "outputs": [],
   "source": [
    "sss = StratifiedShuffleSplit(n_splits=1, test_size=0.05, random_state=rand_state)\n",
    "\n",
    "sss.get_n_splits(X, Y)\n",
    "\n",
    "for train_index, test_index in sss.split(X, Y):\n",
    "    X_train_split, X_test_split = X[train_index], X[test_index]\n",
    "    Y_train_split, Y_test_split = Y[train_index], Y[test_index]"
   ]
  },
  {
   "cell_type": "markdown",
   "metadata": {},
   "source": [
    "### Listing all the prediction methods"
   ]
  },
  {
   "cell_type": "code",
   "execution_count": 62,
   "metadata": {},
   "outputs": [],
   "source": [
    "def predict_euclidean_square(point1, point2):\n",
    "    distance = 0.0\n",
    "    for i in range(len(point1)):\n",
    "        distance += (point1[i] - point2[i]) ** 2.0\n",
    "    \n",
    "    return distance"
   ]
  },
  {
   "cell_type": "code",
   "execution_count": 63,
   "metadata": {},
   "outputs": [],
   "source": [
    "def predict_manhattan(point1, point2):\n",
    "    distance = 0.0\n",
    "    dimension = len(point1)\n",
    " \n",
    "    for i in range(dimension):\n",
    "        distance += abs(point1[i] - point2[i])\n",
    "\n",
    "    return distance"
   ]
  },
  {
   "cell_type": "markdown",
   "metadata": {},
   "source": [
    "### Predicting cluster membership of data "
   ]
  },
  {
   "cell_type": "code",
   "execution_count": 64,
   "metadata": {},
   "outputs": [],
   "source": [
    "def predict_cluster(data_points, dm, centers):\n",
    "    y_pred = []\n",
    "    for i in range(len(data_points)):\n",
    "        a_list = []\n",
    "        if dm == 1:\n",
    "            a_list.append(predict_euclidean_square(data_points[i], centers[0]))\n",
    "            a_list.append(predict_euclidean_square(data_points[i], centers[1]))\n",
    "        if dm == 2:\n",
    "            a_list.append(predict_manhattan(data_points[i], centers[0]))\n",
    "            a_list.append(predict_manhattan(data_points[i], centers[1]))\n",
    "        \n",
    "        min_index = a_list.index(min(a_list))\n",
    "        y_pred.append(min_index)\n",
    "    return y_pred"
   ]
  },
  {
   "cell_type": "markdown",
   "metadata": {},
   "source": [
    "### Distance Metric and Corresponding prediction function mapping"
   ]
  },
  {
   "cell_type": "markdown",
   "metadata": {},
   "source": [
    "## Learning process - 1\n",
    "\n",
    "## Algorithm - K-means\n",
    "## Hyperparameter - Mahattan Distance( Distance Metric used for clustering)"
   ]
  },
  {
   "cell_type": "markdown",
   "metadata": {},
   "source": [
    "### Starting the training and the validation process\n",
    "\n",
    "1. Making the learning process robust by introdicing k-fold cross validation\n",
    "2. Testing different Hyperparameters by introducing different Distance Metric - Manhattan, Euclidean, Hierarchical\n",
    "3. Spilitting the model into Training and Validation sets and applying K-fold cross Validation on each set\n",
    "4. Averaging the accuracy score for each model"
   ]
  },
  {
   "cell_type": "markdown",
   "metadata": {},
   "source": [
    "### Data Split - K-fold Cross Validation using 10 folds"
   ]
  },
  {
   "cell_type": "code",
   "execution_count": 66,
   "metadata": {},
   "outputs": [
    {
     "data": {
      "text/plain": [
       "10"
      ]
     },
     "execution_count": 66,
     "metadata": {},
     "output_type": "execute_result"
    }
   ],
   "source": [
    "kf = KFold(n_splits=10)\n",
    "kf.get_n_splits(X)"
   ]
  },
  {
   "cell_type": "code",
   "execution_count": 67,
   "metadata": {},
   "outputs": [],
   "source": [
    "target_names = ['Normal', 'Obese']\n",
    "accuracy_list_mh = []\n",
    "accuracy_list_ecl_sq = []"
   ]
  },
  {
   "cell_type": "code",
   "execution_count": 68,
   "metadata": {},
   "outputs": [],
   "source": [
    "def learn_kmeans_kfold_with_hyperparam(X, Y, d_metric) -> []:\n",
    "    acc_list = []\n",
    "    for train_index, val_index in kf.split(X, Y):\n",
    "\n",
    "        # splitting the training set features into training and validations\n",
    "        X_train, X_val = X[train_index], X[val_index]\n",
    "    \n",
    "        # splitting the training set targets into training and validations\n",
    "        Y_train, Y_val = Y[train_index], Y[val_index]\n",
    "\n",
    "        # applying k-means clustering using distance metric\n",
    "        initial_centers = kmeans_plusplus_initializer(X_train, 2, random_state=rand_state).initialize()\n",
    "        dist_metric = distance_metric(d_metric, numpy_usage=False)\n",
    "        \n",
    "        kmeans_instance = kmeans(X_train, initial_centers, metric = dist_metric)\n",
    "        kmeans_instance.process()\n",
    "        \n",
    "        # getting the clusters, centers and scores\n",
    "        clusters = kmeans_instance.get_clusters()\n",
    "        centers = kmeans_instance.get_centers()\n",
    "        \n",
    "        score = silhouette(X, clusters).process().get_score()\n",
    "        \n",
    "        y_pred = predict_cluster(X_val, d_metric, centers)\n",
    "        acc_list.append(accuracy_score(Y_val, y_pred))\n",
    "        print(classification_report(Y_val, y_pred, target_names=target_names))\n",
    "        \n",
    "    return acc_list"
   ]
  },
  {
   "cell_type": "code",
   "execution_count": 69,
   "metadata": {},
   "outputs": [
    {
     "name": "stdout",
     "output_type": "stream",
     "text": [
      "              precision    recall  f1-score   support\n",
      "\n",
      "      Normal       0.87      0.98      0.92        88\n",
      "       Obese       0.97      0.85      0.91        87\n",
      "\n",
      "    accuracy                           0.91       175\n",
      "   macro avg       0.92      0.91      0.91       175\n",
      "weighted avg       0.92      0.91      0.91       175\n",
      "\n",
      "              precision    recall  f1-score   support\n",
      "\n",
      "      Normal       0.79      0.96      0.87        84\n",
      "       Obese       0.96      0.76      0.85        91\n",
      "\n",
      "    accuracy                           0.86       175\n",
      "   macro avg       0.87      0.86      0.86       175\n",
      "weighted avg       0.88      0.86      0.86       175\n",
      "\n",
      "              precision    recall  f1-score   support\n",
      "\n",
      "      Normal       0.81      1.00      0.90        77\n",
      "       Obese       1.00      0.82      0.90        98\n",
      "\n",
      "    accuracy                           0.90       175\n",
      "   macro avg       0.91      0.91      0.90       175\n",
      "weighted avg       0.92      0.90      0.90       175\n",
      "\n",
      "              precision    recall  f1-score   support\n",
      "\n",
      "      Normal       0.80      0.99      0.89        82\n",
      "       Obese       0.99      0.78      0.87        93\n",
      "\n",
      "    accuracy                           0.88       175\n",
      "   macro avg       0.89      0.89      0.88       175\n",
      "weighted avg       0.90      0.88      0.88       175\n",
      "\n",
      "              precision    recall  f1-score   support\n",
      "\n",
      "      Normal       0.77      0.95      0.85        75\n",
      "       Obese       0.95      0.79      0.86       100\n",
      "\n",
      "    accuracy                           0.86       175\n",
      "   macro avg       0.86      0.87      0.86       175\n",
      "weighted avg       0.87      0.86      0.86       175\n",
      "\n",
      "              precision    recall  f1-score   support\n",
      "\n",
      "      Normal       0.78      0.96      0.86        77\n",
      "       Obese       0.96      0.79      0.87        98\n",
      "\n",
      "    accuracy                           0.86       175\n",
      "   macro avg       0.87      0.87      0.86       175\n",
      "weighted avg       0.88      0.86      0.86       175\n",
      "\n",
      "              precision    recall  f1-score   support\n",
      "\n",
      "      Normal       0.85      0.98      0.91        82\n",
      "       Obese       0.98      0.85      0.91        93\n",
      "\n",
      "    accuracy                           0.91       175\n",
      "   macro avg       0.91      0.91      0.91       175\n",
      "weighted avg       0.92      0.91      0.91       175\n",
      "\n",
      "              precision    recall  f1-score   support\n",
      "\n",
      "      Normal       0.81      0.99      0.89        82\n",
      "       Obese       0.99      0.79      0.88        92\n",
      "\n",
      "    accuracy                           0.89       174\n",
      "   macro avg       0.90      0.89      0.88       174\n",
      "weighted avg       0.90      0.89      0.88       174\n",
      "\n",
      "              precision    recall  f1-score   support\n",
      "\n",
      "      Normal       0.80      0.94      0.87        87\n",
      "       Obese       0.93      0.77      0.84        87\n",
      "\n",
      "    accuracy                           0.86       174\n",
      "   macro avg       0.87      0.86      0.86       174\n",
      "weighted avg       0.87      0.86      0.86       174\n",
      "\n",
      "              precision    recall  f1-score   support\n",
      "\n",
      "      Normal       0.85      0.98      0.91        90\n",
      "       Obese       0.97      0.81      0.88        84\n",
      "\n",
      "    accuracy                           0.90       174\n",
      "   macro avg       0.91      0.89      0.90       174\n",
      "weighted avg       0.91      0.90      0.90       174\n",
      "\n"
     ]
    }
   ],
   "source": [
    "accuracy_list_mh = learn_kmeans_kfold_with_hyperparam(X_train_split, Y_train_split, type_metric.MANHATTAN)"
   ]
  },
  {
   "cell_type": "code",
   "execution_count": 70,
   "metadata": {},
   "outputs": [
    {
     "data": {
      "text/plain": [
       "'Printing accuracy list of the 10 folds(kmeans with Manhattan): [0.9142857142857143, 0.8571428571428571, 0.8971428571428571, 0.88, 0.8571428571428571, 0.8628571428571429, 0.9085714285714286, 0.8850574712643678, 0.8563218390804598, 0.896551724137931]'"
      ]
     },
     "execution_count": 70,
     "metadata": {},
     "output_type": "execute_result"
    }
   ],
   "source": [
    "f\"Printing accuracy list of the {kf.get_n_splits(X)} folds(kmeans with Manhattan): {accuracy_list_mh}\""
   ]
  },
  {
   "cell_type": "markdown",
   "metadata": {},
   "source": [
    "### Printing average accuracy of kmeans cluster using Manhattan distance"
   ]
  },
  {
   "cell_type": "code",
   "execution_count": 71,
   "metadata": {},
   "outputs": [
    {
     "data": {
      "text/plain": [
       "'Printing accuracy list of all the k-means model 0.8815073891625615'"
      ]
     },
     "execution_count": 71,
     "metadata": {},
     "output_type": "execute_result"
    }
   ],
   "source": [
    "f\"Printing accuracy list of all the k-means model {np.mean(accuracy_list_mh)}\""
   ]
  },
  {
   "cell_type": "markdown",
   "metadata": {},
   "source": [
    "### Algorithm - K-means\n",
    "### Hyperparameter - Euclidean Square Distance( Distance Metric used for clustering)"
   ]
  },
  {
   "cell_type": "code",
   "execution_count": 72,
   "metadata": {},
   "outputs": [
    {
     "name": "stdout",
     "output_type": "stream",
     "text": [
      "              precision    recall  f1-score   support\n",
      "\n",
      "      Normal       0.87      0.98      0.92        88\n",
      "       Obese       0.97      0.85      0.91        87\n",
      "\n",
      "    accuracy                           0.91       175\n",
      "   macro avg       0.92      0.91      0.91       175\n",
      "weighted avg       0.92      0.91      0.91       175\n",
      "\n",
      "              precision    recall  f1-score   support\n",
      "\n",
      "      Normal       0.79      0.96      0.87        84\n",
      "       Obese       0.96      0.76      0.85        91\n",
      "\n",
      "    accuracy                           0.86       175\n",
      "   macro avg       0.87      0.86      0.86       175\n",
      "weighted avg       0.88      0.86      0.86       175\n",
      "\n",
      "              precision    recall  f1-score   support\n",
      "\n",
      "      Normal       0.81      1.00      0.90        77\n",
      "       Obese       1.00      0.82      0.90        98\n",
      "\n",
      "    accuracy                           0.90       175\n",
      "   macro avg       0.91      0.91      0.90       175\n",
      "weighted avg       0.92      0.90      0.90       175\n",
      "\n",
      "              precision    recall  f1-score   support\n",
      "\n",
      "      Normal       0.80      0.99      0.89        82\n",
      "       Obese       0.99      0.78      0.87        93\n",
      "\n",
      "    accuracy                           0.88       175\n",
      "   macro avg       0.89      0.89      0.88       175\n",
      "weighted avg       0.90      0.88      0.88       175\n",
      "\n",
      "              precision    recall  f1-score   support\n",
      "\n",
      "      Normal       0.76      0.95      0.85        75\n",
      "       Obese       0.95      0.78      0.86       100\n",
      "\n",
      "    accuracy                           0.85       175\n",
      "   macro avg       0.86      0.86      0.85       175\n",
      "weighted avg       0.87      0.85      0.85       175\n",
      "\n",
      "              precision    recall  f1-score   support\n",
      "\n",
      "      Normal       0.77      0.95      0.85        77\n",
      "       Obese       0.95      0.78      0.85        98\n",
      "\n",
      "    accuracy                           0.85       175\n",
      "   macro avg       0.86      0.86      0.85       175\n",
      "weighted avg       0.87      0.85      0.85       175\n",
      "\n",
      "              precision    recall  f1-score   support\n",
      "\n",
      "      Normal       0.85      0.98      0.91        82\n",
      "       Obese       0.98      0.85      0.91        93\n",
      "\n",
      "    accuracy                           0.91       175\n",
      "   macro avg       0.91      0.91      0.91       175\n",
      "weighted avg       0.92      0.91      0.91       175\n",
      "\n",
      "              precision    recall  f1-score   support\n",
      "\n",
      "      Normal       0.79      0.99      0.88        82\n",
      "       Obese       0.99      0.77      0.87        92\n",
      "\n",
      "    accuracy                           0.87       174\n",
      "   macro avg       0.89      0.88      0.87       174\n",
      "weighted avg       0.90      0.87      0.87       174\n",
      "\n",
      "              precision    recall  f1-score   support\n",
      "\n",
      "      Normal       0.80      0.94      0.87        87\n",
      "       Obese       0.93      0.77      0.84        87\n",
      "\n",
      "    accuracy                           0.86       174\n",
      "   macro avg       0.87      0.86      0.86       174\n",
      "weighted avg       0.87      0.86      0.86       174\n",
      "\n",
      "              precision    recall  f1-score   support\n",
      "\n",
      "      Normal       0.85      0.98      0.91        90\n",
      "       Obese       0.97      0.81      0.88        84\n",
      "\n",
      "    accuracy                           0.90       174\n",
      "   macro avg       0.91      0.89      0.90       174\n",
      "weighted avg       0.91      0.90      0.90       174\n",
      "\n"
     ]
    }
   ],
   "source": [
    "accuracy_list_ecl_sq = learn_kmeans_kfold_with_hyperparam(X_train_split, Y_train_split, type_metric.EUCLIDEAN_SQUARE)"
   ]
  },
  {
   "cell_type": "code",
   "execution_count": 73,
   "metadata": {},
   "outputs": [
    {
     "data": {
      "text/plain": [
       "'Printing accuracy list of the 10 folds(kmeans with Euclidean SQ): [0.9142857142857143, 0.8571428571428571, 0.8971428571428571, 0.88, 0.8514285714285714, 0.8514285714285714, 0.9085714285714286, 0.8735632183908046, 0.8563218390804598, 0.896551724137931]'"
      ]
     },
     "execution_count": 73,
     "metadata": {},
     "output_type": "execute_result"
    }
   ],
   "source": [
    "f\"Printing accuracy list of the {kf.get_n_splits(X)} folds(kmeans with Euclidean SQ): {accuracy_list_ecl_sq}\""
   ]
  },
  {
   "cell_type": "markdown",
   "metadata": {},
   "source": [
    "### Printing average accuracy of kmeans cluster using Euclidean Square"
   ]
  },
  {
   "cell_type": "code",
   "execution_count": 74,
   "metadata": {},
   "outputs": [
    {
     "data": {
      "text/plain": [
       "'Printing accuracy list of all the k-means model 0.8786436781609195'"
      ]
     },
     "execution_count": 74,
     "metadata": {},
     "output_type": "execute_result"
    }
   ],
   "source": [
    "f\"Printing accuracy list of all the k-means model {np.mean(accuracy_list_ecl_sq)}\""
   ]
  },
  {
   "cell_type": "markdown",
   "metadata": {},
   "source": [
    "### Algorithm - Agglomerative"
   ]
  },
  {
   "cell_type": "markdown",
   "metadata": {},
   "source": [
    "### Data Split - K-fold Cross Validation using 10 folds"
   ]
  },
  {
   "cell_type": "code",
   "execution_count": 75,
   "metadata": {},
   "outputs": [
    {
     "data": {
      "text/plain": [
       "10"
      ]
     },
     "execution_count": 75,
     "metadata": {},
     "output_type": "execute_result"
    }
   ],
   "source": [
    "kf = KFold(n_splits=10)\n",
    "kf.get_n_splits(X)"
   ]
  },
  {
   "cell_type": "code",
   "execution_count": 76,
   "metadata": {},
   "outputs": [],
   "source": [
    "accuracy_list_aggl = []"
   ]
  },
  {
   "cell_type": "code",
   "execution_count": 77,
   "metadata": {},
   "outputs": [],
   "source": [
    "def learn_aggl_kfold_with_hyperparam(X, Y):\n",
    "    \n",
    "    for train_index, val_index in kf.split(X, Y):\n",
    "        # splitting the training set features into training and validations\n",
    "        X_train, X_val = X[train_index], X[val_index]\n",
    "    \n",
    "        # splitting the training set targets into training and validations\n",
    "        Y_train, Y_val = Y[train_index], Y[val_index]\n",
    "        \n",
    "        clustering = AgglomerativeClustering().fit(X)\n",
    "        y_pred = clustering.fit_predict(X_val)\n",
    "        accuracy_list_aggl.append(accuracy_score(Y_val, y_pred))\n",
    "        print(classification_report(Y_val, y_pred, target_names=target_names))"
   ]
  },
  {
   "cell_type": "code",
   "execution_count": 78,
   "metadata": {},
   "outputs": [
    {
     "name": "stdout",
     "output_type": "stream",
     "text": [
      "              precision    recall  f1-score   support\n",
      "\n",
      "      Normal       0.87      0.98      0.92        88\n",
      "       Obese       0.97      0.85      0.91        87\n",
      "\n",
      "    accuracy                           0.91       175\n",
      "   macro avg       0.92      0.91      0.91       175\n",
      "weighted avg       0.92      0.91      0.91       175\n",
      "\n",
      "              precision    recall  f1-score   support\n",
      "\n",
      "      Normal       0.75      0.99      0.86        84\n",
      "       Obese       0.98      0.70      0.82        91\n",
      "\n",
      "    accuracy                           0.84       175\n",
      "   macro avg       0.87      0.85      0.84       175\n",
      "weighted avg       0.87      0.84      0.84       175\n",
      "\n",
      "              precision    recall  f1-score   support\n",
      "\n",
      "      Normal       0.79      0.99      0.88        77\n",
      "       Obese       0.99      0.80      0.88        98\n",
      "\n",
      "    accuracy                           0.88       175\n",
      "   macro avg       0.89      0.89      0.88       175\n",
      "weighted avg       0.90      0.88      0.88       175\n",
      "\n",
      "              precision    recall  f1-score   support\n",
      "\n",
      "      Normal       0.01      0.01      0.01        82\n",
      "       Obese       0.20      0.22      0.21        93\n",
      "\n",
      "    accuracy                           0.12       175\n",
      "   macro avg       0.11      0.11      0.11       175\n",
      "weighted avg       0.11      0.12      0.12       175\n",
      "\n",
      "              precision    recall  f1-score   support\n",
      "\n",
      "      Normal       0.65      1.00      0.79        75\n",
      "       Obese       1.00      0.59      0.74       100\n",
      "\n",
      "    accuracy                           0.77       175\n",
      "   macro avg       0.82      0.79      0.76       175\n",
      "weighted avg       0.85      0.77      0.76       175\n",
      "\n",
      "              precision    recall  f1-score   support\n",
      "\n",
      "      Normal       0.05      0.05      0.05        77\n",
      "       Obese       0.22      0.20      0.21        98\n",
      "\n",
      "    accuracy                           0.14       175\n",
      "   macro avg       0.13      0.13      0.13       175\n",
      "weighted avg       0.14      0.14      0.14       175\n",
      "\n",
      "              precision    recall  f1-score   support\n",
      "\n",
      "      Normal       0.86      0.98      0.91        82\n",
      "       Obese       0.98      0.86      0.91        93\n",
      "\n",
      "    accuracy                           0.91       175\n",
      "   macro avg       0.92      0.92      0.91       175\n",
      "weighted avg       0.92      0.91      0.91       175\n",
      "\n",
      "              precision    recall  f1-score   support\n",
      "\n",
      "      Normal       0.65      1.00      0.78        82\n",
      "       Obese       1.00      0.51      0.68        92\n",
      "\n",
      "    accuracy                           0.74       174\n",
      "   macro avg       0.82      0.76      0.73       174\n",
      "weighted avg       0.83      0.74      0.73       174\n",
      "\n",
      "              precision    recall  f1-score   support\n",
      "\n",
      "      Normal       0.09      0.08      0.09        87\n",
      "       Obese       0.20      0.23      0.21        87\n",
      "\n",
      "    accuracy                           0.16       174\n",
      "   macro avg       0.15      0.16      0.15       174\n",
      "weighted avg       0.15      0.16      0.15       174\n",
      "\n",
      "              precision    recall  f1-score   support\n",
      "\n",
      "      Normal       0.79      1.00      0.88        90\n",
      "       Obese       1.00      0.71      0.83        84\n",
      "\n",
      "    accuracy                           0.86       174\n",
      "   macro avg       0.89      0.86      0.86       174\n",
      "weighted avg       0.89      0.86      0.86       174\n",
      "\n"
     ]
    }
   ],
   "source": [
    "learn_aggl_kfold_with_hyperparam(X_train_split, Y_train_split)"
   ]
  },
  {
   "cell_type": "code",
   "execution_count": 79,
   "metadata": {},
   "outputs": [
    {
     "data": {
      "text/plain": [
       "'Printing accuracy list of the 10 folds : [0.9142857142857143, 0.84, 0.88, 0.12, 0.7657142857142857, 0.13714285714285715, 0.9142857142857143, 0.7413793103448276, 0.15517241379310345, 0.8620689655172413]'"
      ]
     },
     "execution_count": 79,
     "metadata": {},
     "output_type": "execute_result"
    }
   ],
   "source": [
    "f\"Printing accuracy list of the {kf.get_n_splits(X)} folds : {accuracy_list_aggl}\""
   ]
  },
  {
   "cell_type": "markdown",
   "metadata": {},
   "source": [
    "### Printing average accuracy of Agglomerative cluster"
   ]
  },
  {
   "cell_type": "code",
   "execution_count": 80,
   "metadata": {},
   "outputs": [
    {
     "data": {
      "text/plain": [
       "'Printing accuracy list of all the k-means model 0.6330049261083743'"
      ]
     },
     "execution_count": 80,
     "metadata": {},
     "output_type": "execute_result"
    }
   ],
   "source": [
    "f\"Printing accuracy list of all the k-means model {np.mean(accuracy_list_aggl)}\""
   ]
  },
  {
   "cell_type": "markdown",
   "metadata": {},
   "source": [
    "## Training and Testing the best performing model to generate prediction"
   ]
  },
  {
   "cell_type": "markdown",
   "metadata": {},
   "source": [
    "### Training the whole dataset using kmeans with Manhattan distance and generating predictions"
   ]
  },
  {
   "cell_type": "markdown",
   "metadata": {},
   "source": [
    "# applying k-means clustering using distance metric\n",
    "initial_centers = kmeans_plusplus_initializer(X_train_split, 2, random_state=22).initialize()\n",
    "dist_metric = distance_metric(type_metric.MANHATTAN, numpy_usage=False)\n",
    "\n",
    "kmeans_instance = kmeans(X_train_split, initial_centers, metric = dist_metric)\n",
    "kmeans_instance.process()\n",
    "\n",
    "# getting the clusters, centers and scores\n",
    "clusters = kmeans_instance.get_clusters()\n",
    "centers = kmeans_instance.get_centers()\n",
    "\n",
    "score = silhouette(X, clusters).process().get_score()\n",
    "\n",
    "y_pred = predict_cluster(X_test_split, type_metric.MANHATTAN, centers)"
   ]
  },
  {
   "cell_type": "markdown",
   "metadata": {},
   "source": [
    "### Printing the  Accuracy of the best performing model"
   ]
  },
  {
   "cell_type": "code",
   "execution_count": 82,
   "metadata": {},
   "outputs": [
    {
     "data": {
      "text/plain": [
       "'Printing accuracy list of all the k-means model 0.9130434782608695'"
      ]
     },
     "execution_count": 82,
     "metadata": {},
     "output_type": "execute_result"
    }
   ],
   "source": [
    "accuracy = accuracy_score(Y_test_split, y_pred)\n",
    "\n",
    "f\"Printing accuracy list of all the k-means model {accuracy}\""
   ]
  },
  {
   "cell_type": "markdown",
   "metadata": {},
   "source": [
    "### Printing the  Classification Report of the best performing model\n"
   ]
  },
  {
   "cell_type": "code",
   "execution_count": 83,
   "metadata": {},
   "outputs": [
    {
     "name": "stdout",
     "output_type": "stream",
     "text": [
      "              precision    recall  f1-score   support\n",
      "\n",
      "      Normal       0.84      1.00      0.91        43\n",
      "       Obese       1.00      0.84      0.91        49\n",
      "\n",
      "    accuracy                           0.91        92\n",
      "   macro avg       0.92      0.92      0.91        92\n",
      "weighted avg       0.93      0.91      0.91        92\n",
      "\n"
     ]
    }
   ],
   "source": [
    "print(classification_report(Y_test_split, y_pred, target_names=target_names))"
   ]
  },
  {
   "cell_type": "markdown",
   "metadata": {},
   "source": [
    "### Creating the confusion matrix"
   ]
  },
  {
   "cell_type": "code",
   "execution_count": 84,
   "metadata": {},
   "outputs": [],
   "source": [
    "from sklearn.metrics import confusion_matrix"
   ]
  },
  {
   "cell_type": "code",
   "execution_count": 85,
   "metadata": {},
   "outputs": [
    {
     "data": {
      "text/plain": [
       "array([[43,  0],\n",
       "       [ 8, 41]])"
      ]
     },
     "execution_count": 85,
     "metadata": {},
     "output_type": "execute_result"
    }
   ],
   "source": [
    "confusion_matrix(Y_test_split, y_pred)"
   ]
  },
  {
   "cell_type": "markdown",
   "metadata": {},
   "source": [
    "## Suppose that a company has a number (>=500) of resorts around the globe.\n",
    "\n",
    "a. Identify a list of features (>=5) that can be used to describe these resorts.\n",
    "\n",
    "b. Create a dataset (rows>=500) and explain all variables. You can generate data either synthetically or collecting from similar datasets. Submit your created dataset. In addition, please provide links in case you have collected the dataset.\n",
    "\n",
    "c. Build a ML model that can help a customer to select appropriate set of resorts based on the season of travel. Present and describe the performance of your model.\n",
    "\n",
    "d. Why do we need a ML model for this problem?</b>"
   ]
  },
  {
   "cell_type": "code",
   "execution_count": 112,
   "metadata": {},
   "outputs": [
    {
     "data": {
      "text/html": [
       "<div>\n",
       "<style scoped>\n",
       "    .dataframe tbody tr th:only-of-type {\n",
       "        vertical-align: middle;\n",
       "    }\n",
       "\n",
       "    .dataframe tbody tr th {\n",
       "        vertical-align: top;\n",
       "    }\n",
       "\n",
       "    .dataframe thead th {\n",
       "        text-align: right;\n",
       "    }\n",
       "</style>\n",
       "<table border=\"1\" class=\"dataframe\">\n",
       "  <thead>\n",
       "    <tr style=\"text-align: right;\">\n",
       "      <th></th>\n",
       "      <th>location</th>\n",
       "      <th>air_conditioning</th>\n",
       "      <th>beach_front</th>\n",
       "      <th>outdoor_pool</th>\n",
       "      <th>animal_reserve</th>\n",
       "      <th>scenic_beauty</th>\n",
       "      <th>golfing</th>\n",
       "      <th>chair_lift</th>\n",
       "      <th>sauna</th>\n",
       "      <th>fall_colors</th>\n",
       "      <th>snowmobile_tours</th>\n",
       "      <th>skiing</th>\n",
       "      <th>aurora</th>\n",
       "      <th>season</th>\n",
       "    </tr>\n",
       "  </thead>\n",
       "  <tbody>\n",
       "    <tr>\n",
       "      <th>0</th>\n",
       "      <td>Alaska</td>\n",
       "      <td>0</td>\n",
       "      <td>0</td>\n",
       "      <td>0</td>\n",
       "      <td>0</td>\n",
       "      <td>0</td>\n",
       "      <td>0</td>\n",
       "      <td>1</td>\n",
       "      <td>1</td>\n",
       "      <td>0</td>\n",
       "      <td>1</td>\n",
       "      <td>1</td>\n",
       "      <td>0</td>\n",
       "      <td>winter</td>\n",
       "    </tr>\n",
       "    <tr>\n",
       "      <th>1</th>\n",
       "      <td>Arkhyz</td>\n",
       "      <td>0</td>\n",
       "      <td>0</td>\n",
       "      <td>0</td>\n",
       "      <td>0</td>\n",
       "      <td>0</td>\n",
       "      <td>0</td>\n",
       "      <td>1</td>\n",
       "      <td>1</td>\n",
       "      <td>0</td>\n",
       "      <td>1</td>\n",
       "      <td>1</td>\n",
       "      <td>0</td>\n",
       "      <td>winter</td>\n",
       "    </tr>\n",
       "    <tr>\n",
       "      <th>2</th>\n",
       "      <td>Zermatt</td>\n",
       "      <td>0</td>\n",
       "      <td>0</td>\n",
       "      <td>0</td>\n",
       "      <td>0</td>\n",
       "      <td>0</td>\n",
       "      <td>0</td>\n",
       "      <td>1</td>\n",
       "      <td>1</td>\n",
       "      <td>0</td>\n",
       "      <td>1</td>\n",
       "      <td>1</td>\n",
       "      <td>0</td>\n",
       "      <td>winter</td>\n",
       "    </tr>\n",
       "    <tr>\n",
       "      <th>3</th>\n",
       "      <td>Arkhyz</td>\n",
       "      <td>0</td>\n",
       "      <td>0</td>\n",
       "      <td>0</td>\n",
       "      <td>0</td>\n",
       "      <td>0</td>\n",
       "      <td>0</td>\n",
       "      <td>1</td>\n",
       "      <td>1</td>\n",
       "      <td>0</td>\n",
       "      <td>1</td>\n",
       "      <td>1</td>\n",
       "      <td>0</td>\n",
       "      <td>winter</td>\n",
       "    </tr>\n",
       "    <tr>\n",
       "      <th>4</th>\n",
       "      <td>Zermatt</td>\n",
       "      <td>0</td>\n",
       "      <td>0</td>\n",
       "      <td>0</td>\n",
       "      <td>0</td>\n",
       "      <td>0</td>\n",
       "      <td>0</td>\n",
       "      <td>1</td>\n",
       "      <td>1</td>\n",
       "      <td>0</td>\n",
       "      <td>1</td>\n",
       "      <td>1</td>\n",
       "      <td>0</td>\n",
       "      <td>winter</td>\n",
       "    </tr>\n",
       "  </tbody>\n",
       "</table>\n",
       "</div>"
      ],
      "text/plain": [
       "  location  air_conditioning  beach_front  outdoor_pool  animal_reserve  \\\n",
       "0   Alaska                 0            0             0               0   \n",
       "1   Arkhyz                 0            0             0               0   \n",
       "2  Zermatt                 0            0             0               0   \n",
       "3   Arkhyz                 0            0             0               0   \n",
       "4  Zermatt                 0            0             0               0   \n",
       "\n",
       "   scenic_beauty  golfing  chair_lift  sauna  fall_colors  snowmobile_tours  \\\n",
       "0              0        0           1      1            0                 1   \n",
       "1              0        0           1      1            0                 1   \n",
       "2              0        0           1      1            0                 1   \n",
       "3              0        0           1      1            0                 1   \n",
       "4              0        0           1      1            0                 1   \n",
       "\n",
       "   skiing  aurora  season  \n",
       "0       1       0  winter  \n",
       "1       1       0  winter  \n",
       "2       1       0  winter  \n",
       "3       1       0  winter  \n",
       "4       1       0  winter  "
      ]
     },
     "execution_count": 112,
     "metadata": {},
     "output_type": "execute_result"
    }
   ],
   "source": [
    "import random\n",
    "random.seed(21)\n",
    "\n",
    "def get_resort_data(count, facilities, locations, season):\n",
    "    max_index = len(locations) - 1\n",
    "    resorts = []\n",
    "    counter = 0\n",
    "    while counter < count:\n",
    "        location_index = random.randint(0, max_index)\n",
    "        resorts.append([locations[location_index], \n",
    "                       facilities[\"air_conditioning\"], \n",
    "                       facilities[\"beach_front\"], \n",
    "                       facilities[\"outdoor_pool\"], \n",
    "                       facilities[\"animal_reserve\"], \n",
    "                       facilities[\"scenic_beauty\"], \n",
    "                       facilities[\"golfing\"], \n",
    "                       facilities[\"chair_lift\"], \n",
    "                       facilities[\"sauna\"], \n",
    "                       facilities[\"fall_colors\"], \n",
    "                       facilities[\"snowmobile_tours\"], \n",
    "                       facilities[\"skiing\"], \n",
    "                       facilities[\"aurora\"], \n",
    "                       season])\n",
    "        counter += 1\n",
    "    \n",
    "    return resorts\n",
    "    \n",
    "    \n",
    "\n",
    "def create_resorts():\n",
    "    asia_south_america = [\"Bali\", \"Java\", \"Jakarta\", \"Seychelles\", \"Rio de Janeiro\", \"Panama City\", \"Bangkok\"]\n",
    "    canada_iceland_scandinavia = [\"Alaska\", \"Yukon\", \"Reykjavik\", \"Oslo\", \"Helsinki\"]\n",
    "    africa = [\"Tanzania\", \"Kenya\", \"Ghana\", \"Zambia\"]\n",
    "    north_america_japan_europe = [\"New Hamphshire\", \"Wyoming\", \"Tokyo\", \"Berlin\"]\n",
    "    north_america_australia_europe = [\"Miami\", \"Hobart\", \"Lorraine\"]\n",
    "    north_america_europe_russia = [\"Davos\", \"Alaska\", \"St. Mortiz\",  \"Arkhyz\", \"Mt. Buller\", \"Zermatt\"]\n",
    "    \n",
    "    resorts = []\n",
    "    \n",
    "    ski_facilities = {\n",
    "        \"air_conditioning\": 0,\n",
    "        \"beach_front\": 0,\n",
    "        \"outdoor_pool\": 0,\n",
    "        \"animal_reserve\": 0,\n",
    "        \"scenic_beauty\": 0,\n",
    "        \"golfing\": 0,\n",
    "        \"chair_lift\": 1,\n",
    "        \"sauna\": 1,\n",
    "        \"fall_colors\": 0,\n",
    "        \"snowmobile_tours\": 1,\n",
    "        \"skiing\": 1,\n",
    "        \"aurora\": 0   \n",
    "    }\n",
    "    \n",
    "    ski_resorts = get_resort_data(125, ski_facilities, north_america_europe_russia, \"winter\")\n",
    "    \n",
    "    fall_facilities = {\n",
    "        \"air_conditioning\": 0,\n",
    "        \"beach_front\": 0,\n",
    "        \"outdoor_pool\": 0,\n",
    "        \"animal_reserve\": 0,\n",
    "        \"scenic_beauty\": 0,\n",
    "        \"golfing\": 0,\n",
    "        \"chair_lift\": 0,\n",
    "        \"sauna\": 0,\n",
    "        \"fall_colors\": 1,\n",
    "        \"snowmobile_tours\": 0,\n",
    "        \"skiing\": 0,\n",
    "        \"aurora\": 0   \n",
    "    }\n",
    "    \n",
    "    fall_resorts = get_resort_data(70, fall_facilities, north_america_japan_europe, \"autumn\")\n",
    "    \n",
    "    wildlife_facilities = {\n",
    "        \"air_conditioning\": 0,\n",
    "        \"beach_front\": 0,\n",
    "        \"outdoor_pool\": 0,\n",
    "        \"animal_reserve\": 1,\n",
    "        \"scenic_beauty\": 0,\n",
    "        \"golfing\": 0,\n",
    "        \"chair_lift\": 0,\n",
    "        \"sauna\": 0,\n",
    "        \"fall_colors\": 0,\n",
    "        \"snowmobile_tours\": 0,\n",
    "        \"skiing\": 0,\n",
    "        \"aurora\": 0   \n",
    "    }\n",
    "    \n",
    "    wildlife_resorts = get_resort_data(75, wildlife_facilities, africa, \"autumn\")\n",
    "    \n",
    "    beach_facilities = {\n",
    "        \"air_conditioning\": 1,\n",
    "        \"beach_front\": 1,\n",
    "        \"outdoor_pool\": 1,\n",
    "        \"animal_reserve\": 0,\n",
    "        \"scenic_beauty\": 0,\n",
    "        \"golfing\": 0,\n",
    "        \"chair_lift\": 0,\n",
    "        \"sauna\": 0,\n",
    "        \"fall_colors\": 0,\n",
    "        \"snowmobile_tours\": 0,\n",
    "        \"skiing\": 0,\n",
    "        \"aurora\": 0   \n",
    "    }\n",
    "    \n",
    "    beach_resorts = get_resort_data(125, beach_facilities, asia_south_america, \"summer\")\n",
    "    \n",
    "    aurora_facilities = {\n",
    "        \"air_conditioning\": 1,\n",
    "        \"beach_front\": 0,\n",
    "        \"outdoor_pool\": 1,\n",
    "        \"animal_reserve\": 0,\n",
    "        \"scenic_beauty\": 0,\n",
    "        \"golfing\": 0,\n",
    "        \"chair_lift\": 0,\n",
    "        \"sauna\": 0,\n",
    "        \"fall_colors\": 0,\n",
    "        \"snowmobile_tours\": 0,\n",
    "        \"skiing\": 0,\n",
    "        \"aurora\": 1   \n",
    "    }\n",
    "    \n",
    "    aurora_resorts = get_resort_data(75, aurora_facilities, canada_iceland_scandinavia, \"summer\")\n",
    "    \n",
    "    spring_facilities = {\n",
    "        \"air_conditioning\": 1,\n",
    "        \"beach_front\": 0,\n",
    "        \"outdoor_pool\": 1,\n",
    "        \"animal_reserve\": 0,\n",
    "        \"scenic_beauty\": 1,\n",
    "        \"golfing\": 1,\n",
    "        \"chair_lift\": 0,\n",
    "        \"sauna\": 0,\n",
    "        \"fall_colors\": 0,\n",
    "        \"snowmobile_tours\": 0,\n",
    "        \"skiing\": 0,\n",
    "        \"aurora\": 0   \n",
    "    }\n",
    "    \n",
    "    spring_resorts = get_resort_data(130, spring_facilities, north_america_australia_europe, \"spring\")\n",
    "    \n",
    "    \n",
    "    \n",
    "    \n",
    "    resorts.extend(ski_resorts)\n",
    "    resorts.extend(fall_resorts)\n",
    "    resorts.extend(wildlife_resorts)\n",
    "    resorts.extend(beach_resorts)\n",
    "    resorts.extend(aurora_resorts)\n",
    "    resorts.extend(spring_resorts)\n",
    "    \n",
    "    resorts_df = pd.DataFrame(resorts, columns=[\"location\",\n",
    "        \"air_conditioning\",\n",
    "        \"beach_front\",\n",
    "        \"outdoor_pool\",\n",
    "        \"animal_reserve\",\n",
    "        \"scenic_beauty\",\n",
    "        \"golfing\",\n",
    "        \"chair_lift\",\n",
    "        \"sauna\",\n",
    "        \"fall_colors\",\n",
    "        \"snowmobile_tours\",\n",
    "        \"skiing\",\n",
    "        \"aurora\",\n",
    "        \"season\"])\n",
    "    \n",
    "    return resorts_df\n",
    "\n",
    "    \n",
    "rows = create_resorts()\n",
    "rows.head()"
   ]
  },
  {
   "cell_type": "code",
   "execution_count": 113,
   "metadata": {},
   "outputs": [
    {
     "data": {
      "text/html": [
       "<div>\n",
       "<style scoped>\n",
       "    .dataframe tbody tr th:only-of-type {\n",
       "        vertical-align: middle;\n",
       "    }\n",
       "\n",
       "    .dataframe tbody tr th {\n",
       "        vertical-align: top;\n",
       "    }\n",
       "\n",
       "    .dataframe thead th {\n",
       "        text-align: right;\n",
       "    }\n",
       "</style>\n",
       "<table border=\"1\" class=\"dataframe\">\n",
       "  <thead>\n",
       "    <tr style=\"text-align: right;\">\n",
       "      <th></th>\n",
       "      <th>location</th>\n",
       "      <th>air_conditioning</th>\n",
       "      <th>beach_front</th>\n",
       "      <th>outdoor_pool</th>\n",
       "      <th>animal_reserve</th>\n",
       "      <th>scenic_beauty</th>\n",
       "      <th>golfing</th>\n",
       "      <th>chair_lift</th>\n",
       "      <th>sauna</th>\n",
       "      <th>fall_colors</th>\n",
       "      <th>snowmobile_tours</th>\n",
       "      <th>skiing</th>\n",
       "      <th>aurora</th>\n",
       "      <th>season</th>\n",
       "    </tr>\n",
       "  </thead>\n",
       "  <tbody>\n",
       "    <tr>\n",
       "      <th>582</th>\n",
       "      <td>Hobart</td>\n",
       "      <td>1</td>\n",
       "      <td>0</td>\n",
       "      <td>1</td>\n",
       "      <td>0</td>\n",
       "      <td>1</td>\n",
       "      <td>1</td>\n",
       "      <td>0</td>\n",
       "      <td>0</td>\n",
       "      <td>0</td>\n",
       "      <td>0</td>\n",
       "      <td>0</td>\n",
       "      <td>0</td>\n",
       "      <td>spring</td>\n",
       "    </tr>\n",
       "    <tr>\n",
       "      <th>66</th>\n",
       "      <td>Mt. Buller</td>\n",
       "      <td>0</td>\n",
       "      <td>0</td>\n",
       "      <td>0</td>\n",
       "      <td>0</td>\n",
       "      <td>0</td>\n",
       "      <td>0</td>\n",
       "      <td>1</td>\n",
       "      <td>1</td>\n",
       "      <td>0</td>\n",
       "      <td>1</td>\n",
       "      <td>1</td>\n",
       "      <td>0</td>\n",
       "      <td>winter</td>\n",
       "    </tr>\n",
       "    <tr>\n",
       "      <th>126</th>\n",
       "      <td>Berlin</td>\n",
       "      <td>0</td>\n",
       "      <td>0</td>\n",
       "      <td>0</td>\n",
       "      <td>0</td>\n",
       "      <td>0</td>\n",
       "      <td>0</td>\n",
       "      <td>0</td>\n",
       "      <td>0</td>\n",
       "      <td>1</td>\n",
       "      <td>0</td>\n",
       "      <td>0</td>\n",
       "      <td>0</td>\n",
       "      <td>autumn</td>\n",
       "    </tr>\n",
       "    <tr>\n",
       "      <th>156</th>\n",
       "      <td>Wyoming</td>\n",
       "      <td>0</td>\n",
       "      <td>0</td>\n",
       "      <td>0</td>\n",
       "      <td>0</td>\n",
       "      <td>0</td>\n",
       "      <td>0</td>\n",
       "      <td>0</td>\n",
       "      <td>0</td>\n",
       "      <td>1</td>\n",
       "      <td>0</td>\n",
       "      <td>0</td>\n",
       "      <td>0</td>\n",
       "      <td>autumn</td>\n",
       "    </tr>\n",
       "    <tr>\n",
       "      <th>329</th>\n",
       "      <td>Seychelles</td>\n",
       "      <td>1</td>\n",
       "      <td>1</td>\n",
       "      <td>1</td>\n",
       "      <td>0</td>\n",
       "      <td>0</td>\n",
       "      <td>0</td>\n",
       "      <td>0</td>\n",
       "      <td>0</td>\n",
       "      <td>0</td>\n",
       "      <td>0</td>\n",
       "      <td>0</td>\n",
       "      <td>0</td>\n",
       "      <td>summer</td>\n",
       "    </tr>\n",
       "    <tr>\n",
       "      <th>548</th>\n",
       "      <td>Hobart</td>\n",
       "      <td>1</td>\n",
       "      <td>0</td>\n",
       "      <td>1</td>\n",
       "      <td>0</td>\n",
       "      <td>1</td>\n",
       "      <td>1</td>\n",
       "      <td>0</td>\n",
       "      <td>0</td>\n",
       "      <td>0</td>\n",
       "      <td>0</td>\n",
       "      <td>0</td>\n",
       "      <td>0</td>\n",
       "      <td>spring</td>\n",
       "    </tr>\n",
       "    <tr>\n",
       "      <th>275</th>\n",
       "      <td>Rio de Janeiro</td>\n",
       "      <td>1</td>\n",
       "      <td>1</td>\n",
       "      <td>1</td>\n",
       "      <td>0</td>\n",
       "      <td>0</td>\n",
       "      <td>0</td>\n",
       "      <td>0</td>\n",
       "      <td>0</td>\n",
       "      <td>0</td>\n",
       "      <td>0</td>\n",
       "      <td>0</td>\n",
       "      <td>0</td>\n",
       "      <td>summer</td>\n",
       "    </tr>\n",
       "    <tr>\n",
       "      <th>170</th>\n",
       "      <td>New Hamphshire</td>\n",
       "      <td>0</td>\n",
       "      <td>0</td>\n",
       "      <td>0</td>\n",
       "      <td>0</td>\n",
       "      <td>0</td>\n",
       "      <td>0</td>\n",
       "      <td>0</td>\n",
       "      <td>0</td>\n",
       "      <td>1</td>\n",
       "      <td>0</td>\n",
       "      <td>0</td>\n",
       "      <td>0</td>\n",
       "      <td>autumn</td>\n",
       "    </tr>\n",
       "    <tr>\n",
       "      <th>576</th>\n",
       "      <td>Lorraine</td>\n",
       "      <td>1</td>\n",
       "      <td>0</td>\n",
       "      <td>1</td>\n",
       "      <td>0</td>\n",
       "      <td>1</td>\n",
       "      <td>1</td>\n",
       "      <td>0</td>\n",
       "      <td>0</td>\n",
       "      <td>0</td>\n",
       "      <td>0</td>\n",
       "      <td>0</td>\n",
       "      <td>0</td>\n",
       "      <td>spring</td>\n",
       "    </tr>\n",
       "    <tr>\n",
       "      <th>178</th>\n",
       "      <td>Tokyo</td>\n",
       "      <td>0</td>\n",
       "      <td>0</td>\n",
       "      <td>0</td>\n",
       "      <td>0</td>\n",
       "      <td>0</td>\n",
       "      <td>0</td>\n",
       "      <td>0</td>\n",
       "      <td>0</td>\n",
       "      <td>1</td>\n",
       "      <td>0</td>\n",
       "      <td>0</td>\n",
       "      <td>0</td>\n",
       "      <td>autumn</td>\n",
       "    </tr>\n",
       "  </tbody>\n",
       "</table>\n",
       "</div>"
      ],
      "text/plain": [
       "           location  air_conditioning  beach_front  outdoor_pool  \\\n",
       "582          Hobart                 1            0             1   \n",
       "66       Mt. Buller                 0            0             0   \n",
       "126          Berlin                 0            0             0   \n",
       "156         Wyoming                 0            0             0   \n",
       "329      Seychelles                 1            1             1   \n",
       "548          Hobart                 1            0             1   \n",
       "275  Rio de Janeiro                 1            1             1   \n",
       "170  New Hamphshire                 0            0             0   \n",
       "576        Lorraine                 1            0             1   \n",
       "178           Tokyo                 0            0             0   \n",
       "\n",
       "     animal_reserve  scenic_beauty  golfing  chair_lift  sauna  fall_colors  \\\n",
       "582               0              1        1           0      0            0   \n",
       "66                0              0        0           1      1            0   \n",
       "126               0              0        0           0      0            1   \n",
       "156               0              0        0           0      0            1   \n",
       "329               0              0        0           0      0            0   \n",
       "548               0              1        1           0      0            0   \n",
       "275               0              0        0           0      0            0   \n",
       "170               0              0        0           0      0            1   \n",
       "576               0              1        1           0      0            0   \n",
       "178               0              0        0           0      0            1   \n",
       "\n",
       "     snowmobile_tours  skiing  aurora  season  \n",
       "582                 0       0       0  spring  \n",
       "66                  1       1       0  winter  \n",
       "126                 0       0       0  autumn  \n",
       "156                 0       0       0  autumn  \n",
       "329                 0       0       0  summer  \n",
       "548                 0       0       0  spring  \n",
       "275                 0       0       0  summer  \n",
       "170                 0       0       0  autumn  \n",
       "576                 0       0       0  spring  \n",
       "178                 0       0       0  autumn  "
      ]
     },
     "execution_count": 113,
     "metadata": {},
     "output_type": "execute_result"
    }
   ],
   "source": [
    "resorts = pd.DataFrame(rows, columns=[\n",
    "        \"location\",\n",
    "        \"air_conditioning\",\n",
    "        \"beach_front\",\n",
    "        \"outdoor_pool\",\n",
    "        \"animal_reserve\",\n",
    "        \"scenic_beauty\",\n",
    "        \"golfing\",\n",
    "        \"chair_lift\",\n",
    "        \"sauna\",\n",
    "        \"fall_colors\",\n",
    "        \"snowmobile_tours\",\n",
    "        \"skiing\",\n",
    "        \"aurora\",\n",
    "        \"season\"])\n",
    "\n",
    "resorts.to_csv(\"resorts_data.csv\")\n",
    "resorts.sample(n=10)"
   ]
  },
  {
   "cell_type": "markdown",
   "metadata": {},
   "source": [
    "### Using the elbow method to check the optimal k"
   ]
  },
  {
   "cell_type": "code",
   "execution_count": 120,
   "metadata": {},
   "outputs": [
    {
     "name": "stderr",
     "output_type": "stream",
     "text": [
      "<ipython-input-120-b96dcff6b677>:7: ConvergenceWarning: Number of distinct clusters (6) found smaller than n_clusters (7). Possibly due to duplicate points in X.\n",
      "  km = km.fit(resorts_data)\n",
      "<ipython-input-120-b96dcff6b677>:7: ConvergenceWarning: Number of distinct clusters (6) found smaller than n_clusters (8). Possibly due to duplicate points in X.\n",
      "  km = km.fit(resorts_data)\n",
      "<ipython-input-120-b96dcff6b677>:7: ConvergenceWarning: Number of distinct clusters (6) found smaller than n_clusters (9). Possibly due to duplicate points in X.\n",
      "  km = km.fit(resorts_data)\n"
     ]
    },
    {
     "data": {
      "image/png": "[encoded data removed]",
      "text/plain": [
       "<Figure size 432x288 with 1 Axes>"
      ]
     },
     "metadata": {
      "needs_background": "light"
     },
     "output_type": "display_data"
    }
   ],
   "source": [
    "resorts_data = resorts.drop(['location', 'season'], axis=1)\n",
    "X = resorts_data.to_numpy()\n",
    "Sum_of_squared_distances = []\n",
    "K = range(1,10)\n",
    "for k in K:\n",
    "    km = KMeans(n_clusters=k)\n",
    "    km = km.fit(resorts_data)\n",
    "    Sum_of_squared_distances.append(km.inertia_)\n",
    "    \n",
    "plt.plot(K, Sum_of_squared_distances, 'bx-')\n",
    "plt.xlabel('k')\n",
    "plt.ylabel('Sum of squared distances')\n",
    "plt.title('Elbow Method For Optimal k')\n",
    "plt.show()"
   ]
  },
  {
   "cell_type": "code",
   "execution_count": 121,
   "metadata": {},
   "outputs": [],
   "source": [
    "initial_medoids = kmeans_plusplus_initializer(X, 4).initialize(return_index=True)\n",
    "metric = distance_metric(type_metric.MINKOWSKI, degree=2)\n",
    "kmedoids_instance = kmedoids(X, initial_medoids, metric=metric)\n",
    "kmedoids_instance.process()\n",
    "clusters = kmedoids_instance.get_clusters()"
   ]
  },
  {
   "cell_type": "code",
   "execution_count": 127,
   "metadata": {},
   "outputs": [],
   "source": [
    "def season_mode_val(ground_truth):\n",
    "    seasons = ground_truth['season'].to_list()\n",
    "    mode_val = stats.mode(seasons)\n",
    "    return mode_val\n",
    "\n",
    "identified_clusters = []\n",
    "counter = 0\n",
    "for cluster in clusters:\n",
    "    seasons = resorts.iloc[cluster, [13]]\n",
    "    mode_result = season_mode_val(seasons)\n",
    "    cluster_label = mode_result.mode[0]\n",
    "    count = mode_result.count\n",
    "    identified_clusters.append((counter, cluster_label, count))\n",
    "    counter += 1"
   ]
  },
  {
   "cell_type": "markdown",
   "metadata": {},
   "source": [
    "### Measuring the purity of the cluster"
   ]
  },
  {
   "cell_type": "code",
   "execution_count": 128,
   "metadata": {},
   "outputs": [
    {
     "name": "stdout",
     "output_type": "stream",
     "text": [
      "Purity measure is 100.0\n"
     ]
    }
   ],
   "source": [
    "actual = 0\n",
    "total = 0\n",
    "for actual_count in identified_clusters:\n",
    "    count = actual_count[2]\n",
    "    actual += count[0]\n",
    "\n",
    "for cluster in clusters:\n",
    "    cluster_count = len(cluster)\n",
    "    total += cluster_count\n",
    "\n",
    "percent = (actual/total) * 100\n",
    "purity = round(percent, 2)\n",
    "print(\"Purity measure is\", purity)"
   ]
  },
  {
   "cell_type": "markdown",
   "metadata": {},
   "source": [
    "### Searching datapoints in the cluster based on seasons using the cluster indexes corresponding to a particular season"
   ]
  },
  {
   "cell_type": "code",
   "execution_count": 133,
   "metadata": {},
   "outputs": [],
   "source": [
    "def identify_resorts_by_season(season):\n",
    "    for idx_label in identified_clusters:\n",
    "        if idx_label[1] == season:\n",
    "            index = idx_label[0]\n",
    "            resort_indexes = clusters[index]\n",
    "            return resorts.iloc[resort_indexes, :]"
   ]
  },
  {
   "cell_type": "markdown",
   "metadata": {},
   "source": [
    "### Searching for Summer resorts"
   ]
  },
  {
   "cell_type": "code",
   "execution_count": 137,
   "metadata": {},
   "outputs": [
    {
     "data": {
      "text/html": [
       "<div>\n",
       "<style scoped>\n",
       "    .dataframe tbody tr th:only-of-type {\n",
       "        vertical-align: middle;\n",
       "    }\n",
       "\n",
       "    .dataframe tbody tr th {\n",
       "        vertical-align: top;\n",
       "    }\n",
       "\n",
       "    .dataframe thead th {\n",
       "        text-align: right;\n",
       "    }\n",
       "</style>\n",
       "<table border=\"1\" class=\"dataframe\">\n",
       "  <thead>\n",
       "    <tr style=\"text-align: right;\">\n",
       "      <th></th>\n",
       "      <th>location</th>\n",
       "      <th>air_conditioning</th>\n",
       "      <th>beach_front</th>\n",
       "      <th>outdoor_pool</th>\n",
       "      <th>animal_reserve</th>\n",
       "      <th>scenic_beauty</th>\n",
       "      <th>golfing</th>\n",
       "      <th>chair_lift</th>\n",
       "      <th>sauna</th>\n",
       "      <th>fall_colors</th>\n",
       "      <th>snowmobile_tours</th>\n",
       "      <th>skiing</th>\n",
       "      <th>aurora</th>\n",
       "      <th>season</th>\n",
       "    </tr>\n",
       "  </thead>\n",
       "  <tbody>\n",
       "    <tr>\n",
       "      <th>431</th>\n",
       "      <td>Helsinki</td>\n",
       "      <td>1</td>\n",
       "      <td>0</td>\n",
       "      <td>1</td>\n",
       "      <td>0</td>\n",
       "      <td>0</td>\n",
       "      <td>0</td>\n",
       "      <td>0</td>\n",
       "      <td>0</td>\n",
       "      <td>0</td>\n",
       "      <td>0</td>\n",
       "      <td>0</td>\n",
       "      <td>1</td>\n",
       "      <td>summer</td>\n",
       "    </tr>\n",
       "    <tr>\n",
       "      <th>333</th>\n",
       "      <td>Seychelles</td>\n",
       "      <td>1</td>\n",
       "      <td>1</td>\n",
       "      <td>1</td>\n",
       "      <td>0</td>\n",
       "      <td>0</td>\n",
       "      <td>0</td>\n",
       "      <td>0</td>\n",
       "      <td>0</td>\n",
       "      <td>0</td>\n",
       "      <td>0</td>\n",
       "      <td>0</td>\n",
       "      <td>0</td>\n",
       "      <td>summer</td>\n",
       "    </tr>\n",
       "    <tr>\n",
       "      <th>410</th>\n",
       "      <td>Oslo</td>\n",
       "      <td>1</td>\n",
       "      <td>0</td>\n",
       "      <td>1</td>\n",
       "      <td>0</td>\n",
       "      <td>0</td>\n",
       "      <td>0</td>\n",
       "      <td>0</td>\n",
       "      <td>0</td>\n",
       "      <td>0</td>\n",
       "      <td>0</td>\n",
       "      <td>0</td>\n",
       "      <td>1</td>\n",
       "      <td>summer</td>\n",
       "    </tr>\n",
       "    <tr>\n",
       "      <th>297</th>\n",
       "      <td>Panama City</td>\n",
       "      <td>1</td>\n",
       "      <td>1</td>\n",
       "      <td>1</td>\n",
       "      <td>0</td>\n",
       "      <td>0</td>\n",
       "      <td>0</td>\n",
       "      <td>0</td>\n",
       "      <td>0</td>\n",
       "      <td>0</td>\n",
       "      <td>0</td>\n",
       "      <td>0</td>\n",
       "      <td>0</td>\n",
       "      <td>summer</td>\n",
       "    </tr>\n",
       "    <tr>\n",
       "      <th>422</th>\n",
       "      <td>Helsinki</td>\n",
       "      <td>1</td>\n",
       "      <td>0</td>\n",
       "      <td>1</td>\n",
       "      <td>0</td>\n",
       "      <td>0</td>\n",
       "      <td>0</td>\n",
       "      <td>0</td>\n",
       "      <td>0</td>\n",
       "      <td>0</td>\n",
       "      <td>0</td>\n",
       "      <td>0</td>\n",
       "      <td>1</td>\n",
       "      <td>summer</td>\n",
       "    </tr>\n",
       "    <tr>\n",
       "      <th>350</th>\n",
       "      <td>Bangkok</td>\n",
       "      <td>1</td>\n",
       "      <td>1</td>\n",
       "      <td>1</td>\n",
       "      <td>0</td>\n",
       "      <td>0</td>\n",
       "      <td>0</td>\n",
       "      <td>0</td>\n",
       "      <td>0</td>\n",
       "      <td>0</td>\n",
       "      <td>0</td>\n",
       "      <td>0</td>\n",
       "      <td>0</td>\n",
       "      <td>summer</td>\n",
       "    </tr>\n",
       "    <tr>\n",
       "      <th>294</th>\n",
       "      <td>Rio de Janeiro</td>\n",
       "      <td>1</td>\n",
       "      <td>1</td>\n",
       "      <td>1</td>\n",
       "      <td>0</td>\n",
       "      <td>0</td>\n",
       "      <td>0</td>\n",
       "      <td>0</td>\n",
       "      <td>0</td>\n",
       "      <td>0</td>\n",
       "      <td>0</td>\n",
       "      <td>0</td>\n",
       "      <td>0</td>\n",
       "      <td>summer</td>\n",
       "    </tr>\n",
       "    <tr>\n",
       "      <th>281</th>\n",
       "      <td>Java</td>\n",
       "      <td>1</td>\n",
       "      <td>1</td>\n",
       "      <td>1</td>\n",
       "      <td>0</td>\n",
       "      <td>0</td>\n",
       "      <td>0</td>\n",
       "      <td>0</td>\n",
       "      <td>0</td>\n",
       "      <td>0</td>\n",
       "      <td>0</td>\n",
       "      <td>0</td>\n",
       "      <td>0</td>\n",
       "      <td>summer</td>\n",
       "    </tr>\n",
       "    <tr>\n",
       "      <th>425</th>\n",
       "      <td>Reykjavik</td>\n",
       "      <td>1</td>\n",
       "      <td>0</td>\n",
       "      <td>1</td>\n",
       "      <td>0</td>\n",
       "      <td>0</td>\n",
       "      <td>0</td>\n",
       "      <td>0</td>\n",
       "      <td>0</td>\n",
       "      <td>0</td>\n",
       "      <td>0</td>\n",
       "      <td>0</td>\n",
       "      <td>1</td>\n",
       "      <td>summer</td>\n",
       "    </tr>\n",
       "    <tr>\n",
       "      <th>310</th>\n",
       "      <td>Java</td>\n",
       "      <td>1</td>\n",
       "      <td>1</td>\n",
       "      <td>1</td>\n",
       "      <td>0</td>\n",
       "      <td>0</td>\n",
       "      <td>0</td>\n",
       "      <td>0</td>\n",
       "      <td>0</td>\n",
       "      <td>0</td>\n",
       "      <td>0</td>\n",
       "      <td>0</td>\n",
       "      <td>0</td>\n",
       "      <td>summer</td>\n",
       "    </tr>\n",
       "  </tbody>\n",
       "</table>\n",
       "</div>"
      ],
      "text/plain": [
       "           location  air_conditioning  beach_front  outdoor_pool  \\\n",
       "431        Helsinki                 1            0             1   \n",
       "333      Seychelles                 1            1             1   \n",
       "410            Oslo                 1            0             1   \n",
       "297     Panama City                 1            1             1   \n",
       "422        Helsinki                 1            0             1   \n",
       "350         Bangkok                 1            1             1   \n",
       "294  Rio de Janeiro                 1            1             1   \n",
       "281            Java                 1            1             1   \n",
       "425       Reykjavik                 1            0             1   \n",
       "310            Java                 1            1             1   \n",
       "\n",
       "     animal_reserve  scenic_beauty  golfing  chair_lift  sauna  fall_colors  \\\n",
       "431               0              0        0           0      0            0   \n",
       "333               0              0        0           0      0            0   \n",
       "410               0              0        0           0      0            0   \n",
       "297               0              0        0           0      0            0   \n",
       "422               0              0        0           0      0            0   \n",
       "350               0              0        0           0      0            0   \n",
       "294               0              0        0           0      0            0   \n",
       "281               0              0        0           0      0            0   \n",
       "425               0              0        0           0      0            0   \n",
       "310               0              0        0           0      0            0   \n",
       "\n",
       "     snowmobile_tours  skiing  aurora  season  \n",
       "431                 0       0       1  summer  \n",
       "333                 0       0       0  summer  \n",
       "410                 0       0       1  summer  \n",
       "297                 0       0       0  summer  \n",
       "422                 0       0       1  summer  \n",
       "350                 0       0       0  summer  \n",
       "294                 0       0       0  summer  \n",
       "281                 0       0       0  summer  \n",
       "425                 0       0       1  summer  \n",
       "310                 0       0       0  summer  "
      ]
     },
     "execution_count": 137,
     "metadata": {},
     "output_type": "execute_result"
    }
   ],
   "source": [
    "summer_resorts = identify_resorts_by_season('summer') \n",
    "summer_resorts.sample(10)"
   ]
  },
  {
   "cell_type": "markdown",
   "metadata": {},
   "source": [
    "### Searching for Winter resorts"
   ]
  },
  {
   "cell_type": "code",
   "execution_count": 138,
   "metadata": {},
   "outputs": [
    {
     "data": {
      "text/html": [
       "<div>\n",
       "<style scoped>\n",
       "    .dataframe tbody tr th:only-of-type {\n",
       "        vertical-align: middle;\n",
       "    }\n",
       "\n",
       "    .dataframe tbody tr th {\n",
       "        vertical-align: top;\n",
       "    }\n",
       "\n",
       "    .dataframe thead th {\n",
       "        text-align: right;\n",
       "    }\n",
       "</style>\n",
       "<table border=\"1\" class=\"dataframe\">\n",
       "  <thead>\n",
       "    <tr style=\"text-align: right;\">\n",
       "      <th></th>\n",
       "      <th>location</th>\n",
       "      <th>air_conditioning</th>\n",
       "      <th>beach_front</th>\n",
       "      <th>outdoor_pool</th>\n",
       "      <th>animal_reserve</th>\n",
       "      <th>scenic_beauty</th>\n",
       "      <th>golfing</th>\n",
       "      <th>chair_lift</th>\n",
       "      <th>sauna</th>\n",
       "      <th>fall_colors</th>\n",
       "      <th>snowmobile_tours</th>\n",
       "      <th>skiing</th>\n",
       "      <th>aurora</th>\n",
       "      <th>season</th>\n",
       "    </tr>\n",
       "  </thead>\n",
       "  <tbody>\n",
       "    <tr>\n",
       "      <th>41</th>\n",
       "      <td>Davos</td>\n",
       "      <td>0</td>\n",
       "      <td>0</td>\n",
       "      <td>0</td>\n",
       "      <td>0</td>\n",
       "      <td>0</td>\n",
       "      <td>0</td>\n",
       "      <td>1</td>\n",
       "      <td>1</td>\n",
       "      <td>0</td>\n",
       "      <td>1</td>\n",
       "      <td>1</td>\n",
       "      <td>0</td>\n",
       "      <td>winter</td>\n",
       "    </tr>\n",
       "    <tr>\n",
       "      <th>124</th>\n",
       "      <td>Mt. Buller</td>\n",
       "      <td>0</td>\n",
       "      <td>0</td>\n",
       "      <td>0</td>\n",
       "      <td>0</td>\n",
       "      <td>0</td>\n",
       "      <td>0</td>\n",
       "      <td>1</td>\n",
       "      <td>1</td>\n",
       "      <td>0</td>\n",
       "      <td>1</td>\n",
       "      <td>1</td>\n",
       "      <td>0</td>\n",
       "      <td>winter</td>\n",
       "    </tr>\n",
       "    <tr>\n",
       "      <th>76</th>\n",
       "      <td>St. Mortiz</td>\n",
       "      <td>0</td>\n",
       "      <td>0</td>\n",
       "      <td>0</td>\n",
       "      <td>0</td>\n",
       "      <td>0</td>\n",
       "      <td>0</td>\n",
       "      <td>1</td>\n",
       "      <td>1</td>\n",
       "      <td>0</td>\n",
       "      <td>1</td>\n",
       "      <td>1</td>\n",
       "      <td>0</td>\n",
       "      <td>winter</td>\n",
       "    </tr>\n",
       "    <tr>\n",
       "      <th>112</th>\n",
       "      <td>St. Mortiz</td>\n",
       "      <td>0</td>\n",
       "      <td>0</td>\n",
       "      <td>0</td>\n",
       "      <td>0</td>\n",
       "      <td>0</td>\n",
       "      <td>0</td>\n",
       "      <td>1</td>\n",
       "      <td>1</td>\n",
       "      <td>0</td>\n",
       "      <td>1</td>\n",
       "      <td>1</td>\n",
       "      <td>0</td>\n",
       "      <td>winter</td>\n",
       "    </tr>\n",
       "    <tr>\n",
       "      <th>91</th>\n",
       "      <td>Arkhyz</td>\n",
       "      <td>0</td>\n",
       "      <td>0</td>\n",
       "      <td>0</td>\n",
       "      <td>0</td>\n",
       "      <td>0</td>\n",
       "      <td>0</td>\n",
       "      <td>1</td>\n",
       "      <td>1</td>\n",
       "      <td>0</td>\n",
       "      <td>1</td>\n",
       "      <td>1</td>\n",
       "      <td>0</td>\n",
       "      <td>winter</td>\n",
       "    </tr>\n",
       "    <tr>\n",
       "      <th>98</th>\n",
       "      <td>Mt. Buller</td>\n",
       "      <td>0</td>\n",
       "      <td>0</td>\n",
       "      <td>0</td>\n",
       "      <td>0</td>\n",
       "      <td>0</td>\n",
       "      <td>0</td>\n",
       "      <td>1</td>\n",
       "      <td>1</td>\n",
       "      <td>0</td>\n",
       "      <td>1</td>\n",
       "      <td>1</td>\n",
       "      <td>0</td>\n",
       "      <td>winter</td>\n",
       "    </tr>\n",
       "    <tr>\n",
       "      <th>118</th>\n",
       "      <td>Arkhyz</td>\n",
       "      <td>0</td>\n",
       "      <td>0</td>\n",
       "      <td>0</td>\n",
       "      <td>0</td>\n",
       "      <td>0</td>\n",
       "      <td>0</td>\n",
       "      <td>1</td>\n",
       "      <td>1</td>\n",
       "      <td>0</td>\n",
       "      <td>1</td>\n",
       "      <td>1</td>\n",
       "      <td>0</td>\n",
       "      <td>winter</td>\n",
       "    </tr>\n",
       "    <tr>\n",
       "      <th>72</th>\n",
       "      <td>Alaska</td>\n",
       "      <td>0</td>\n",
       "      <td>0</td>\n",
       "      <td>0</td>\n",
       "      <td>0</td>\n",
       "      <td>0</td>\n",
       "      <td>0</td>\n",
       "      <td>1</td>\n",
       "      <td>1</td>\n",
       "      <td>0</td>\n",
       "      <td>1</td>\n",
       "      <td>1</td>\n",
       "      <td>0</td>\n",
       "      <td>winter</td>\n",
       "    </tr>\n",
       "    <tr>\n",
       "      <th>65</th>\n",
       "      <td>Davos</td>\n",
       "      <td>0</td>\n",
       "      <td>0</td>\n",
       "      <td>0</td>\n",
       "      <td>0</td>\n",
       "      <td>0</td>\n",
       "      <td>0</td>\n",
       "      <td>1</td>\n",
       "      <td>1</td>\n",
       "      <td>0</td>\n",
       "      <td>1</td>\n",
       "      <td>1</td>\n",
       "      <td>0</td>\n",
       "      <td>winter</td>\n",
       "    </tr>\n",
       "    <tr>\n",
       "      <th>35</th>\n",
       "      <td>Davos</td>\n",
       "      <td>0</td>\n",
       "      <td>0</td>\n",
       "      <td>0</td>\n",
       "      <td>0</td>\n",
       "      <td>0</td>\n",
       "      <td>0</td>\n",
       "      <td>1</td>\n",
       "      <td>1</td>\n",
       "      <td>0</td>\n",
       "      <td>1</td>\n",
       "      <td>1</td>\n",
       "      <td>0</td>\n",
       "      <td>winter</td>\n",
       "    </tr>\n",
       "  </tbody>\n",
       "</table>\n",
       "</div>"
      ],
      "text/plain": [
       "       location  air_conditioning  beach_front  outdoor_pool  animal_reserve  \\\n",
       "41        Davos                 0            0             0               0   \n",
       "124  Mt. Buller                 0            0             0               0   \n",
       "76   St. Mortiz                 0            0             0               0   \n",
       "112  St. Mortiz                 0            0             0               0   \n",
       "91       Arkhyz                 0            0             0               0   \n",
       "98   Mt. Buller                 0            0             0               0   \n",
       "118      Arkhyz                 0            0             0               0   \n",
       "72       Alaska                 0            0             0               0   \n",
       "65        Davos                 0            0             0               0   \n",
       "35        Davos                 0            0             0               0   \n",
       "\n",
       "     scenic_beauty  golfing  chair_lift  sauna  fall_colors  snowmobile_tours  \\\n",
       "41               0        0           1      1            0                 1   \n",
       "124              0        0           1      1            0                 1   \n",
       "76               0        0           1      1            0                 1   \n",
       "112              0        0           1      1            0                 1   \n",
       "91               0        0           1      1            0                 1   \n",
       "98               0        0           1      1            0                 1   \n",
       "118              0        0           1      1            0                 1   \n",
       "72               0        0           1      1            0                 1   \n",
       "65               0        0           1      1            0                 1   \n",
       "35               0        0           1      1            0                 1   \n",
       "\n",
       "     skiing  aurora  season  \n",
       "41        1       0  winter  \n",
       "124       1       0  winter  \n",
       "76        1       0  winter  \n",
       "112       1       0  winter  \n",
       "91        1       0  winter  \n",
       "98        1       0  winter  \n",
       "118       1       0  winter  \n",
       "72        1       0  winter  \n",
       "65        1       0  winter  \n",
       "35        1       0  winter  "
      ]
     },
     "execution_count": 138,
     "metadata": {},
     "output_type": "execute_result"
    }
   ],
   "source": [
    "winter_resorts = identify_resorts_by_season('winter') \n",
    "winter_resorts.sample(10)"
   ]
  },
  {
   "cell_type": "markdown",
   "metadata": {},
   "source": [
    "### Searching for Autumn resorts"
   ]
  },
  {
   "cell_type": "code",
   "execution_count": 139,
   "metadata": {},
   "outputs": [
    {
     "data": {
      "text/html": [
       "<div>\n",
       "<style scoped>\n",
       "    .dataframe tbody tr th:only-of-type {\n",
       "        vertical-align: middle;\n",
       "    }\n",
       "\n",
       "    .dataframe tbody tr th {\n",
       "        vertical-align: top;\n",
       "    }\n",
       "\n",
       "    .dataframe thead th {\n",
       "        text-align: right;\n",
       "    }\n",
       "</style>\n",
       "<table border=\"1\" class=\"dataframe\">\n",
       "  <thead>\n",
       "    <tr style=\"text-align: right;\">\n",
       "      <th></th>\n",
       "      <th>location</th>\n",
       "      <th>air_conditioning</th>\n",
       "      <th>beach_front</th>\n",
       "      <th>outdoor_pool</th>\n",
       "      <th>animal_reserve</th>\n",
       "      <th>scenic_beauty</th>\n",
       "      <th>golfing</th>\n",
       "      <th>chair_lift</th>\n",
       "      <th>sauna</th>\n",
       "      <th>fall_colors</th>\n",
       "      <th>snowmobile_tours</th>\n",
       "      <th>skiing</th>\n",
       "      <th>aurora</th>\n",
       "      <th>season</th>\n",
       "    </tr>\n",
       "  </thead>\n",
       "  <tbody>\n",
       "    <tr>\n",
       "      <th>183</th>\n",
       "      <td>New Hamphshire</td>\n",
       "      <td>0</td>\n",
       "      <td>0</td>\n",
       "      <td>0</td>\n",
       "      <td>0</td>\n",
       "      <td>0</td>\n",
       "      <td>0</td>\n",
       "      <td>0</td>\n",
       "      <td>0</td>\n",
       "      <td>1</td>\n",
       "      <td>0</td>\n",
       "      <td>0</td>\n",
       "      <td>0</td>\n",
       "      <td>autumn</td>\n",
       "    </tr>\n",
       "    <tr>\n",
       "      <th>165</th>\n",
       "      <td>Berlin</td>\n",
       "      <td>0</td>\n",
       "      <td>0</td>\n",
       "      <td>0</td>\n",
       "      <td>0</td>\n",
       "      <td>0</td>\n",
       "      <td>0</td>\n",
       "      <td>0</td>\n",
       "      <td>0</td>\n",
       "      <td>1</td>\n",
       "      <td>0</td>\n",
       "      <td>0</td>\n",
       "      <td>0</td>\n",
       "      <td>autumn</td>\n",
       "    </tr>\n",
       "    <tr>\n",
       "      <th>199</th>\n",
       "      <td>Kenya</td>\n",
       "      <td>0</td>\n",
       "      <td>0</td>\n",
       "      <td>0</td>\n",
       "      <td>1</td>\n",
       "      <td>0</td>\n",
       "      <td>0</td>\n",
       "      <td>0</td>\n",
       "      <td>0</td>\n",
       "      <td>0</td>\n",
       "      <td>0</td>\n",
       "      <td>0</td>\n",
       "      <td>0</td>\n",
       "      <td>autumn</td>\n",
       "    </tr>\n",
       "    <tr>\n",
       "      <th>158</th>\n",
       "      <td>New Hamphshire</td>\n",
       "      <td>0</td>\n",
       "      <td>0</td>\n",
       "      <td>0</td>\n",
       "      <td>0</td>\n",
       "      <td>0</td>\n",
       "      <td>0</td>\n",
       "      <td>0</td>\n",
       "      <td>0</td>\n",
       "      <td>1</td>\n",
       "      <td>0</td>\n",
       "      <td>0</td>\n",
       "      <td>0</td>\n",
       "      <td>autumn</td>\n",
       "    </tr>\n",
       "    <tr>\n",
       "      <th>255</th>\n",
       "      <td>Kenya</td>\n",
       "      <td>0</td>\n",
       "      <td>0</td>\n",
       "      <td>0</td>\n",
       "      <td>1</td>\n",
       "      <td>0</td>\n",
       "      <td>0</td>\n",
       "      <td>0</td>\n",
       "      <td>0</td>\n",
       "      <td>0</td>\n",
       "      <td>0</td>\n",
       "      <td>0</td>\n",
       "      <td>0</td>\n",
       "      <td>autumn</td>\n",
       "    </tr>\n",
       "    <tr>\n",
       "      <th>175</th>\n",
       "      <td>Tokyo</td>\n",
       "      <td>0</td>\n",
       "      <td>0</td>\n",
       "      <td>0</td>\n",
       "      <td>0</td>\n",
       "      <td>0</td>\n",
       "      <td>0</td>\n",
       "      <td>0</td>\n",
       "      <td>0</td>\n",
       "      <td>1</td>\n",
       "      <td>0</td>\n",
       "      <td>0</td>\n",
       "      <td>0</td>\n",
       "      <td>autumn</td>\n",
       "    </tr>\n",
       "    <tr>\n",
       "      <th>136</th>\n",
       "      <td>Berlin</td>\n",
       "      <td>0</td>\n",
       "      <td>0</td>\n",
       "      <td>0</td>\n",
       "      <td>0</td>\n",
       "      <td>0</td>\n",
       "      <td>0</td>\n",
       "      <td>0</td>\n",
       "      <td>0</td>\n",
       "      <td>1</td>\n",
       "      <td>0</td>\n",
       "      <td>0</td>\n",
       "      <td>0</td>\n",
       "      <td>autumn</td>\n",
       "    </tr>\n",
       "    <tr>\n",
       "      <th>155</th>\n",
       "      <td>Tokyo</td>\n",
       "      <td>0</td>\n",
       "      <td>0</td>\n",
       "      <td>0</td>\n",
       "      <td>0</td>\n",
       "      <td>0</td>\n",
       "      <td>0</td>\n",
       "      <td>0</td>\n",
       "      <td>0</td>\n",
       "      <td>1</td>\n",
       "      <td>0</td>\n",
       "      <td>0</td>\n",
       "      <td>0</td>\n",
       "      <td>autumn</td>\n",
       "    </tr>\n",
       "    <tr>\n",
       "      <th>263</th>\n",
       "      <td>Zambia</td>\n",
       "      <td>0</td>\n",
       "      <td>0</td>\n",
       "      <td>0</td>\n",
       "      <td>1</td>\n",
       "      <td>0</td>\n",
       "      <td>0</td>\n",
       "      <td>0</td>\n",
       "      <td>0</td>\n",
       "      <td>0</td>\n",
       "      <td>0</td>\n",
       "      <td>0</td>\n",
       "      <td>0</td>\n",
       "      <td>autumn</td>\n",
       "    </tr>\n",
       "    <tr>\n",
       "      <th>167</th>\n",
       "      <td>Wyoming</td>\n",
       "      <td>0</td>\n",
       "      <td>0</td>\n",
       "      <td>0</td>\n",
       "      <td>0</td>\n",
       "      <td>0</td>\n",
       "      <td>0</td>\n",
       "      <td>0</td>\n",
       "      <td>0</td>\n",
       "      <td>1</td>\n",
       "      <td>0</td>\n",
       "      <td>0</td>\n",
       "      <td>0</td>\n",
       "      <td>autumn</td>\n",
       "    </tr>\n",
       "  </tbody>\n",
       "</table>\n",
       "</div>"
      ],
      "text/plain": [
       "           location  air_conditioning  beach_front  outdoor_pool  \\\n",
       "183  New Hamphshire                 0            0             0   \n",
       "165          Berlin                 0            0             0   \n",
       "199           Kenya                 0            0             0   \n",
       "158  New Hamphshire                 0            0             0   \n",
       "255           Kenya                 0            0             0   \n",
       "175           Tokyo                 0            0             0   \n",
       "136          Berlin                 0            0             0   \n",
       "155           Tokyo                 0            0             0   \n",
       "263          Zambia                 0            0             0   \n",
       "167         Wyoming                 0            0             0   \n",
       "\n",
       "     animal_reserve  scenic_beauty  golfing  chair_lift  sauna  fall_colors  \\\n",
       "183               0              0        0           0      0            1   \n",
       "165               0              0        0           0      0            1   \n",
       "199               1              0        0           0      0            0   \n",
       "158               0              0        0           0      0            1   \n",
       "255               1              0        0           0      0            0   \n",
       "175               0              0        0           0      0            1   \n",
       "136               0              0        0           0      0            1   \n",
       "155               0              0        0           0      0            1   \n",
       "263               1              0        0           0      0            0   \n",
       "167               0              0        0           0      0            1   \n",
       "\n",
       "     snowmobile_tours  skiing  aurora  season  \n",
       "183                 0       0       0  autumn  \n",
       "165                 0       0       0  autumn  \n",
       "199                 0       0       0  autumn  \n",
       "158                 0       0       0  autumn  \n",
       "255                 0       0       0  autumn  \n",
       "175                 0       0       0  autumn  \n",
       "136                 0       0       0  autumn  \n",
       "155                 0       0       0  autumn  \n",
       "263                 0       0       0  autumn  \n",
       "167                 0       0       0  autumn  "
      ]
     },
     "execution_count": 139,
     "metadata": {},
     "output_type": "execute_result"
    }
   ],
   "source": [
    "spring_resorts = get_resorts('autumn') \n",
    "spring_resorts.sample(10)"
   ]
  },
  {
   "cell_type": "markdown",
   "metadata": {},
   "source": [
    "### Searching for Spring resorts"
   ]
  },
  {
   "cell_type": "code",
   "execution_count": 140,
   "metadata": {},
   "outputs": [
    {
     "data": {
      "text/html": [
       "<div>\n",
       "<style scoped>\n",
       "    .dataframe tbody tr th:only-of-type {\n",
       "        vertical-align: middle;\n",
       "    }\n",
       "\n",
       "    .dataframe tbody tr th {\n",
       "        vertical-align: top;\n",
       "    }\n",
       "\n",
       "    .dataframe thead th {\n",
       "        text-align: right;\n",
       "    }\n",
       "</style>\n",
       "<table border=\"1\" class=\"dataframe\">\n",
       "  <thead>\n",
       "    <tr style=\"text-align: right;\">\n",
       "      <th></th>\n",
       "      <th>location</th>\n",
       "      <th>air_conditioning</th>\n",
       "      <th>beach_front</th>\n",
       "      <th>outdoor_pool</th>\n",
       "      <th>animal_reserve</th>\n",
       "      <th>scenic_beauty</th>\n",
       "      <th>golfing</th>\n",
       "      <th>chair_lift</th>\n",
       "      <th>sauna</th>\n",
       "      <th>fall_colors</th>\n",
       "      <th>snowmobile_tours</th>\n",
       "      <th>skiing</th>\n",
       "      <th>aurora</th>\n",
       "      <th>season</th>\n",
       "    </tr>\n",
       "  </thead>\n",
       "  <tbody>\n",
       "    <tr>\n",
       "      <th>595</th>\n",
       "      <td>Hobart</td>\n",
       "      <td>1</td>\n",
       "      <td>0</td>\n",
       "      <td>1</td>\n",
       "      <td>0</td>\n",
       "      <td>1</td>\n",
       "      <td>1</td>\n",
       "      <td>0</td>\n",
       "      <td>0</td>\n",
       "      <td>0</td>\n",
       "      <td>0</td>\n",
       "      <td>0</td>\n",
       "      <td>0</td>\n",
       "      <td>spring</td>\n",
       "    </tr>\n",
       "    <tr>\n",
       "      <th>497</th>\n",
       "      <td>Hobart</td>\n",
       "      <td>1</td>\n",
       "      <td>0</td>\n",
       "      <td>1</td>\n",
       "      <td>0</td>\n",
       "      <td>1</td>\n",
       "      <td>1</td>\n",
       "      <td>0</td>\n",
       "      <td>0</td>\n",
       "      <td>0</td>\n",
       "      <td>0</td>\n",
       "      <td>0</td>\n",
       "      <td>0</td>\n",
       "      <td>spring</td>\n",
       "    </tr>\n",
       "    <tr>\n",
       "      <th>543</th>\n",
       "      <td>Hobart</td>\n",
       "      <td>1</td>\n",
       "      <td>0</td>\n",
       "      <td>1</td>\n",
       "      <td>0</td>\n",
       "      <td>1</td>\n",
       "      <td>1</td>\n",
       "      <td>0</td>\n",
       "      <td>0</td>\n",
       "      <td>0</td>\n",
       "      <td>0</td>\n",
       "      <td>0</td>\n",
       "      <td>0</td>\n",
       "      <td>spring</td>\n",
       "    </tr>\n",
       "    <tr>\n",
       "      <th>544</th>\n",
       "      <td>Hobart</td>\n",
       "      <td>1</td>\n",
       "      <td>0</td>\n",
       "      <td>1</td>\n",
       "      <td>0</td>\n",
       "      <td>1</td>\n",
       "      <td>1</td>\n",
       "      <td>0</td>\n",
       "      <td>0</td>\n",
       "      <td>0</td>\n",
       "      <td>0</td>\n",
       "      <td>0</td>\n",
       "      <td>0</td>\n",
       "      <td>spring</td>\n",
       "    </tr>\n",
       "    <tr>\n",
       "      <th>476</th>\n",
       "      <td>Hobart</td>\n",
       "      <td>1</td>\n",
       "      <td>0</td>\n",
       "      <td>1</td>\n",
       "      <td>0</td>\n",
       "      <td>1</td>\n",
       "      <td>1</td>\n",
       "      <td>0</td>\n",
       "      <td>0</td>\n",
       "      <td>0</td>\n",
       "      <td>0</td>\n",
       "      <td>0</td>\n",
       "      <td>0</td>\n",
       "      <td>spring</td>\n",
       "    </tr>\n",
       "    <tr>\n",
       "      <th>493</th>\n",
       "      <td>Miami</td>\n",
       "      <td>1</td>\n",
       "      <td>0</td>\n",
       "      <td>1</td>\n",
       "      <td>0</td>\n",
       "      <td>1</td>\n",
       "      <td>1</td>\n",
       "      <td>0</td>\n",
       "      <td>0</td>\n",
       "      <td>0</td>\n",
       "      <td>0</td>\n",
       "      <td>0</td>\n",
       "      <td>0</td>\n",
       "      <td>spring</td>\n",
       "    </tr>\n",
       "    <tr>\n",
       "      <th>552</th>\n",
       "      <td>Lorraine</td>\n",
       "      <td>1</td>\n",
       "      <td>0</td>\n",
       "      <td>1</td>\n",
       "      <td>0</td>\n",
       "      <td>1</td>\n",
       "      <td>1</td>\n",
       "      <td>0</td>\n",
       "      <td>0</td>\n",
       "      <td>0</td>\n",
       "      <td>0</td>\n",
       "      <td>0</td>\n",
       "      <td>0</td>\n",
       "      <td>spring</td>\n",
       "    </tr>\n",
       "    <tr>\n",
       "      <th>535</th>\n",
       "      <td>Miami</td>\n",
       "      <td>1</td>\n",
       "      <td>0</td>\n",
       "      <td>1</td>\n",
       "      <td>0</td>\n",
       "      <td>1</td>\n",
       "      <td>1</td>\n",
       "      <td>0</td>\n",
       "      <td>0</td>\n",
       "      <td>0</td>\n",
       "      <td>0</td>\n",
       "      <td>0</td>\n",
       "      <td>0</td>\n",
       "      <td>spring</td>\n",
       "    </tr>\n",
       "    <tr>\n",
       "      <th>488</th>\n",
       "      <td>Miami</td>\n",
       "      <td>1</td>\n",
       "      <td>0</td>\n",
       "      <td>1</td>\n",
       "      <td>0</td>\n",
       "      <td>1</td>\n",
       "      <td>1</td>\n",
       "      <td>0</td>\n",
       "      <td>0</td>\n",
       "      <td>0</td>\n",
       "      <td>0</td>\n",
       "      <td>0</td>\n",
       "      <td>0</td>\n",
       "      <td>spring</td>\n",
       "    </tr>\n",
       "    <tr>\n",
       "      <th>485</th>\n",
       "      <td>Lorraine</td>\n",
       "      <td>1</td>\n",
       "      <td>0</td>\n",
       "      <td>1</td>\n",
       "      <td>0</td>\n",
       "      <td>1</td>\n",
       "      <td>1</td>\n",
       "      <td>0</td>\n",
       "      <td>0</td>\n",
       "      <td>0</td>\n",
       "      <td>0</td>\n",
       "      <td>0</td>\n",
       "      <td>0</td>\n",
       "      <td>spring</td>\n",
       "    </tr>\n",
       "  </tbody>\n",
       "</table>\n",
       "</div>"
      ],
      "text/plain": [
       "     location  air_conditioning  beach_front  outdoor_pool  animal_reserve  \\\n",
       "595    Hobart                 1            0             1               0   \n",
       "497    Hobart                 1            0             1               0   \n",
       "543    Hobart                 1            0             1               0   \n",
       "544    Hobart                 1            0             1               0   \n",
       "476    Hobart                 1            0             1               0   \n",
       "493     Miami                 1            0             1               0   \n",
       "552  Lorraine                 1            0             1               0   \n",
       "535     Miami                 1            0             1               0   \n",
       "488     Miami                 1            0             1               0   \n",
       "485  Lorraine                 1            0             1               0   \n",
       "\n",
       "     scenic_beauty  golfing  chair_lift  sauna  fall_colors  snowmobile_tours  \\\n",
       "595              1        1           0      0            0                 0   \n",
       "497              1        1           0      0            0                 0   \n",
       "543              1        1           0      0            0                 0   \n",
       "544              1        1           0      0            0                 0   \n",
       "476              1        1           0      0            0                 0   \n",
       "493              1        1           0      0            0                 0   \n",
       "552              1        1           0      0            0                 0   \n",
       "535              1        1           0      0            0                 0   \n",
       "488              1        1           0      0            0                 0   \n",
       "485              1        1           0      0            0                 0   \n",
       "\n",
       "     skiing  aurora  season  \n",
       "595       0       0  spring  \n",
       "497       0       0  spring  \n",
       "543       0       0  spring  \n",
       "544       0       0  spring  \n",
       "476       0       0  spring  \n",
       "493       0       0  spring  \n",
       "552       0       0  spring  \n",
       "535       0       0  spring  \n",
       "488       0       0  spring  \n",
       "485       0       0  spring  "
      ]
     },
     "execution_count": 140,
     "metadata": {},
     "output_type": "execute_result"
    }
   ],
   "source": [
    "spring_resorts = get_resorts('spring') \n",
    "spring_resorts.sample(10)"
   ]
  }
 ],
 "metadata": {
  "kernelspec": {
   "display_name": "Python 3 (ipykernel)",
   "language": "python",
   "name": "python3"
  },
  "language_info": {
   "codemirror_mode": {
    "name": "ipython",
    "version": 3
   },
   "file_extension": ".py",
   "mimetype": "text/x-python",
   "name": "python",
   "nbconvert_exporter": "python",
   "pygments_lexer": "ipython3",
   "version": "3.10.0"
  }
 },
 "nbformat": 4,
 "nbformat_minor": 4
}
