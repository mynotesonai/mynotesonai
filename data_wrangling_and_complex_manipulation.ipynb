{
 "cells": [
  {
   "cell_type": "markdown",
   "metadata": {},
   "source": [
    "# Data Wrangling with Pandas and NumPy"
   ]
  },
  {
   "cell_type": "markdown",
   "metadata": {},
   "source": [
    "### Loading the data from supplied data file and investigate the data dimension before and after removing the observations/samples."
   ]
  },
  {
   "cell_type": "code",
   "execution_count": 1,
   "metadata": {},
   "outputs": [],
   "source": [
    "import numpy as np\n",
    "import pandas as pd\n",
    "import matplotlib.pyplot as plt\n",
    "from matplotlib import ticker"
   ]
  },
  {
   "cell_type": "code",
   "execution_count": 2,
   "metadata": {},
   "outputs": [],
   "source": [
    "def load_data_frame(file_name):\n",
    "    df = pd.read_csv(file_name)\n",
    "    return df"
   ]
  },
  {
   "cell_type": "markdown",
   "metadata": {},
   "source": [
    "#### Loading the Data"
   ]
  },
  {
   "cell_type": "code",
   "execution_count": 3,
   "metadata": {},
   "outputs": [],
   "source": [
    "df_hd = load_data_frame('A1_heart_disease_dataset.csv')"
   ]
  },
  {
   "cell_type": "code",
   "execution_count": 4,
   "metadata": {},
   "outputs": [
    {
     "data": {
      "text/html": [
       "<div>\n",
       "<style scoped>\n",
       "    .dataframe tbody tr th:only-of-type {\n",
       "        vertical-align: middle;\n",
       "    }\n",
       "\n",
       "    .dataframe tbody tr th {\n",
       "        vertical-align: top;\n",
       "    }\n",
       "\n",
       "    .dataframe thead th {\n",
       "        text-align: right;\n",
       "    }\n",
       "</style>\n",
       "<table border=\"1\" class=\"dataframe\">\n",
       "  <thead>\n",
       "    <tr style=\"text-align: right;\">\n",
       "      <th></th>\n",
       "      <th>age</th>\n",
       "      <th>sex</th>\n",
       "      <th>cp</th>\n",
       "      <th>trestbps</th>\n",
       "      <th>chol</th>\n",
       "      <th>fbs</th>\n",
       "      <th>restecg</th>\n",
       "      <th>thalach</th>\n",
       "      <th>exang</th>\n",
       "      <th>oldpeak</th>\n",
       "      <th>slope</th>\n",
       "      <th>ca</th>\n",
       "      <th>thal</th>\n",
       "      <th>state</th>\n",
       "    </tr>\n",
       "  </thead>\n",
       "  <tbody>\n",
       "    <tr>\n",
       "      <th>0</th>\n",
       "      <td>63.0</td>\n",
       "      <td>M</td>\n",
       "      <td>tap</td>\n",
       "      <td>145.0</td>\n",
       "      <td>233.0</td>\n",
       "      <td>yes</td>\n",
       "      <td>2.0</td>\n",
       "      <td>150.0</td>\n",
       "      <td>0.0</td>\n",
       "      <td>2.3</td>\n",
       "      <td>3.0</td>\n",
       "      <td>0.0</td>\n",
       "      <td>6.0</td>\n",
       "      <td>0.0</td>\n",
       "    </tr>\n",
       "    <tr>\n",
       "      <th>1</th>\n",
       "      <td>67.0</td>\n",
       "      <td>M</td>\n",
       "      <td>asp</td>\n",
       "      <td>160.0</td>\n",
       "      <td>286.0</td>\n",
       "      <td>no</td>\n",
       "      <td>2.0</td>\n",
       "      <td>108.0</td>\n",
       "      <td>1.0</td>\n",
       "      <td>1.5</td>\n",
       "      <td>2.0</td>\n",
       "      <td>3.0</td>\n",
       "      <td>3.0</td>\n",
       "      <td>2.0</td>\n",
       "    </tr>\n",
       "    <tr>\n",
       "      <th>2</th>\n",
       "      <td>67.0</td>\n",
       "      <td>M</td>\n",
       "      <td>asp</td>\n",
       "      <td>120.0</td>\n",
       "      <td>229.0</td>\n",
       "      <td>no</td>\n",
       "      <td>2.0</td>\n",
       "      <td>129.0</td>\n",
       "      <td>1.0</td>\n",
       "      <td>2.6</td>\n",
       "      <td>2.0</td>\n",
       "      <td>2.0</td>\n",
       "      <td>7.0</td>\n",
       "      <td>1.0</td>\n",
       "    </tr>\n",
       "    <tr>\n",
       "      <th>3</th>\n",
       "      <td>37.0</td>\n",
       "      <td>M</td>\n",
       "      <td>nap</td>\n",
       "      <td>130.0</td>\n",
       "      <td>250.0</td>\n",
       "      <td>no</td>\n",
       "      <td>0.0</td>\n",
       "      <td>187.0</td>\n",
       "      <td>0.0</td>\n",
       "      <td>3.5</td>\n",
       "      <td>3.0</td>\n",
       "      <td>0.0</td>\n",
       "      <td>3.0</td>\n",
       "      <td>0.0</td>\n",
       "    </tr>\n",
       "    <tr>\n",
       "      <th>4</th>\n",
       "      <td>41.0</td>\n",
       "      <td>F</td>\n",
       "      <td>aap</td>\n",
       "      <td>130.0</td>\n",
       "      <td>204.0</td>\n",
       "      <td>no</td>\n",
       "      <td>2.0</td>\n",
       "      <td>172.0</td>\n",
       "      <td>0.0</td>\n",
       "      <td>1.4</td>\n",
       "      <td>1.0</td>\n",
       "      <td>0.0</td>\n",
       "      <td>3.0</td>\n",
       "      <td>0.0</td>\n",
       "    </tr>\n",
       "  </tbody>\n",
       "</table>\n",
       "</div>"
      ],
      "text/plain": [
       "    age sex   cp  trestbps   chol  fbs  restecg  thalach  exang  oldpeak  \\\n",
       "0  63.0   M  tap     145.0  233.0  yes      2.0    150.0    0.0      2.3   \n",
       "1  67.0   M  asp     160.0  286.0   no      2.0    108.0    1.0      1.5   \n",
       "2  67.0   M  asp     120.0  229.0   no      2.0    129.0    1.0      2.6   \n",
       "3  37.0   M  nap     130.0  250.0   no      0.0    187.0    0.0      3.5   \n",
       "4  41.0   F  aap     130.0  204.0   no      2.0    172.0    0.0      1.4   \n",
       "\n",
       "   slope   ca  thal  state  \n",
       "0    3.0  0.0   6.0    0.0  \n",
       "1    2.0  3.0   3.0    2.0  \n",
       "2    2.0  2.0   7.0    1.0  \n",
       "3    3.0  0.0   3.0    0.0  \n",
       "4    1.0  0.0   3.0    0.0  "
      ]
     },
     "execution_count": 4,
     "metadata": {},
     "output_type": "execute_result"
    }
   ],
   "source": [
    "df_hd.head()"
   ]
  },
  {
   "cell_type": "code",
   "execution_count": 5,
   "metadata": {},
   "outputs": [],
   "source": [
    "def view_dimension(df_param, message):\n",
    "    dimension = df_param.shape\n",
    "    print(f\"{message} {dimension}\")\n",
    "\n",
    "    index = df_param.index\n",
    "    number_of_rows = len(index)\n",
    "    number_of_cols = dimension[1]\n",
    "    print(f\"Number of Rows: {number_of_rows}\")\n",
    "    print(f\"Number of Columns: {number_of_cols}\")"
   ]
  },
  {
   "cell_type": "markdown",
   "metadata": {},
   "source": [
    "#### Print the dimension of the data before dropping columns"
   ]
  },
  {
   "cell_type": "code",
   "execution_count": 6,
   "metadata": {},
   "outputs": [
    {
     "name": "stdout",
     "output_type": "stream",
     "text": [
      "dimension of the data before dropping columns (303, 14)\n",
      "Number of Rows: 303\n",
      "Number of Columns: 14\n"
     ]
    }
   ],
   "source": [
    "msg = \"dimension of the data before dropping columns\"\n",
    "view_dimension(df_hd, msg)"
   ]
  },
  {
   "cell_type": "markdown",
   "metadata": {},
   "source": [
    "#### Dropping the Records of the people who are not diagonosed"
   ]
  },
  {
   "cell_type": "code",
   "execution_count": 7,
   "metadata": {},
   "outputs": [],
   "source": [
    "def drop_undiagnosed_records(df_param):\n",
    "    df_dg = df_param.drop(df_param[df_param['state'] == 0].index)\n",
    "    return df_dg"
   ]
  },
  {
   "cell_type": "code",
   "execution_count": 8,
   "metadata": {},
   "outputs": [],
   "source": [
    "df_diagnosed_all = drop_undiagnosed_records(df_hd)"
   ]
  },
  {
   "cell_type": "markdown",
   "metadata": {},
   "source": [
    "#### Print the dimension of the dataframe after dropping columns"
   ]
  },
  {
   "cell_type": "code",
   "execution_count": 9,
   "metadata": {},
   "outputs": [
    {
     "name": "stdout",
     "output_type": "stream",
     "text": [
      "dimension of the data after dropping columns (143, 14)\n",
      "Number of Rows: 143\n",
      "Number of Columns: 14\n"
     ]
    }
   ],
   "source": [
    "msg = \"dimension of the data after dropping columns\"\n",
    "view_dimension(df_diagnosed_all, msg)"
   ]
  },
  {
   "cell_type": "markdown",
   "metadata": {},
   "source": [
    "### Identifying the missing data, replace them with minimum value for xcontinuous variables and remove missing data for the categorical samples  "
   ]
  },
  {
   "cell_type": "markdown",
   "metadata": {},
   "source": [
    "#### Total number of rows containing missing data or null "
   ]
  },
  {
   "cell_type": "code",
   "execution_count": 10,
   "metadata": {},
   "outputs": [
    {
     "name": "stdout",
     "output_type": "stream",
     "text": [
      " Total Number of rows containing missing data or null: 14\n"
     ]
    }
   ],
   "source": [
    "df_diagnosed = df_diagnosed_all.copy(deep=True)\n",
    "\n",
    "\n",
    "count_null_missing = df_diagnosed.isnull().any(axis = 1).sum()\n",
    "print(f\" Total Number of rows containing missing data or null: {count_null_missing}\")"
   ]
  },
  {
   "cell_type": "markdown",
   "metadata": {},
   "source": [
    "#### Indices containing missing or null"
   ]
  },
  {
   "cell_type": "code",
   "execution_count": 11,
   "metadata": {},
   "outputs": [],
   "source": [
    "df_null_missing = df_diagnosed[df_diagnosed.isnull().any(axis=1)]"
   ]
  },
  {
   "cell_type": "code",
   "execution_count": 12,
   "metadata": {},
   "outputs": [
    {
     "name": "stdout",
     "output_type": "stream",
     "text": [
      "Indices of missing or null values: [6, 16, 55, 67, 114, 165, 187, 201, 212, 213, 223, 228, 290, 300]\n"
     ]
    }
   ],
   "source": [
    "missing_null_indices = df_null_missing.index.tolist()\n",
    "print(f\"Indices of missing or null values: {missing_null_indices}\")"
   ]
  },
  {
   "cell_type": "code",
   "execution_count": 13,
   "metadata": {},
   "outputs": [
    {
     "data": {
      "text/html": [
       "<div>\n",
       "<style scoped>\n",
       "    .dataframe tbody tr th:only-of-type {\n",
       "        vertical-align: middle;\n",
       "    }\n",
       "\n",
       "    .dataframe tbody tr th {\n",
       "        vertical-align: top;\n",
       "    }\n",
       "\n",
       "    .dataframe thead th {\n",
       "        text-align: right;\n",
       "    }\n",
       "</style>\n",
       "<table border=\"1\" class=\"dataframe\">\n",
       "  <thead>\n",
       "    <tr style=\"text-align: right;\">\n",
       "      <th></th>\n",
       "      <th>age</th>\n",
       "      <th>sex</th>\n",
       "      <th>cp</th>\n",
       "      <th>trestbps</th>\n",
       "      <th>chol</th>\n",
       "      <th>fbs</th>\n",
       "      <th>restecg</th>\n",
       "      <th>thalach</th>\n",
       "      <th>exang</th>\n",
       "      <th>oldpeak</th>\n",
       "      <th>slope</th>\n",
       "      <th>ca</th>\n",
       "      <th>thal</th>\n",
       "      <th>state</th>\n",
       "    </tr>\n",
       "  </thead>\n",
       "  <tbody>\n",
       "    <tr>\n",
       "      <th>6</th>\n",
       "      <td>62.0</td>\n",
       "      <td>F</td>\n",
       "      <td>NaN</td>\n",
       "      <td>140.0</td>\n",
       "      <td>268.0</td>\n",
       "      <td>no</td>\n",
       "      <td>2.0</td>\n",
       "      <td>160.0</td>\n",
       "      <td>0.0</td>\n",
       "      <td>3.6</td>\n",
       "      <td>3.0</td>\n",
       "      <td>2.0</td>\n",
       "      <td>3.0</td>\n",
       "      <td>3.0</td>\n",
       "    </tr>\n",
       "    <tr>\n",
       "      <th>16</th>\n",
       "      <td>NaN</td>\n",
       "      <td>NaN</td>\n",
       "      <td>NaN</td>\n",
       "      <td>NaN</td>\n",
       "      <td>NaN</td>\n",
       "      <td>NaN</td>\n",
       "      <td>NaN</td>\n",
       "      <td>NaN</td>\n",
       "      <td>NaN</td>\n",
       "      <td>NaN</td>\n",
       "      <td>NaN</td>\n",
       "      <td>NaN</td>\n",
       "      <td>NaN</td>\n",
       "      <td>NaN</td>\n",
       "    </tr>\n",
       "    <tr>\n",
       "      <th>55</th>\n",
       "      <td>NaN</td>\n",
       "      <td>NaN</td>\n",
       "      <td>NaN</td>\n",
       "      <td>NaN</td>\n",
       "      <td>NaN</td>\n",
       "      <td>NaN</td>\n",
       "      <td>NaN</td>\n",
       "      <td>NaN</td>\n",
       "      <td>NaN</td>\n",
       "      <td>NaN</td>\n",
       "      <td>NaN</td>\n",
       "      <td>NaN</td>\n",
       "      <td>NaN</td>\n",
       "      <td>NaN</td>\n",
       "    </tr>\n",
       "    <tr>\n",
       "      <th>67</th>\n",
       "      <td>54.0</td>\n",
       "      <td>M</td>\n",
       "      <td>nap</td>\n",
       "      <td>150.0</td>\n",
       "      <td>232.0</td>\n",
       "      <td>no</td>\n",
       "      <td>2.0</td>\n",
       "      <td>165.0</td>\n",
       "      <td>0.0</td>\n",
       "      <td>1.6</td>\n",
       "      <td>1.0</td>\n",
       "      <td>0.0</td>\n",
       "      <td>7.0</td>\n",
       "      <td>NaN</td>\n",
       "    </tr>\n",
       "    <tr>\n",
       "      <th>114</th>\n",
       "      <td>NaN</td>\n",
       "      <td>NaN</td>\n",
       "      <td>NaN</td>\n",
       "      <td>NaN</td>\n",
       "      <td>NaN</td>\n",
       "      <td>NaN</td>\n",
       "      <td>NaN</td>\n",
       "      <td>NaN</td>\n",
       "      <td>NaN</td>\n",
       "      <td>NaN</td>\n",
       "      <td>NaN</td>\n",
       "      <td>NaN</td>\n",
       "      <td>NaN</td>\n",
       "      <td>NaN</td>\n",
       "    </tr>\n",
       "    <tr>\n",
       "      <th>165</th>\n",
       "      <td>57.0</td>\n",
       "      <td>M</td>\n",
       "      <td>asp</td>\n",
       "      <td>132.0</td>\n",
       "      <td>207.0</td>\n",
       "      <td>no</td>\n",
       "      <td>0.0</td>\n",
       "      <td>168.0</td>\n",
       "      <td>1.0</td>\n",
       "      <td>0.0</td>\n",
       "      <td>1.0</td>\n",
       "      <td>NaN</td>\n",
       "      <td>7.0</td>\n",
       "      <td>NaN</td>\n",
       "    </tr>\n",
       "    <tr>\n",
       "      <th>187</th>\n",
       "      <td>NaN</td>\n",
       "      <td>NaN</td>\n",
       "      <td>NaN</td>\n",
       "      <td>NaN</td>\n",
       "      <td>NaN</td>\n",
       "      <td>NaN</td>\n",
       "      <td>NaN</td>\n",
       "      <td>NaN</td>\n",
       "      <td>NaN</td>\n",
       "      <td>NaN</td>\n",
       "      <td>NaN</td>\n",
       "      <td>NaN</td>\n",
       "      <td>NaN</td>\n",
       "      <td>NaN</td>\n",
       "    </tr>\n",
       "    <tr>\n",
       "      <th>201</th>\n",
       "      <td>NaN</td>\n",
       "      <td>NaN</td>\n",
       "      <td>NaN</td>\n",
       "      <td>NaN</td>\n",
       "      <td>NaN</td>\n",
       "      <td>NaN</td>\n",
       "      <td>NaN</td>\n",
       "      <td>NaN</td>\n",
       "      <td>NaN</td>\n",
       "      <td>NaN</td>\n",
       "      <td>NaN</td>\n",
       "      <td>NaN</td>\n",
       "      <td>NaN</td>\n",
       "      <td>NaN</td>\n",
       "    </tr>\n",
       "    <tr>\n",
       "      <th>212</th>\n",
       "      <td>NaN</td>\n",
       "      <td>NaN</td>\n",
       "      <td>NaN</td>\n",
       "      <td>NaN</td>\n",
       "      <td>NaN</td>\n",
       "      <td>NaN</td>\n",
       "      <td>NaN</td>\n",
       "      <td>NaN</td>\n",
       "      <td>NaN</td>\n",
       "      <td>NaN</td>\n",
       "      <td>NaN</td>\n",
       "      <td>NaN</td>\n",
       "      <td>NaN</td>\n",
       "      <td>NaN</td>\n",
       "    </tr>\n",
       "    <tr>\n",
       "      <th>213</th>\n",
       "      <td>NaN</td>\n",
       "      <td>NaN</td>\n",
       "      <td>NaN</td>\n",
       "      <td>NaN</td>\n",
       "      <td>NaN</td>\n",
       "      <td>NaN</td>\n",
       "      <td>NaN</td>\n",
       "      <td>NaN</td>\n",
       "      <td>NaN</td>\n",
       "      <td>NaN</td>\n",
       "      <td>NaN</td>\n",
       "      <td>NaN</td>\n",
       "      <td>NaN</td>\n",
       "      <td>NaN</td>\n",
       "    </tr>\n",
       "    <tr>\n",
       "      <th>223</th>\n",
       "      <td>53.0</td>\n",
       "      <td>M</td>\n",
       "      <td>asp</td>\n",
       "      <td>123.0</td>\n",
       "      <td>282.0</td>\n",
       "      <td>no</td>\n",
       "      <td>0.0</td>\n",
       "      <td>95.0</td>\n",
       "      <td>1.0</td>\n",
       "      <td>2.0</td>\n",
       "      <td>2.0</td>\n",
       "      <td>NaN</td>\n",
       "      <td>7.0</td>\n",
       "      <td>3.0</td>\n",
       "    </tr>\n",
       "    <tr>\n",
       "      <th>228</th>\n",
       "      <td>54.0</td>\n",
       "      <td>M</td>\n",
       "      <td>asp</td>\n",
       "      <td>110.0</td>\n",
       "      <td>NaN</td>\n",
       "      <td>no</td>\n",
       "      <td>2.0</td>\n",
       "      <td>108.0</td>\n",
       "      <td>1.0</td>\n",
       "      <td>0.0</td>\n",
       "      <td>2.0</td>\n",
       "      <td>1.0</td>\n",
       "      <td>3.0</td>\n",
       "      <td>3.0</td>\n",
       "    </tr>\n",
       "    <tr>\n",
       "      <th>290</th>\n",
       "      <td>67.0</td>\n",
       "      <td>M</td>\n",
       "      <td>nap</td>\n",
       "      <td>152.0</td>\n",
       "      <td>212.0</td>\n",
       "      <td>no</td>\n",
       "      <td>2.0</td>\n",
       "      <td>NaN</td>\n",
       "      <td>0.0</td>\n",
       "      <td>0.8</td>\n",
       "      <td>2.0</td>\n",
       "      <td>0.0</td>\n",
       "      <td>7.0</td>\n",
       "      <td>1.0</td>\n",
       "    </tr>\n",
       "    <tr>\n",
       "      <th>300</th>\n",
       "      <td>NaN</td>\n",
       "      <td>NaN</td>\n",
       "      <td>NaN</td>\n",
       "      <td>NaN</td>\n",
       "      <td>NaN</td>\n",
       "      <td>NaN</td>\n",
       "      <td>NaN</td>\n",
       "      <td>NaN</td>\n",
       "      <td>NaN</td>\n",
       "      <td>NaN</td>\n",
       "      <td>NaN</td>\n",
       "      <td>NaN</td>\n",
       "      <td>NaN</td>\n",
       "      <td>NaN</td>\n",
       "    </tr>\n",
       "  </tbody>\n",
       "</table>\n",
       "</div>"
      ],
      "text/plain": [
       "      age  sex   cp  trestbps   chol  fbs  restecg  thalach  exang  oldpeak  \\\n",
       "6    62.0    F  NaN     140.0  268.0   no      2.0    160.0    0.0      3.6   \n",
       "16    NaN  NaN  NaN       NaN    NaN  NaN      NaN      NaN    NaN      NaN   \n",
       "55    NaN  NaN  NaN       NaN    NaN  NaN      NaN      NaN    NaN      NaN   \n",
       "67   54.0    M  nap     150.0  232.0   no      2.0    165.0    0.0      1.6   \n",
       "114   NaN  NaN  NaN       NaN    NaN  NaN      NaN      NaN    NaN      NaN   \n",
       "165  57.0    M  asp     132.0  207.0   no      0.0    168.0    1.0      0.0   \n",
       "187   NaN  NaN  NaN       NaN    NaN  NaN      NaN      NaN    NaN      NaN   \n",
       "201   NaN  NaN  NaN       NaN    NaN  NaN      NaN      NaN    NaN      NaN   \n",
       "212   NaN  NaN  NaN       NaN    NaN  NaN      NaN      NaN    NaN      NaN   \n",
       "213   NaN  NaN  NaN       NaN    NaN  NaN      NaN      NaN    NaN      NaN   \n",
       "223  53.0    M  asp     123.0  282.0   no      0.0     95.0    1.0      2.0   \n",
       "228  54.0    M  asp     110.0    NaN   no      2.0    108.0    1.0      0.0   \n",
       "290  67.0    M  nap     152.0  212.0   no      2.0      NaN    0.0      0.8   \n",
       "300   NaN  NaN  NaN       NaN    NaN  NaN      NaN      NaN    NaN      NaN   \n",
       "\n",
       "     slope   ca  thal  state  \n",
       "6      3.0  2.0   3.0    3.0  \n",
       "16     NaN  NaN   NaN    NaN  \n",
       "55     NaN  NaN   NaN    NaN  \n",
       "67     1.0  0.0   7.0    NaN  \n",
       "114    NaN  NaN   NaN    NaN  \n",
       "165    1.0  NaN   7.0    NaN  \n",
       "187    NaN  NaN   NaN    NaN  \n",
       "201    NaN  NaN   NaN    NaN  \n",
       "212    NaN  NaN   NaN    NaN  \n",
       "213    NaN  NaN   NaN    NaN  \n",
       "223    2.0  NaN   7.0    3.0  \n",
       "228    2.0  1.0   3.0    3.0  \n",
       "290    2.0  0.0   7.0    1.0  \n",
       "300    NaN  NaN   NaN    NaN  "
      ]
     },
     "execution_count": 13,
     "metadata": {},
     "output_type": "execute_result"
    }
   ],
   "source": [
    "df_null_missing.head(count_null_missing)"
   ]
  },
  {
   "cell_type": "markdown",
   "metadata": {},
   "source": [
    "#### Printing the datatype before dropping or replacing data"
   ]
  },
  {
   "cell_type": "code",
   "execution_count": 14,
   "metadata": {},
   "outputs": [
    {
     "name": "stdout",
     "output_type": "stream",
     "text": [
      "<class 'pandas.core.frame.DataFrame'>\n",
      "Int64Index: 143 entries, 1 to 301\n",
      "Data columns (total 14 columns):\n",
      " #   Column    Non-Null Count  Dtype  \n",
      "---  ------    --------------  -----  \n",
      " 0   age       135 non-null    float64\n",
      " 1   sex       135 non-null    object \n",
      " 2   cp        134 non-null    object \n",
      " 3   trestbps  135 non-null    float64\n",
      " 4   chol      134 non-null    float64\n",
      " 5   fbs       135 non-null    object \n",
      " 6   restecg   135 non-null    float64\n",
      " 7   thalach   134 non-null    float64\n",
      " 8   exang     135 non-null    float64\n",
      " 9   oldpeak   135 non-null    float64\n",
      " 10  slope     135 non-null    float64\n",
      " 11  ca        133 non-null    float64\n",
      " 12  thal      135 non-null    float64\n",
      " 13  state     133 non-null    float64\n",
      "dtypes: float64(11), object(3)\n",
      "memory usage: 16.8+ KB\n"
     ]
    }
   ],
   "source": [
    "df_diagnosed.info()"
   ]
  },
  {
   "cell_type": "markdown",
   "metadata": {},
   "source": [
    "#### Printing the median value before dropping or replacing data"
   ]
  },
  {
   "cell_type": "code",
   "execution_count": 15,
   "metadata": {},
   "outputs": [
    {
     "name": "stdout",
     "output_type": "stream",
     "text": [
      "Median value before dropping or replacing data:\n",
      "-----------------------------------------------\n",
      "age          58.0\n",
      "trestbps    132.0\n",
      "chol        251.0\n",
      "restecg       2.0\n",
      "thalach     142.0\n",
      "exang         1.0\n",
      "oldpeak       1.4\n",
      "slope         2.0\n",
      "ca            1.0\n",
      "thal          7.0\n",
      "state         2.0\n",
      "dtype: float64\n"
     ]
    }
   ],
   "source": [
    "median=df_diagnosed.median(axis=0)\n",
    "print(\"Median value before dropping or replacing data:\")\n",
    "print(\"-----------------------------------------------\")\n",
    "print(median)"
   ]
  },
  {
   "cell_type": "markdown",
   "metadata": {},
   "source": [
    "#### Replacing missing data by the lowest value of the corresponding feature if it is a continuous variable\n",
    "Following is the list of <b> Continuos Variable </b> found in the dataset"
   ]
  },
  {
   "cell_type": "markdown",
   "metadata": {},
   "source": [
    "<ol>\n",
    "<li>age</li>\n",
    "<li>trestbps</li>\n",
    "<li>chol</li>\n",
    "<li>thalach</li>\n",
    "<li>oldpeak</li>\n",
    "</ol>"
   ]
  },
  {
   "cell_type": "code",
   "execution_count": 16,
   "metadata": {},
   "outputs": [],
   "source": [
    "# Replace Nan Continuous Values with lowest column value.\n",
    "df_diagnosed['age'].fillna(value=df_diagnosed['age'].min(),inplace=True)\n",
    "df_diagnosed['trestbps'].fillna(value=df_diagnosed['trestbps'].min(),inplace=True)\n",
    "df_diagnosed['chol'].fillna(value=df_diagnosed['chol'].min(),inplace=True)\n",
    "df_diagnosed['thalach'].fillna(value=df_diagnosed['thalach'].min(),inplace=True)\n",
    "df_diagnosed['oldpeak'].fillna(value=df_diagnosed['oldpeak'].min(),inplace=True)"
   ]
  },
  {
   "cell_type": "markdown",
   "metadata": {},
   "source": [
    "#### Removing the missing discrete data"
   ]
  },
  {
   "cell_type": "markdown",
   "metadata": {},
   "source": [
    "<ol>\n",
    "<li>sex</li>\n",
    "<li>cp</li>\n",
    "<li>fbs</li>\n",
    "<li>restecg</li>\n",
    "<li>exang</li>\n",
    "<li>slope</li>\n",
    "<li>ca</li>\n",
    "<li>thal</li>\n",
    "<li>state</li>\n",
    "</ol>"
   ]
  },
  {
   "cell_type": "code",
   "execution_count": 17,
   "metadata": {},
   "outputs": [
    {
     "data": {
      "text/html": [
       "<div>\n",
       "<style scoped>\n",
       "    .dataframe tbody tr th:only-of-type {\n",
       "        vertical-align: middle;\n",
       "    }\n",
       "\n",
       "    .dataframe tbody tr th {\n",
       "        vertical-align: top;\n",
       "    }\n",
       "\n",
       "    .dataframe thead th {\n",
       "        text-align: right;\n",
       "    }\n",
       "</style>\n",
       "<table border=\"1\" class=\"dataframe\">\n",
       "  <thead>\n",
       "    <tr style=\"text-align: right;\">\n",
       "      <th></th>\n",
       "      <th>age</th>\n",
       "      <th>sex</th>\n",
       "      <th>cp</th>\n",
       "      <th>trestbps</th>\n",
       "      <th>chol</th>\n",
       "      <th>fbs</th>\n",
       "      <th>restecg</th>\n",
       "      <th>thalach</th>\n",
       "      <th>exang</th>\n",
       "      <th>oldpeak</th>\n",
       "      <th>slope</th>\n",
       "      <th>ca</th>\n",
       "      <th>thal</th>\n",
       "      <th>state</th>\n",
       "    </tr>\n",
       "  </thead>\n",
       "  <tbody>\n",
       "    <tr>\n",
       "      <th>1</th>\n",
       "      <td>67.0</td>\n",
       "      <td>M</td>\n",
       "      <td>asp</td>\n",
       "      <td>160.0</td>\n",
       "      <td>286.0</td>\n",
       "      <td>no</td>\n",
       "      <td>2.0</td>\n",
       "      <td>108.0</td>\n",
       "      <td>1.0</td>\n",
       "      <td>1.5</td>\n",
       "      <td>2.0</td>\n",
       "      <td>3.0</td>\n",
       "      <td>3.0</td>\n",
       "      <td>2.0</td>\n",
       "    </tr>\n",
       "    <tr>\n",
       "      <th>2</th>\n",
       "      <td>67.0</td>\n",
       "      <td>M</td>\n",
       "      <td>asp</td>\n",
       "      <td>120.0</td>\n",
       "      <td>229.0</td>\n",
       "      <td>no</td>\n",
       "      <td>2.0</td>\n",
       "      <td>129.0</td>\n",
       "      <td>1.0</td>\n",
       "      <td>2.6</td>\n",
       "      <td>2.0</td>\n",
       "      <td>2.0</td>\n",
       "      <td>7.0</td>\n",
       "      <td>1.0</td>\n",
       "    </tr>\n",
       "    <tr>\n",
       "      <th>8</th>\n",
       "      <td>63.0</td>\n",
       "      <td>M</td>\n",
       "      <td>asp</td>\n",
       "      <td>130.0</td>\n",
       "      <td>254.0</td>\n",
       "      <td>no</td>\n",
       "      <td>2.0</td>\n",
       "      <td>147.0</td>\n",
       "      <td>0.0</td>\n",
       "      <td>1.4</td>\n",
       "      <td>2.0</td>\n",
       "      <td>1.0</td>\n",
       "      <td>7.0</td>\n",
       "      <td>2.0</td>\n",
       "    </tr>\n",
       "    <tr>\n",
       "      <th>9</th>\n",
       "      <td>53.0</td>\n",
       "      <td>M</td>\n",
       "      <td>asp</td>\n",
       "      <td>140.0</td>\n",
       "      <td>203.0</td>\n",
       "      <td>yes</td>\n",
       "      <td>2.0</td>\n",
       "      <td>155.0</td>\n",
       "      <td>1.0</td>\n",
       "      <td>3.1</td>\n",
       "      <td>3.0</td>\n",
       "      <td>0.0</td>\n",
       "      <td>7.0</td>\n",
       "      <td>1.0</td>\n",
       "    </tr>\n",
       "    <tr>\n",
       "      <th>12</th>\n",
       "      <td>56.0</td>\n",
       "      <td>M</td>\n",
       "      <td>nap</td>\n",
       "      <td>130.0</td>\n",
       "      <td>256.0</td>\n",
       "      <td>yes</td>\n",
       "      <td>2.0</td>\n",
       "      <td>142.0</td>\n",
       "      <td>1.0</td>\n",
       "      <td>0.6</td>\n",
       "      <td>2.0</td>\n",
       "      <td>1.0</td>\n",
       "      <td>6.0</td>\n",
       "      <td>2.0</td>\n",
       "    </tr>\n",
       "  </tbody>\n",
       "</table>\n",
       "</div>"
      ],
      "text/plain": [
       "     age sex   cp  trestbps   chol  fbs  restecg  thalach  exang  oldpeak  \\\n",
       "1   67.0   M  asp     160.0  286.0   no      2.0    108.0    1.0      1.5   \n",
       "2   67.0   M  asp     120.0  229.0   no      2.0    129.0    1.0      2.6   \n",
       "8   63.0   M  asp     130.0  254.0   no      2.0    147.0    0.0      1.4   \n",
       "9   53.0   M  asp     140.0  203.0  yes      2.0    155.0    1.0      3.1   \n",
       "12  56.0   M  nap     130.0  256.0  yes      2.0    142.0    1.0      0.6   \n",
       "\n",
       "    slope   ca  thal  state  \n",
       "1     2.0  3.0   3.0    2.0  \n",
       "2     2.0  2.0   7.0    1.0  \n",
       "8     2.0  1.0   7.0    2.0  \n",
       "9     3.0  0.0   7.0    1.0  \n",
       "12    2.0  1.0   6.0    2.0  "
      ]
     },
     "execution_count": 17,
     "metadata": {},
     "output_type": "execute_result"
    }
   ],
   "source": [
    "df_diagnosed.dropna(subset=[\"sex\"],inplace=True)\n",
    "df_diagnosed.dropna(subset=[\"cp\"],inplace=True)\n",
    "df_diagnosed.dropna(subset=[\"fbs\"],inplace=True)\n",
    "df_diagnosed.dropna(subset=[\"restecg\"],inplace=True)\n",
    "df_diagnosed.dropna(subset=[\"exang\"],inplace=True)\n",
    "df_diagnosed.dropna(subset=[\"slope\"],inplace=True)\n",
    "df_diagnosed.dropna(subset=[\"ca\"],inplace=True)\n",
    "df_diagnosed.dropna(subset=[\"thal\"],inplace=True)\n",
    "df_diagnosed.dropna(subset=[\"state\"],inplace=True)\n",
    "\n",
    "df_diagnosed.head()"
   ]
  },
  {
   "cell_type": "markdown",
   "metadata": {},
   "source": [
    "#### Printing the median value after dropping/replacing data"
   ]
  },
  {
   "cell_type": "code",
   "execution_count": 18,
   "metadata": {},
   "outputs": [
    {
     "name": "stdout",
     "output_type": "stream",
     "text": [
      "Median value after dropping or replacing data:\n",
      "-----------------------------------------------\n",
      "age          58.0\n",
      "trestbps    130.0\n",
      "chol        249.0\n",
      "restecg       2.0\n",
      "thalach     142.0\n",
      "exang         1.0\n",
      "oldpeak       1.4\n",
      "slope         2.0\n",
      "ca            1.0\n",
      "thal          7.0\n",
      "state         2.0\n",
      "dtype: float64\n"
     ]
    }
   ],
   "source": [
    "median=df_diagnosed.median(axis=0)\n",
    "print(\"Median value after dropping or replacing data:\")\n",
    "print(\"-----------------------------------------------\")\n",
    "print(median)"
   ]
  },
  {
   "cell_type": "markdown",
   "metadata": {},
   "source": [
    "### Converting dataset columns to the appropriate data types  if necessary"
   ]
  },
  {
   "cell_type": "markdown",
   "metadata": {},
   "source": [
    "#### There are no changes in the datatype. But I notice a few categorical variable are of type float, that can be converted to either integer and a few object types that can be converted to bool based on the nature of the variable"
   ]
  },
  {
   "cell_type": "code",
   "execution_count": 19,
   "metadata": {},
   "outputs": [
    {
     "name": "stdout",
     "output_type": "stream",
     "text": [
      "<class 'pandas.core.frame.DataFrame'>\n",
      "Int64Index: 131 entries, 1 to 301\n",
      "Data columns (total 14 columns):\n",
      " #   Column    Non-Null Count  Dtype  \n",
      "---  ------    --------------  -----  \n",
      " 0   age       131 non-null    float64\n",
      " 1   sex       131 non-null    object \n",
      " 2   cp        131 non-null    object \n",
      " 3   trestbps  131 non-null    float64\n",
      " 4   chol      131 non-null    float64\n",
      " 5   fbs       131 non-null    object \n",
      " 6   restecg   131 non-null    float64\n",
      " 7   thalach   131 non-null    float64\n",
      " 8   exang     131 non-null    float64\n",
      " 9   oldpeak   131 non-null    float64\n",
      " 10  slope     131 non-null    float64\n",
      " 11  ca        131 non-null    float64\n",
      " 12  thal      131 non-null    float64\n",
      " 13  state     131 non-null    float64\n",
      "dtypes: float64(11), object(3)\n",
      "memory usage: 15.4+ KB\n"
     ]
    }
   ],
   "source": [
    "df_diagnosed.info()"
   ]
  },
  {
   "cell_type": "code",
   "execution_count": 20,
   "metadata": {},
   "outputs": [],
   "source": [
    "df_diagnosed['restecg'] = df_diagnosed['restecg'].astype(int, errors = 'raise')\n",
    "df_diagnosed['exang'] = df_diagnosed['exang'].astype(int, errors = 'raise')\n",
    "df_diagnosed['slope'] = df_diagnosed['slope'].astype(int, errors = 'raise')\n",
    "df_diagnosed['ca'] = df_diagnosed['ca'].astype(int, errors = 'raise')\n",
    "df_diagnosed['thal'] = df_diagnosed['thal'].astype(int, errors = 'raise')\n",
    "df_diagnosed['state'] = df_diagnosed['state'].astype(int, errors = 'raise')\n",
    "\n",
    "values_to_bools = {'yes': 1, 'no': 0}\n",
    "df_diagnosed['fbs'] = df_diagnosed['fbs'].map(values_to_bools)\n",
    "df_diagnosed['fbs'] = df_diagnosed['fbs'].astype('bool')"
   ]
  },
  {
   "cell_type": "code",
   "execution_count": 21,
   "metadata": {},
   "outputs": [
    {
     "name": "stdout",
     "output_type": "stream",
     "text": [
      "<class 'pandas.core.frame.DataFrame'>\n",
      "Int64Index: 131 entries, 1 to 301\n",
      "Data columns (total 14 columns):\n",
      " #   Column    Non-Null Count  Dtype  \n",
      "---  ------    --------------  -----  \n",
      " 0   age       131 non-null    float64\n",
      " 1   sex       131 non-null    object \n",
      " 2   cp        131 non-null    object \n",
      " 3   trestbps  131 non-null    float64\n",
      " 4   chol      131 non-null    float64\n",
      " 5   fbs       131 non-null    bool   \n",
      " 6   restecg   131 non-null    int64  \n",
      " 7   thalach   131 non-null    float64\n",
      " 8   exang     131 non-null    int64  \n",
      " 9   oldpeak   131 non-null    float64\n",
      " 10  slope     131 non-null    int64  \n",
      " 11  ca        131 non-null    int64  \n",
      " 12  thal      131 non-null    int64  \n",
      " 13  state     131 non-null    int64  \n",
      "dtypes: bool(1), float64(5), int64(6), object(2)\n",
      "memory usage: 14.5+ KB\n"
     ]
    }
   ],
   "source": [
    "df_diagnosed.info()"
   ]
  },
  {
   "cell_type": "markdown",
   "metadata": {},
   "source": [
    "### Identifying and Print the total numbers and ratio of male and female patients who are at highest risk of heart disease."
   ]
  },
  {
   "cell_type": "markdown",
   "metadata": {},
   "source": [
    "#### Print the total number of high risk patients of both male and female genders"
   ]
  },
  {
   "cell_type": "code",
   "execution_count": 22,
   "metadata": {},
   "outputs": [
    {
     "name": "stdout",
     "output_type": "stream",
     "text": [
      "Total number of male high risk patients 11\n",
      "Total number of female high risk patients 2\n"
     ]
    }
   ],
   "source": [
    "df_high_risk = df_diagnosed[df_diagnosed['state'] == 4]\n",
    "high_risk_gender_group = df_high_risk.apply(lambda x: \"Male\" if x['sex'] == \"M\" else \"Female\", axis=1)\n",
    "\n",
    "male_count = len(high_risk_gender_group[high_risk_gender_group == \"Male\"].index)\n",
    "female_count = len(high_risk_gender_group[high_risk_gender_group == \"Female\"].index)\n",
    "\n",
    "print(f\"Total number of male high risk patients {male_count}\")\n",
    "print(f\"Total number of female high risk patients {female_count}\")"
   ]
  },
  {
   "cell_type": "markdown",
   "metadata": {},
   "source": [
    "#### Ratio between male and female who are at high risk of heart disease "
   ]
  },
  {
   "cell_type": "code",
   "execution_count": 23,
   "metadata": {},
   "outputs": [
    {
     "name": "stdout",
     "output_type": "stream",
     "text": [
      "Total number of male to female 5.5\n"
     ]
    }
   ],
   "source": [
    "male_to_female_ratio = male_count / female_count\n",
    "print(f\"Total number of male to female {male_to_female_ratio}\")"
   ]
  },
  {
   "cell_type": "markdown",
   "metadata": {},
   "source": [
    "### Using Visualization to investigate if there is any association between heart rate and severity of heart disease."
   ]
  },
  {
   "cell_type": "markdown",
   "metadata": {},
   "source": [
    "### Scatter Plot to study the association between Heart Rate and Heart Disease Risk State"
   ]
  },
  {
   "cell_type": "code",
   "execution_count": 24,
   "metadata": {},
   "outputs": [],
   "source": [
    "## Configure plot\n",
    "\n",
    "y_step_size = 1\n",
    "x_step_size = 10\n",
    "\n",
    "figure_dim = (15, 4)\n",
    "\n",
    "plt_color = \"green\""
   ]
  },
  {
   "cell_type": "code",
   "execution_count": 25,
   "metadata": {},
   "outputs": [
    {
     "data": {
      "image/png": "[encoded data removed]",
      "text/plain": [
       "<Figure size 1080x288 with 1 Axes>"
      ]
     },
     "metadata": {
      "needs_background": "light"
     },
     "output_type": "display_data"
    }
   ],
   "source": [
    "p_figure, p_axis = plt.subplots(figsize=figure_dim)\n",
    "p_axis.scatter(x = df_diagnosed[\"thalach\"], y = df_diagnosed[\"state\"], c=plt_color)\n",
    "\n",
    "plt.xticks(np.arange(df_diagnosed[\"thalach\"].min(), df_diagnosed[\"thalach\"].max(), x_step_size))\n",
    "plt.yticks(np.arange(df_diagnosed[\"state\"].min(), df_diagnosed[\"state\"].max()+1, y_step_size))\n",
    "\n",
    "plt.xlabel(\"Maximum Heart Rate Achieved (thalach)\")\n",
    "plt.ylabel(\"Heart disease risk state (state)\")\n",
    "\n",
    "plt.show()"
   ]
  },
  {
   "cell_type": "markdown",
   "metadata": {},
   "source": [
    "### Explanation:\n",
    "\n",
    "The scatter plot above shows the correlation between Maximum Heart Rate Achived(thalach) and the Heart Disease Risk State(state). Patients with High risk of Heart disease have their thalach in the range between <b>124-165</b>. So we can conclude that:\n",
    "\n",
    "<ol>\n",
    "    <li><b>High Risk Patients: Patients with lower thalach(Maximum Heart Rate) in the range of 71-112 have a lower risk of heart disease</b>, while </li>\n",
    "    <li><b>Patients with higher thalach in the range of 124-165 have a higher risk of heart disease.</b></li>\n",
    "    <li><b>Moderate Risk Patients: Patients with thalach range 111-170 have potential risk of hear disease, because they have risk state 3</b></li>\n",
    "</ol>"
   ]
  },
  {
   "cell_type": "markdown",
   "metadata": {},
   "source": [
    "### Scatter Plot to study the association between Heart Rate and No. of Major Vessels affected"
   ]
  },
  {
   "cell_type": "code",
   "execution_count": 26,
   "metadata": {},
   "outputs": [],
   "source": [
    "## Configure plot\n",
    "\n",
    "y_step_size = 1\n",
    "x_step_size = 10\n",
    "\n",
    "figure_dim = (15, 4)\n",
    "\n",
    "plt_color = \"blue\""
   ]
  },
  {
   "cell_type": "code",
   "execution_count": 27,
   "metadata": {},
   "outputs": [
    {
     "data": {
      "image/png": "[encoded data removed]",
      "text/plain": [
       "<Figure size 1080x288 with 1 Axes>"
      ]
     },
     "metadata": {
      "needs_background": "light"
     },
     "output_type": "display_data"
    }
   ],
   "source": [
    "p_figure, p_axis = plt.subplots(figsize=figure_dim)\n",
    "p_axis.scatter(x = df_diagnosed[\"thalach\"], y = df_diagnosed[\"ca\"], c=plt_color)\n",
    "\n",
    "plt.xticks(np.arange(df_diagnosed[\"thalach\"].min(), df_diagnosed[\"thalach\"].max(), x_step_size))\n",
    "plt.yticks(np.arange(df_diagnosed[\"ca\"].min(), df_diagnosed[\"ca\"].max()+1, y_step_size))\n",
    "\n",
    "plt.xlabel(\"Maximum Heart Rate Achieved\")\n",
    "plt.ylabel(\"Number of Major Vessels Affected\")\n",
    "\n",
    "plt.show()"
   ]
  },
  {
   "cell_type": "markdown",
   "metadata": {},
   "source": [
    "### Explanation:\n",
    "\n",
    "The scatter plot above shows the correlation between Maximum Heart Rate Achived(thalach) and the Number of major vessels affected. Patients with Maximum Number of Vessels affected have their thalach in the range between <b>124-165</b>. So we can conclude that:\n",
    "\n",
    "<ol>\n",
    "    <li><b>Number of Vessels affected: Patients with lower thalach(Maximum Heart Rate) in the range of 71-112 have either 0 or less than 2 major vessels affected.</b>, while </li>\n",
    "    <li><b>Patients with higher thalach in the range of 124-165 have a higher number of major vessels affected.</b></li>\n",
    "</ol>"
   ]
  },
  {
   "cell_type": "markdown",
   "metadata": {},
   "source": [
    "## Performing complex data manipulation"
   ]
  },
  {
   "cell_type": "markdown",
   "metadata": {},
   "source": [
    "### Printing the average cholesterol level for different number of blocked blood vessels across gender. Reporting the pattern found in the result, if any."
   ]
  },
  {
   "cell_type": "code",
   "execution_count": 28,
   "metadata": {},
   "outputs": [
    {
     "data": {
      "text/html": [
       "<div>\n",
       "<style scoped>\n",
       "    .dataframe tbody tr th:only-of-type {\n",
       "        vertical-align: middle;\n",
       "    }\n",
       "\n",
       "    .dataframe tbody tr th {\n",
       "        vertical-align: top;\n",
       "    }\n",
       "\n",
       "    .dataframe thead th {\n",
       "        text-align: right;\n",
       "    }\n",
       "</style>\n",
       "<table border=\"1\" class=\"dataframe\">\n",
       "  <thead>\n",
       "    <tr style=\"text-align: right;\">\n",
       "      <th></th>\n",
       "      <th></th>\n",
       "      <th>chol</th>\n",
       "    </tr>\n",
       "    <tr>\n",
       "      <th>ca</th>\n",
       "      <th>sex</th>\n",
       "      <th></th>\n",
       "    </tr>\n",
       "  </thead>\n",
       "  <tbody>\n",
       "    <tr>\n",
       "      <th rowspan=\"2\" valign=\"top\">0</th>\n",
       "      <th>F</th>\n",
       "      <td>284.60</td>\n",
       "    </tr>\n",
       "    <tr>\n",
       "      <th>M</th>\n",
       "      <td>242.72</td>\n",
       "    </tr>\n",
       "    <tr>\n",
       "      <th rowspan=\"2\" valign=\"top\">1</th>\n",
       "      <th>F</th>\n",
       "      <td>220.50</td>\n",
       "    </tr>\n",
       "    <tr>\n",
       "      <th>M</th>\n",
       "      <td>243.00</td>\n",
       "    </tr>\n",
       "    <tr>\n",
       "      <th rowspan=\"2\" valign=\"top\">2</th>\n",
       "      <th>F</th>\n",
       "      <td>294.67</td>\n",
       "    </tr>\n",
       "    <tr>\n",
       "      <th>M</th>\n",
       "      <td>243.73</td>\n",
       "    </tr>\n",
       "    <tr>\n",
       "      <th rowspan=\"2\" valign=\"top\">3</th>\n",
       "      <th>F</th>\n",
       "      <td>272.50</td>\n",
       "    </tr>\n",
       "    <tr>\n",
       "      <th>M</th>\n",
       "      <td>271.92</td>\n",
       "    </tr>\n",
       "  </tbody>\n",
       "</table>\n",
       "</div>"
      ],
      "text/plain": [
       "          chol\n",
       "ca sex        \n",
       "0  F    284.60\n",
       "   M    242.72\n",
       "1  F    220.50\n",
       "   M    243.00\n",
       "2  F    294.67\n",
       "   M    243.73\n",
       "3  F    272.50\n",
       "   M    271.92"
      ]
     },
     "execution_count": 28,
     "metadata": {},
     "output_type": "execute_result"
    }
   ],
   "source": [
    "#Print the average cholesterol level for different number of blocked blood vessels across gender.\n",
    "\n",
    "choles=df_diagnosed[['ca', 'sex', 'chol']]\n",
    "np.round(choles.groupby(['ca','sex']).mean(), decimals=2)"
   ]
  },
  {
   "cell_type": "markdown",
   "metadata": {},
   "source": [
    "### My findings:\n",
    "\n",
    "From the dataset I can observe a few patters stated below \n",
    "<ul>\n",
    "    <li>Male patients tend to have more number of vessels affected with higher Cholesterol level. So I can deduce that numer of vessels affected has a positive correlation with higher Cholesterol level only for the Male patients.</li>\n",
    "    <li>Female patients records do not show any correlation between higher level of Cholesterol and the number of vessels affected.</li>\n",
    "    <li>The average age group of the female patients is more than 56 and I can see a pattern of Cholesterol increase in female patients as they age. This pattern is missing in the Male data samples.</li>\n",
    "</ul>"
   ]
  },
  {
   "cell_type": "markdown",
   "metadata": {},
   "source": [
    "### Print the percentage of patients at risk of heart disease having abnormality in both ECG and blood sugar with asymptomatic chest pain"
   ]
  },
  {
   "cell_type": "code",
   "execution_count": 29,
   "metadata": {},
   "outputs": [
    {
     "data": {
      "text/html": [
       "<div>\n",
       "<style scoped>\n",
       "    .dataframe tbody tr th:only-of-type {\n",
       "        vertical-align: middle;\n",
       "    }\n",
       "\n",
       "    .dataframe tbody tr th {\n",
       "        vertical-align: top;\n",
       "    }\n",
       "\n",
       "    .dataframe thead th {\n",
       "        text-align: right;\n",
       "    }\n",
       "</style>\n",
       "<table border=\"1\" class=\"dataframe\">\n",
       "  <thead>\n",
       "    <tr style=\"text-align: right;\">\n",
       "      <th></th>\n",
       "      <th>age</th>\n",
       "      <th>sex</th>\n",
       "      <th>cp</th>\n",
       "      <th>trestbps</th>\n",
       "      <th>chol</th>\n",
       "      <th>fbs</th>\n",
       "      <th>restecg</th>\n",
       "      <th>thalach</th>\n",
       "      <th>exang</th>\n",
       "      <th>oldpeak</th>\n",
       "      <th>slope</th>\n",
       "      <th>ca</th>\n",
       "      <th>thal</th>\n",
       "      <th>state</th>\n",
       "    </tr>\n",
       "  </thead>\n",
       "  <tbody>\n",
       "    <tr>\n",
       "      <th>9</th>\n",
       "      <td>53.0</td>\n",
       "      <td>M</td>\n",
       "      <td>asp</td>\n",
       "      <td>140.0</td>\n",
       "      <td>203.0</td>\n",
       "      <td>True</td>\n",
       "      <td>2</td>\n",
       "      <td>155.0</td>\n",
       "      <td>1</td>\n",
       "      <td>3.1</td>\n",
       "      <td>3</td>\n",
       "      <td>0</td>\n",
       "      <td>7</td>\n",
       "      <td>1</td>\n",
       "    </tr>\n",
       "    <tr>\n",
       "      <th>111</th>\n",
       "      <td>56.0</td>\n",
       "      <td>M</td>\n",
       "      <td>asp</td>\n",
       "      <td>125.0</td>\n",
       "      <td>249.0</td>\n",
       "      <td>True</td>\n",
       "      <td>2</td>\n",
       "      <td>144.0</td>\n",
       "      <td>1</td>\n",
       "      <td>1.2</td>\n",
       "      <td>2</td>\n",
       "      <td>1</td>\n",
       "      <td>3</td>\n",
       "      <td>1</td>\n",
       "    </tr>\n",
       "    <tr>\n",
       "      <th>113</th>\n",
       "      <td>43.0</td>\n",
       "      <td>F</td>\n",
       "      <td>asp</td>\n",
       "      <td>132.0</td>\n",
       "      <td>341.0</td>\n",
       "      <td>True</td>\n",
       "      <td>2</td>\n",
       "      <td>136.0</td>\n",
       "      <td>1</td>\n",
       "      <td>3.0</td>\n",
       "      <td>2</td>\n",
       "      <td>0</td>\n",
       "      <td>7</td>\n",
       "      <td>2</td>\n",
       "    </tr>\n",
       "    <tr>\n",
       "      <th>118</th>\n",
       "      <td>63.0</td>\n",
       "      <td>M</td>\n",
       "      <td>asp</td>\n",
       "      <td>130.0</td>\n",
       "      <td>330.0</td>\n",
       "      <td>True</td>\n",
       "      <td>2</td>\n",
       "      <td>132.0</td>\n",
       "      <td>1</td>\n",
       "      <td>1.8</td>\n",
       "      <td>1</td>\n",
       "      <td>3</td>\n",
       "      <td>7</td>\n",
       "      <td>3</td>\n",
       "    </tr>\n",
       "    <tr>\n",
       "      <th>120</th>\n",
       "      <td>48.0</td>\n",
       "      <td>M</td>\n",
       "      <td>asp</td>\n",
       "      <td>130.0</td>\n",
       "      <td>256.0</td>\n",
       "      <td>True</td>\n",
       "      <td>2</td>\n",
       "      <td>150.0</td>\n",
       "      <td>1</td>\n",
       "      <td>0.0</td>\n",
       "      <td>1</td>\n",
       "      <td>2</td>\n",
       "      <td>7</td>\n",
       "      <td>3</td>\n",
       "    </tr>\n",
       "    <tr>\n",
       "      <th>126</th>\n",
       "      <td>56.0</td>\n",
       "      <td>F</td>\n",
       "      <td>asp</td>\n",
       "      <td>200.0</td>\n",
       "      <td>288.0</td>\n",
       "      <td>True</td>\n",
       "      <td>2</td>\n",
       "      <td>133.0</td>\n",
       "      <td>1</td>\n",
       "      <td>4.0</td>\n",
       "      <td>3</td>\n",
       "      <td>2</td>\n",
       "      <td>7</td>\n",
       "      <td>3</td>\n",
       "    </tr>\n",
       "    <tr>\n",
       "      <th>146</th>\n",
       "      <td>57.0</td>\n",
       "      <td>M</td>\n",
       "      <td>asp</td>\n",
       "      <td>165.0</td>\n",
       "      <td>289.0</td>\n",
       "      <td>True</td>\n",
       "      <td>2</td>\n",
       "      <td>124.0</td>\n",
       "      <td>0</td>\n",
       "      <td>1.0</td>\n",
       "      <td>2</td>\n",
       "      <td>3</td>\n",
       "      <td>7</td>\n",
       "      <td>4</td>\n",
       "    </tr>\n",
       "    <tr>\n",
       "      <th>192</th>\n",
       "      <td>43.0</td>\n",
       "      <td>M</td>\n",
       "      <td>asp</td>\n",
       "      <td>132.0</td>\n",
       "      <td>247.0</td>\n",
       "      <td>True</td>\n",
       "      <td>2</td>\n",
       "      <td>143.0</td>\n",
       "      <td>1</td>\n",
       "      <td>0.1</td>\n",
       "      <td>2</td>\n",
       "      <td>0</td>\n",
       "      <td>7</td>\n",
       "      <td>1</td>\n",
       "    </tr>\n",
       "    <tr>\n",
       "      <th>236</th>\n",
       "      <td>56.0</td>\n",
       "      <td>M</td>\n",
       "      <td>asp</td>\n",
       "      <td>130.0</td>\n",
       "      <td>283.0</td>\n",
       "      <td>True</td>\n",
       "      <td>2</td>\n",
       "      <td>103.0</td>\n",
       "      <td>1</td>\n",
       "      <td>1.6</td>\n",
       "      <td>3</td>\n",
       "      <td>0</td>\n",
       "      <td>7</td>\n",
       "      <td>2</td>\n",
       "    </tr>\n",
       "    <tr>\n",
       "      <th>286</th>\n",
       "      <td>58.0</td>\n",
       "      <td>F</td>\n",
       "      <td>asp</td>\n",
       "      <td>170.0</td>\n",
       "      <td>225.0</td>\n",
       "      <td>True</td>\n",
       "      <td>2</td>\n",
       "      <td>146.0</td>\n",
       "      <td>1</td>\n",
       "      <td>2.8</td>\n",
       "      <td>2</td>\n",
       "      <td>2</td>\n",
       "      <td>6</td>\n",
       "      <td>2</td>\n",
       "    </tr>\n",
       "    <tr>\n",
       "      <th>296</th>\n",
       "      <td>59.0</td>\n",
       "      <td>M</td>\n",
       "      <td>asp</td>\n",
       "      <td>164.0</td>\n",
       "      <td>176.0</td>\n",
       "      <td>True</td>\n",
       "      <td>2</td>\n",
       "      <td>90.0</td>\n",
       "      <td>0</td>\n",
       "      <td>1.0</td>\n",
       "      <td>2</td>\n",
       "      <td>2</td>\n",
       "      <td>6</td>\n",
       "      <td>3</td>\n",
       "    </tr>\n",
       "  </tbody>\n",
       "</table>\n",
       "</div>"
      ],
      "text/plain": [
       "      age sex   cp  trestbps   chol   fbs  restecg  thalach  exang  oldpeak  \\\n",
       "9    53.0   M  asp     140.0  203.0  True        2    155.0      1      3.1   \n",
       "111  56.0   M  asp     125.0  249.0  True        2    144.0      1      1.2   \n",
       "113  43.0   F  asp     132.0  341.0  True        2    136.0      1      3.0   \n",
       "118  63.0   M  asp     130.0  330.0  True        2    132.0      1      1.8   \n",
       "120  48.0   M  asp     130.0  256.0  True        2    150.0      1      0.0   \n",
       "126  56.0   F  asp     200.0  288.0  True        2    133.0      1      4.0   \n",
       "146  57.0   M  asp     165.0  289.0  True        2    124.0      0      1.0   \n",
       "192  43.0   M  asp     132.0  247.0  True        2    143.0      1      0.1   \n",
       "236  56.0   M  asp     130.0  283.0  True        2    103.0      1      1.6   \n",
       "286  58.0   F  asp     170.0  225.0  True        2    146.0      1      2.8   \n",
       "296  59.0   M  asp     164.0  176.0  True        2     90.0      0      1.0   \n",
       "\n",
       "     slope  ca  thal  state  \n",
       "9        3   0     7      1  \n",
       "111      2   1     3      1  \n",
       "113      2   0     7      2  \n",
       "118      1   3     7      3  \n",
       "120      1   2     7      3  \n",
       "126      3   2     7      3  \n",
       "146      2   3     7      4  \n",
       "192      2   0     7      1  \n",
       "236      3   0     7      2  \n",
       "286      2   2     6      2  \n",
       "296      2   2     6      3  "
      ]
     },
     "execution_count": 29,
     "metadata": {},
     "output_type": "execute_result"
    }
   ],
   "source": [
    "risk_index_list = np.where((df_diagnosed['cp'] == \"asp\") & (df_diagnosed['fbs'] == bool('True')) & (df_diagnosed['restecg'] >= 1))\n",
    "patients_at_risk = df_diagnosed.iloc[risk_index_list]\n",
    "patients_at_risk"
   ]
  },
  {
   "cell_type": "code",
   "execution_count": 30,
   "metadata": {},
   "outputs": [
    {
     "name": "stdout",
     "output_type": "stream",
     "text": [
      "Percent of patients having abnormality in ECG & blood sugar with chest pain = 8.4\n"
     ]
    }
   ],
   "source": [
    "percent_ecg_bs_acp = np.round(len(patients_at_risk) / len(df_diagnosed) * 100, decimals=2)\n",
    "\n",
    "print(f\"Percent of patients having abnormality in ECG & blood sugar with chest pain = {percent_ecg_bs_acp}\")"
   ]
  },
  {
   "cell_type": "markdown",
   "metadata": {},
   "source": [
    "### Calculate and print the average blood pressure of all observations with non-flat ST slopes of ECG."
   ]
  },
  {
   "cell_type": "markdown",
   "metadata": {},
   "source": [
    "#### Data Cleanup before aggragation"
   ]
  },
  {
   "cell_type": "code",
   "execution_count": 31,
   "metadata": {},
   "outputs": [],
   "source": [
    "df_full_ds_clone = df_hd.copy(deep=True)\n",
    "\n",
    "df_full_ds_clone.dropna(subset=[\"slope\"],inplace=True)\n",
    "df_full_ds_clone.dropna(subset=[\"trestbps\"],inplace=True)"
   ]
  },
  {
   "cell_type": "markdown",
   "metadata": {},
   "source": [
    "#### Calculate average and print"
   ]
  },
  {
   "cell_type": "code",
   "execution_count": 32,
   "metadata": {},
   "outputs": [
    {
     "name": "stdout",
     "output_type": "stream",
     "text": [
      "average blood pressure of all observations with non-flat ST slopes of ECG 131.17\n"
     ]
    }
   ],
   "source": [
    "non_flat_slope_value = 2\n",
    "rows = df_full_ds_clone.loc[(df_full_ds_clone['slope'] != non_flat_slope_value)]\n",
    "\n",
    "avg_bp = np.round(rows['trestbps'].mean(), decimals=2)\n",
    "\n",
    "print(f\"average blood pressure of all observations with non-flat ST slopes of ECG {avg_bp}\")"
   ]
  },
  {
   "cell_type": "markdown",
   "metadata": {},
   "source": [
    "### Create and print a dataframe of the heart rate, blood pressure and cholesterol levels for different age groups (based on 10 years interval)."
   ]
  },
  {
   "cell_type": "markdown",
   "metadata": {},
   "source": [
    "#### Perform data processing - filling the NA fields with the min column value for the continuous variables"
   ]
  },
  {
   "cell_type": "code",
   "execution_count": 33,
   "metadata": {},
   "outputs": [],
   "source": [
    "df_age_interval = df_hd.copy(deep=True)\n",
    "\n",
    "df_age_interval['age'].fillna(value=df_age_interval['age'].min(),inplace=True)\n",
    "df_age_interval['trestbps'].fillna(value=df_age_interval['trestbps'].min(),inplace=True)\n",
    "df_age_interval['chol'].fillna(value=df_age_interval['chol'].min(),inplace=True)\n",
    "df_age_interval['thalach'].fillna(value=df_age_interval['thalach'].min(),inplace=True)"
   ]
  },
  {
   "cell_type": "markdown",
   "metadata": {},
   "source": [
    "#### Perform data processing - remove missing values for discrete variables"
   ]
  },
  {
   "cell_type": "code",
   "execution_count": 34,
   "metadata": {},
   "outputs": [
    {
     "data": {
      "text/html": [
       "<div>\n",
       "<style scoped>\n",
       "    .dataframe tbody tr th:only-of-type {\n",
       "        vertical-align: middle;\n",
       "    }\n",
       "\n",
       "    .dataframe tbody tr th {\n",
       "        vertical-align: top;\n",
       "    }\n",
       "\n",
       "    .dataframe thead th {\n",
       "        text-align: right;\n",
       "    }\n",
       "</style>\n",
       "<table border=\"1\" class=\"dataframe\">\n",
       "  <thead>\n",
       "    <tr style=\"text-align: right;\">\n",
       "      <th></th>\n",
       "      <th>age</th>\n",
       "      <th>sex</th>\n",
       "      <th>cp</th>\n",
       "      <th>trestbps</th>\n",
       "      <th>chol</th>\n",
       "      <th>fbs</th>\n",
       "      <th>restecg</th>\n",
       "      <th>thalach</th>\n",
       "      <th>exang</th>\n",
       "      <th>oldpeak</th>\n",
       "      <th>slope</th>\n",
       "      <th>ca</th>\n",
       "      <th>thal</th>\n",
       "      <th>state</th>\n",
       "    </tr>\n",
       "  </thead>\n",
       "  <tbody>\n",
       "    <tr>\n",
       "      <th>0</th>\n",
       "      <td>63.0</td>\n",
       "      <td>M</td>\n",
       "      <td>tap</td>\n",
       "      <td>145.0</td>\n",
       "      <td>233.0</td>\n",
       "      <td>yes</td>\n",
       "      <td>2.0</td>\n",
       "      <td>150.0</td>\n",
       "      <td>0.0</td>\n",
       "      <td>2.3</td>\n",
       "      <td>3.0</td>\n",
       "      <td>0.0</td>\n",
       "      <td>6.0</td>\n",
       "      <td>0.0</td>\n",
       "    </tr>\n",
       "    <tr>\n",
       "      <th>1</th>\n",
       "      <td>67.0</td>\n",
       "      <td>M</td>\n",
       "      <td>asp</td>\n",
       "      <td>160.0</td>\n",
       "      <td>286.0</td>\n",
       "      <td>no</td>\n",
       "      <td>2.0</td>\n",
       "      <td>108.0</td>\n",
       "      <td>1.0</td>\n",
       "      <td>1.5</td>\n",
       "      <td>2.0</td>\n",
       "      <td>3.0</td>\n",
       "      <td>3.0</td>\n",
       "      <td>2.0</td>\n",
       "    </tr>\n",
       "    <tr>\n",
       "      <th>2</th>\n",
       "      <td>67.0</td>\n",
       "      <td>M</td>\n",
       "      <td>asp</td>\n",
       "      <td>120.0</td>\n",
       "      <td>229.0</td>\n",
       "      <td>no</td>\n",
       "      <td>2.0</td>\n",
       "      <td>129.0</td>\n",
       "      <td>1.0</td>\n",
       "      <td>2.6</td>\n",
       "      <td>2.0</td>\n",
       "      <td>2.0</td>\n",
       "      <td>7.0</td>\n",
       "      <td>1.0</td>\n",
       "    </tr>\n",
       "    <tr>\n",
       "      <th>3</th>\n",
       "      <td>37.0</td>\n",
       "      <td>M</td>\n",
       "      <td>nap</td>\n",
       "      <td>130.0</td>\n",
       "      <td>250.0</td>\n",
       "      <td>no</td>\n",
       "      <td>0.0</td>\n",
       "      <td>187.0</td>\n",
       "      <td>0.0</td>\n",
       "      <td>3.5</td>\n",
       "      <td>3.0</td>\n",
       "      <td>0.0</td>\n",
       "      <td>3.0</td>\n",
       "      <td>0.0</td>\n",
       "    </tr>\n",
       "    <tr>\n",
       "      <th>4</th>\n",
       "      <td>41.0</td>\n",
       "      <td>F</td>\n",
       "      <td>aap</td>\n",
       "      <td>130.0</td>\n",
       "      <td>204.0</td>\n",
       "      <td>no</td>\n",
       "      <td>2.0</td>\n",
       "      <td>172.0</td>\n",
       "      <td>0.0</td>\n",
       "      <td>1.4</td>\n",
       "      <td>1.0</td>\n",
       "      <td>0.0</td>\n",
       "      <td>3.0</td>\n",
       "      <td>0.0</td>\n",
       "    </tr>\n",
       "    <tr>\n",
       "      <th>...</th>\n",
       "      <td>...</td>\n",
       "      <td>...</td>\n",
       "      <td>...</td>\n",
       "      <td>...</td>\n",
       "      <td>...</td>\n",
       "      <td>...</td>\n",
       "      <td>...</td>\n",
       "      <td>...</td>\n",
       "      <td>...</td>\n",
       "      <td>...</td>\n",
       "      <td>...</td>\n",
       "      <td>...</td>\n",
       "      <td>...</td>\n",
       "      <td>...</td>\n",
       "    </tr>\n",
       "    <tr>\n",
       "      <th>297</th>\n",
       "      <td>57.0</td>\n",
       "      <td>F</td>\n",
       "      <td>asp</td>\n",
       "      <td>140.0</td>\n",
       "      <td>241.0</td>\n",
       "      <td>no</td>\n",
       "      <td>0.0</td>\n",
       "      <td>123.0</td>\n",
       "      <td>1.0</td>\n",
       "      <td>0.2</td>\n",
       "      <td>2.0</td>\n",
       "      <td>0.0</td>\n",
       "      <td>7.0</td>\n",
       "      <td>1.0</td>\n",
       "    </tr>\n",
       "    <tr>\n",
       "      <th>298</th>\n",
       "      <td>45.0</td>\n",
       "      <td>M</td>\n",
       "      <td>tap</td>\n",
       "      <td>110.0</td>\n",
       "      <td>264.0</td>\n",
       "      <td>no</td>\n",
       "      <td>0.0</td>\n",
       "      <td>132.0</td>\n",
       "      <td>0.0</td>\n",
       "      <td>1.2</td>\n",
       "      <td>2.0</td>\n",
       "      <td>0.0</td>\n",
       "      <td>7.0</td>\n",
       "      <td>1.0</td>\n",
       "    </tr>\n",
       "    <tr>\n",
       "      <th>299</th>\n",
       "      <td>68.0</td>\n",
       "      <td>M</td>\n",
       "      <td>asp</td>\n",
       "      <td>144.0</td>\n",
       "      <td>193.0</td>\n",
       "      <td>yes</td>\n",
       "      <td>0.0</td>\n",
       "      <td>141.0</td>\n",
       "      <td>0.0</td>\n",
       "      <td>3.4</td>\n",
       "      <td>2.0</td>\n",
       "      <td>2.0</td>\n",
       "      <td>7.0</td>\n",
       "      <td>2.0</td>\n",
       "    </tr>\n",
       "    <tr>\n",
       "      <th>301</th>\n",
       "      <td>57.0</td>\n",
       "      <td>F</td>\n",
       "      <td>aap</td>\n",
       "      <td>130.0</td>\n",
       "      <td>236.0</td>\n",
       "      <td>no</td>\n",
       "      <td>2.0</td>\n",
       "      <td>174.0</td>\n",
       "      <td>0.0</td>\n",
       "      <td>0.0</td>\n",
       "      <td>2.0</td>\n",
       "      <td>1.0</td>\n",
       "      <td>3.0</td>\n",
       "      <td>1.0</td>\n",
       "    </tr>\n",
       "    <tr>\n",
       "      <th>302</th>\n",
       "      <td>38.0</td>\n",
       "      <td>M</td>\n",
       "      <td>nap</td>\n",
       "      <td>138.0</td>\n",
       "      <td>175.0</td>\n",
       "      <td>no</td>\n",
       "      <td>0.0</td>\n",
       "      <td>173.0</td>\n",
       "      <td>0.0</td>\n",
       "      <td>0.0</td>\n",
       "      <td>1.0</td>\n",
       "      <td>NaN</td>\n",
       "      <td>3.0</td>\n",
       "      <td>0.0</td>\n",
       "    </tr>\n",
       "  </tbody>\n",
       "</table>\n",
       "<p>295 rows × 14 columns</p>\n",
       "</div>"
      ],
      "text/plain": [
       "      age sex   cp  trestbps   chol  fbs  restecg  thalach  exang  oldpeak  \\\n",
       "0    63.0   M  tap     145.0  233.0  yes      2.0    150.0    0.0      2.3   \n",
       "1    67.0   M  asp     160.0  286.0   no      2.0    108.0    1.0      1.5   \n",
       "2    67.0   M  asp     120.0  229.0   no      2.0    129.0    1.0      2.6   \n",
       "3    37.0   M  nap     130.0  250.0   no      0.0    187.0    0.0      3.5   \n",
       "4    41.0   F  aap     130.0  204.0   no      2.0    172.0    0.0      1.4   \n",
       "..    ...  ..  ...       ...    ...  ...      ...      ...    ...      ...   \n",
       "297  57.0   F  asp     140.0  241.0   no      0.0    123.0    1.0      0.2   \n",
       "298  45.0   M  tap     110.0  264.0   no      0.0    132.0    0.0      1.2   \n",
       "299  68.0   M  asp     144.0  193.0  yes      0.0    141.0    0.0      3.4   \n",
       "301  57.0   F  aap     130.0  236.0   no      2.0    174.0    0.0      0.0   \n",
       "302  38.0   M  nap     138.0  175.0   no      0.0    173.0    0.0      0.0   \n",
       "\n",
       "     slope   ca  thal  state  \n",
       "0      3.0  0.0   6.0    0.0  \n",
       "1      2.0  3.0   3.0    2.0  \n",
       "2      2.0  2.0   7.0    1.0  \n",
       "3      3.0  0.0   3.0    0.0  \n",
       "4      1.0  0.0   3.0    0.0  \n",
       "..     ...  ...   ...    ...  \n",
       "297    2.0  0.0   7.0    1.0  \n",
       "298    2.0  0.0   7.0    1.0  \n",
       "299    2.0  2.0   7.0    2.0  \n",
       "301    2.0  1.0   3.0    1.0  \n",
       "302    1.0  NaN   3.0    0.0  \n",
       "\n",
       "[295 rows x 14 columns]"
      ]
     },
     "execution_count": 34,
     "metadata": {},
     "output_type": "execute_result"
    }
   ],
   "source": [
    "df_age_interval.dropna(subset=['sex'])"
   ]
  },
  {
   "cell_type": "markdown",
   "metadata": {},
   "source": [
    "#### Aggregate records into Age Groups and print"
   ]
  },
  {
   "cell_type": "code",
   "execution_count": 35,
   "metadata": {},
   "outputs": [
    {
     "name": "stdout",
     "output_type": "stream",
     "text": [
      "            thalach  trestbps    chol\n",
      "age_groups                           \n",
      "20-29         85.56     98.00  134.67\n",
      "30-39        169.50    124.29  219.79\n",
      "40-49        158.17    124.03  235.16\n",
      "50-59        147.85    133.58  247.57\n",
      "60-69        140.43    135.32  259.74\n",
      "70-79        130.50    135.80  249.60\n"
     ]
    }
   ],
   "source": [
    "df_age_interval['age_groups'] = pd.cut(x=df_age_interval['age'], \n",
    "                                     bins=[20, 29, 39, 49, 59, 69, 79], \n",
    "                                     labels=['20-29','30-39','40-49','50-59','60-69','70-79'])\n",
    "df_sorted = df_age_interval.sort_values(by=['age_groups'])\n",
    "\n",
    "\n",
    "df_hr_bp_chol_by_age_group = df_sorted.groupby(['age_groups'])[['thalach', 'trestbps', 'chol']].mean()\n",
    "\n",
    "df_hr_bp_chol_by_age_group['chol'] = df_hr_bp_chol_by_age_group['chol'].round(2)\n",
    "\n",
    "df_hr_bp_chol_by_age_group['thalach'] = df_hr_bp_chol_by_age_group['thalach'].round(2)\n",
    "df_hr_bp_chol_by_age_group['trestbps'] = df_hr_bp_chol_by_age_group['trestbps'].round(2)\n",
    "\n",
    "\n",
    "print(df_hr_bp_chol_by_age_group)"
   ]
  },
  {
   "cell_type": "markdown",
   "metadata": {},
   "source": [
    "### Finding the average cholesterol level of across gender for each age group. Please explain the results."
   ]
  },
  {
   "cell_type": "code",
   "execution_count": 36,
   "metadata": {},
   "outputs": [
    {
     "name": "stdout",
     "output_type": "stream",
     "text": [
      "age_groups  sex\n",
      "30-39       F         NaN\n",
      "            M      232.50\n",
      "40-49       F      341.00\n",
      "            M      235.30\n",
      "50-59       F      280.40\n",
      "            M      249.00\n",
      "60-69       F      272.73\n",
      "            M      248.00\n",
      "70-79       F         NaN\n",
      "            M      267.25\n",
      "Name: chol, dtype: float64\n"
     ]
    }
   ],
   "source": [
    "df_age_interval_data_subset = df_diagnosed.copy(deep=True)\n",
    "\n",
    "df_age_interval_data_subset['age_groups'] = pd.cut(x=df_age_interval_data_subset['age'], \n",
    "                                     bins=[30, 39, 49, 59, 69, 79], \n",
    "                                     labels=['30-39','40-49','50-59','60-69','70-79'])\n",
    "\n",
    "df_age_interval_aggr = df_age_interval_data_subset.groupby(['age_groups','sex'])['chol'].mean()\n",
    "df_age_gender_chol = np.round(df_age_interval_aggr, decimals=2)\n",
    "\n",
    "print(df_age_gender_chol)"
   ]
  },
  {
   "cell_type": "markdown",
   "metadata": {},
   "source": [
    "### Explanation:\n",
    "<ul>\n",
    "<li>Cholesterol levels are higher in Female Patients than Male Patients on an average in the same Age Group.</li>\n",
    "<li>In Female Patients, Average Cholesterol levels tends to spike in their 40s and going down gradually as they age in the 50s and 60s decades of their lives.</li>\n",
    "<li>In Male Patients, Average Cholesterol levels generally rise as they age, increasing in 20 year intervals. Their cholestreol levels tend to gradually increase in their 30s and 40s, but rising sharply in their 50s. Again, holding off in 50s and 60s, but going upwards in their 70s.</li>\n",
    "</ul>"
   ]
  },
  {
   "cell_type": "markdown",
   "metadata": {},
   "source": [
    "### Drawing two scatter plots of cholesterol level, one against blood pressure and another against heart rate. Draw them in two subplots of the same plot."
   ]
  },
  {
   "cell_type": "code",
   "execution_count": 37,
   "metadata": {},
   "outputs": [
    {
     "data": {
      "image/png": "[encoded data removed]",
      "text/plain": [
       "<Figure size 1080x360 with 2 Axes>"
      ]
     },
     "metadata": {
      "needs_background": "light"
     },
     "output_type": "display_data"
    }
   ],
   "source": [
    "fig, ax = plt.subplots(figsize=(15, 5), nrows = 1, ncols=2, sharex='col')\n",
    "ax[0].scatter(x = df_diagnosed[\"chol\"], y = df_diagnosed[\"trestbps\"], c=\"green\")\n",
    "ax[0].set(xlabel='Cholesterol level', ylabel='Resting Blood Pressure')\n",
    "\n",
    "\n",
    "ax[1].scatter(x = df_diagnosed[\"chol\"], y = df_diagnosed[\"thalach\"], c=\"purple\")\n",
    "ax[1].set(xlabel='Cholesterol level', ylabel='Maximum Heart Rate')\n",
    "\n",
    "plt.show()"
   ]
  },
  {
   "cell_type": "markdown",
   "metadata": {},
   "source": [
    "### Visualizing the cholesterol level against number of blood vessel blocked for male and female using line plot. Explain the graph base on your observation."
   ]
  },
  {
   "cell_type": "code",
   "execution_count": 38,
   "metadata": {},
   "outputs": [],
   "source": [
    "def drop_na(df, columns):\n",
    "    for column in columns:\n",
    "        df = df.dropna(subset=[column])\n",
    "    return df"
   ]
  },
  {
   "cell_type": "code",
   "execution_count": 39,
   "metadata": {},
   "outputs": [],
   "source": [
    "def unique_ca_values(df):\n",
    "    vessels = df['ca'].unique()\n",
    "    return sorted(vessels)"
   ]
  },
  {
   "cell_type": "markdown",
   "metadata": {},
   "source": [
    "#### Populating data for Female and Male subplots"
   ]
  },
  {
   "cell_type": "code",
   "execution_count": 40,
   "metadata": {},
   "outputs": [],
   "source": [
    "df_hd_cleaned = drop_na(df_hd, ['ca', 'sex', 'chol'])\n",
    "\n",
    "df_cholesterol_vb = np.round(df_hd_cleaned.groupby(['ca','sex'])['chol'].mean(), decimals=2)\n",
    "female_chol_vb = []\n",
    "male_chol_vb = []\n",
    "\n",
    "for index, val in df_cholesterol_vb.iteritems():\n",
    "    row, gender = index\n",
    "    if gender == 'F':\n",
    "        female_chol_vb.append(val)\n",
    "    else:\n",
    "        male_chol_vb.append(val)"
   ]
  },
  {
   "cell_type": "markdown",
   "metadata": {},
   "source": [
    "#### Drawing the line plots"
   ]
  },
  {
   "cell_type": "code",
   "execution_count": 41,
   "metadata": {},
   "outputs": [
    {
     "name": "stdout",
     "output_type": "stream",
     "text": [
      "[255.95, 271.79, 274.83, 272.5]\n"
     ]
    },
    {
     "data": {
      "image/png": "[encoded data removed]",
      "text/plain": [
       "<Figure size 1080x360 with 2 Axes>"
      ]
     },
     "metadata": {
      "needs_background": "light"
     },
     "output_type": "display_data"
    }
   ],
   "source": [
    "fig, ax = plt.subplots(figsize=(15, 5), nrows = 1, ncols=2, sharex='col')\n",
    "\n",
    "vb_list = unique_ca_values(df_hd_cleaned)\n",
    "\n",
    "df_chol_vb_female = df_diagnosed[df_diagnosed['sex'] == 'F']\n",
    "ax[0].plot(vb_list, female_chol_vb, c=\"green\")\n",
    "ax[0].set(xlabel='Number of Blood Vessel Blocked (female)', ylabel='Cholesterol level (female)')\n",
    "\n",
    "\n",
    "df_chol_vb_male = df_diagnosed[df_diagnosed['sex'] == 'M']\n",
    "ax[1].plot(vb_list, male_chol_vb, c=\"orange\")\n",
    "print(female_chol_vb)\n",
    "\n",
    "ax[1].set(xlabel='Number of Blood Vessel Blocked (male)', ylabel='Cholesterol level (male)')\n",
    "\n",
    "plt.show()"
   ]
  },
  {
   "cell_type": "markdown",
   "metadata": {},
   "source": [
    "### Explanation:\n",
    "\n",
    "1. Cholesterol level doesn't have any realtion or association with the number of vessels blocked for the Female patients, as the change is sporadic. \n",
    "\n",
    "2. For the Male Patients high levels of Cholesterol has a positive correlation with Number of Vessels blocked."
   ]
  },
  {
   "cell_type": "markdown",
   "metadata": {},
   "source": [
    "### Drawing a group bar diagram of heart rate, blood pressure and total number of patients, based on age groups defined in question 9. Explain your observation from the graph."
   ]
  },
  {
   "cell_type": "code",
   "execution_count": 43,
   "metadata": {},
   "outputs": [],
   "source": [
    "def drop_na(df, columns):\n",
    "    df_hr_bp_chol_by_gender.groupby(['age_groups'])\n",
    "    for column in columns:\n",
    "        df = df.dropna(subset=[column])\n",
    "    return df"
   ]
  },
  {
   "cell_type": "markdown",
   "metadata": {},
   "source": [
    "#### Defining Age Group bins"
   ]
  },
  {
   "cell_type": "code",
   "execution_count": 44,
   "metadata": {},
   "outputs": [],
   "source": [
    "age_group_labels = ['20-29', '30-39', '40-49', '50-59', '60-69', '70-79']\n",
    "\n",
    "df_avg_bp = np.round(df_hr_bp_chol_by_age_group['trestbps'].values, decimals=2)\n",
    "df_avg_hr = np.round(df_hr_bp_chol_by_age_group['thalach'].values, decimals=2)\n",
    "df_count = np.round(df_sorted.groupby(['age_groups'])['age_groups'].count())"
   ]
  },
  {
   "cell_type": "code",
   "execution_count": 45,
   "metadata": {},
   "outputs": [
    {
     "data": {
      "image/png": "[encoded data removed]",
      "text/plain": [
       "<Figure size 1440x720 with 1 Axes>"
      ]
     },
     "metadata": {
      "needs_background": "light"
     },
     "output_type": "display_data"
    }
   ],
   "source": [
    "x = np.arange(len(age_group_labels))  # the label locations\n",
    "width = 0.20  # the width of the bars\n",
    "\n",
    "fig, ax = plt.subplots(figsize=(20, 10))\n",
    "ax.bar(x + width*1, df_avg_bp, width, label='blood pressure')\n",
    "ax.bar(x + width*2, df_avg_hr, width, label='heart rate')\n",
    "ax.bar(x + width*3, df_count, width, label='total number of patients')\n",
    "ax.xaxis.set_major_locator(ticker.FixedLocator([0, 1, 2, 3, 4, 5, ]))\n",
    "ax.xaxis.set_major_formatter(ticker.FixedFormatter(age_group_labels))\n",
    "plt.legend()\n",
    "plt.show()"
   ]
  },
  {
   "cell_type": "markdown",
   "metadata": {},
   "source": [
    "### Observations\n",
    "<ol>\n",
    "    <li>The Heart Rate gradually decreases with age</li>\n",
    "    <li>The blood pressure is increasing with an increase in age.</li>\n",
    "    <li>Heart diseases increase in the age group of 50-59</li>\n",
    "</ol>"
   ]
  },
  {
   "cell_type": "markdown",
   "metadata": {},
   "source": [
    "### Adding two more columns named [‘num_male_patients’, ‘num_female_patients’] and having values of the number of male and female patients affected by heart disease in each age group respectively. Save the combined dataset to a csv file named ‘age_group_stat.csv’ in the same directory of your code file."
   ]
  },
  {
   "cell_type": "code",
   "execution_count": 46,
   "metadata": {},
   "outputs": [
    {
     "data": {
      "text/plain": [
       "age_groups\n",
       "20-29     1\n",
       "30-39     9\n",
       "40-49    51\n",
       "50-59    89\n",
       "60-69    46\n",
       "Name: sex, dtype: int64"
      ]
     },
     "execution_count": 46,
     "metadata": {},
     "output_type": "execute_result"
    }
   ],
   "source": [
    "df_male = df_sorted[df_sorted['sex'] == 'M']\n",
    "\n",
    "df_male_count_age_group = df_male.groupby(['age_groups'])['sex'].count()\n",
    "\n",
    "df_male_count_age_group.head()"
   ]
  },
  {
   "cell_type": "code",
   "execution_count": 47,
   "metadata": {},
   "outputs": [
    {
     "data": {
      "text/plain": [
       "age_groups\n",
       "20-29     0\n",
       "30-39     5\n",
       "40-49    19\n",
       "50-59    34\n",
       "60-69    31\n",
       "Name: sex, dtype: int64"
      ]
     },
     "execution_count": 47,
     "metadata": {},
     "output_type": "execute_result"
    }
   ],
   "source": [
    "df_female = df_sorted[df_sorted['sex'] == 'F']\n",
    "\n",
    "df_female_count_age_group = df_female.groupby(['age_groups'])['sex'].count()\n",
    "\n",
    "df_female_count_age_group.head()"
   ]
  },
  {
   "cell_type": "code",
   "execution_count": 50,
   "metadata": {},
   "outputs": [
    {
     "data": {
      "text/html": [
       "<div>\n",
       "<style scoped>\n",
       "    .dataframe tbody tr th:only-of-type {\n",
       "        vertical-align: middle;\n",
       "    }\n",
       "\n",
       "    .dataframe tbody tr th {\n",
       "        vertical-align: top;\n",
       "    }\n",
       "\n",
       "    .dataframe thead th {\n",
       "        text-align: right;\n",
       "    }\n",
       "</style>\n",
       "<table border=\"1\" class=\"dataframe\">\n",
       "  <thead>\n",
       "    <tr style=\"text-align: right;\">\n",
       "      <th></th>\n",
       "      <th>thalach</th>\n",
       "      <th>trestbps</th>\n",
       "      <th>chol</th>\n",
       "      <th>num_male_patients</th>\n",
       "      <th>num_female_patients</th>\n",
       "    </tr>\n",
       "    <tr>\n",
       "      <th>age_groups</th>\n",
       "      <th></th>\n",
       "      <th></th>\n",
       "      <th></th>\n",
       "      <th></th>\n",
       "      <th></th>\n",
       "    </tr>\n",
       "  </thead>\n",
       "  <tbody>\n",
       "    <tr>\n",
       "      <th>20-29</th>\n",
       "      <td>85.56</td>\n",
       "      <td>98.00</td>\n",
       "      <td>134.67</td>\n",
       "      <td>1</td>\n",
       "      <td>0</td>\n",
       "    </tr>\n",
       "    <tr>\n",
       "      <th>30-39</th>\n",
       "      <td>169.50</td>\n",
       "      <td>124.29</td>\n",
       "      <td>219.79</td>\n",
       "      <td>9</td>\n",
       "      <td>5</td>\n",
       "    </tr>\n",
       "    <tr>\n",
       "      <th>40-49</th>\n",
       "      <td>158.17</td>\n",
       "      <td>124.03</td>\n",
       "      <td>235.16</td>\n",
       "      <td>51</td>\n",
       "      <td>19</td>\n",
       "    </tr>\n",
       "    <tr>\n",
       "      <th>50-59</th>\n",
       "      <td>147.85</td>\n",
       "      <td>133.58</td>\n",
       "      <td>247.57</td>\n",
       "      <td>89</td>\n",
       "      <td>34</td>\n",
       "    </tr>\n",
       "    <tr>\n",
       "      <th>60-69</th>\n",
       "      <td>140.43</td>\n",
       "      <td>135.32</td>\n",
       "      <td>259.74</td>\n",
       "      <td>46</td>\n",
       "      <td>31</td>\n",
       "    </tr>\n",
       "    <tr>\n",
       "      <th>70-79</th>\n",
       "      <td>130.50</td>\n",
       "      <td>135.80</td>\n",
       "      <td>249.60</td>\n",
       "      <td>5</td>\n",
       "      <td>5</td>\n",
       "    </tr>\n",
       "  </tbody>\n",
       "</table>\n",
       "</div>"
      ],
      "text/plain": [
       "            thalach  trestbps    chol  num_male_patients  num_female_patients\n",
       "age_groups                                                                   \n",
       "20-29         85.56     98.00  134.67                  1                    0\n",
       "30-39        169.50    124.29  219.79                  9                    5\n",
       "40-49        158.17    124.03  235.16                 51                   19\n",
       "50-59        147.85    133.58  247.57                 89                   34\n",
       "60-69        140.43    135.32  259.74                 46                   31\n",
       "70-79        130.50    135.80  249.60                  5                    5"
      ]
     },
     "execution_count": 50,
     "metadata": {},
     "output_type": "execute_result"
    }
   ],
   "source": [
    "df_hr_bp_chol_by_age_group['num_male_patients'] = df_male_count_age_group.tolist()\n",
    "\n",
    "df_hr_bp_chol_by_age_group['num_female_patients'] = df_female_count_age_group.tolist()\n",
    "\n",
    "df_hr_bp_chol_by_age_group.head(50)"
   ]
  },
  {
   "cell_type": "code",
   "execution_count": 52,
   "metadata": {},
   "outputs": [],
   "source": [
    "df_hr_bp_chol_by_age_group.to_csv(\"age_group_stat.csv\")"
   ]
  },
  {
   "cell_type": "markdown",
   "metadata": {},
   "source": [
    "### Replacing all the rows where the ‘state’ is null with its immediate previous row. Finally, display and save the resultant dataset to a csv file named ‘clean_data.csv’ in the same directory of your code file."
   ]
  },
  {
   "cell_type": "code",
   "execution_count": 57,
   "metadata": {},
   "outputs": [
    {
     "name": "stdout",
     "output_type": "stream",
     "text": [
      "      age  sex   cp  trestbps   chol  fbs  restecg  thalach  exang  oldpeak  \\\n",
      "1    67.0    M  asp     160.0  286.0   no      2.0    108.0    1.0      1.5   \n",
      "2    67.0    M  asp     120.0  229.0   no      2.0    129.0    1.0      2.6   \n",
      "6    62.0    F  NaN     140.0  268.0   no      2.0    160.0    0.0      3.6   \n",
      "8    63.0    M  asp     130.0  254.0   no      2.0    147.0    0.0      1.4   \n",
      "9    53.0    M  asp     140.0  203.0  yes      2.0    155.0    1.0      3.1   \n",
      "..    ...  ...  ...       ...    ...  ...      ...      ...    ...      ...   \n",
      "297  57.0    F  asp     140.0  241.0   no      0.0    123.0    1.0      0.2   \n",
      "298  45.0    M  tap     110.0  264.0   no      0.0    132.0    0.0      1.2   \n",
      "299  68.0    M  asp     144.0  193.0  yes      0.0    141.0    0.0      3.4   \n",
      "300   NaN  NaN  NaN       NaN    NaN  NaN      NaN      NaN    NaN      NaN   \n",
      "301  57.0    F  aap     130.0  236.0   no      2.0    174.0    0.0      0.0   \n",
      "\n",
      "     slope   ca  thal  state  \n",
      "1      2.0  3.0   3.0    2.0  \n",
      "2      2.0  2.0   7.0    1.0  \n",
      "6      3.0  2.0   3.0    3.0  \n",
      "8      2.0  1.0   7.0    2.0  \n",
      "9      3.0  0.0   7.0    1.0  \n",
      "..     ...  ...   ...    ...  \n",
      "297    2.0  0.0   7.0    1.0  \n",
      "298    2.0  0.0   7.0    1.0  \n",
      "299    2.0  2.0   7.0    2.0  \n",
      "300    NaN  NaN   NaN    2.0  \n",
      "301    2.0  1.0   3.0    1.0  \n",
      "\n",
      "[143 rows x 14 columns]\n"
     ]
    }
   ],
   "source": [
    "df_diagnosed_all['state'].fillna(method='ffill', inplace=True)\n",
    "print(df_diagnosed_all)"
   ]
  },
  {
   "cell_type": "code",
   "execution_count": 58,
   "metadata": {},
   "outputs": [],
   "source": [
    "df_diagnosed_all.to_csv(\"clean_data.csv\")"
   ]
  }
 ],
 "metadata": {
  "kernelspec": {
   "display_name": "Python 3 (ipykernel)",
   "language": "python",
   "name": "python3"
  },
  "language_info": {
   "codemirror_mode": {
    "name": "ipython",
    "version": 3
   },
   "file_extension": ".py",
   "mimetype": "text/x-python",
   "name": "python",
   "nbconvert_exporter": "python",
   "pygments_lexer": "ipython3",
   "version": "3.10.0"
  }
 },
 "nbformat": 4,
 "nbformat_minor": 4
}
