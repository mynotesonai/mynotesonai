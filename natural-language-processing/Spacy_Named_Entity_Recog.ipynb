{
 "cells": [
  {
   "cell_type": "code",
   "execution_count": 14,
   "id": "96c3524e",
   "metadata": {},
   "outputs": [
    {
     "name": "stdout",
     "output_type": "stream",
     "text": [
      "huggingface/tokenizers: The current process just got forked, after parallelism has already been used. Disabling parallelism to avoid deadlocks...\n",
      "To disable this warning, you can either:\n",
      "\t- Avoid using `tokenizers` before the fork if possible\n",
      "\t- Explicitly set the environment variable TOKENIZERS_PARALLELISM=(true | false)\n",
      "Requirement already satisfied: spacy[apple] in /Users/pamelagangopadhyay/miniforge3/envs/wave2vec2_ft/lib/python3.10/site-packages (3.4.2)\n",
      "Requirement already satisfied: cymem<2.1.0,>=2.0.2 in /Users/pamelagangopadhyay/miniforge3/envs/wave2vec2_ft/lib/python3.10/site-packages (from spacy[apple]) (2.0.7)\n",
      "Requirement already satisfied: wasabi<1.1.0,>=0.9.1 in /Users/pamelagangopadhyay/miniforge3/envs/wave2vec2_ft/lib/python3.10/site-packages (from spacy[apple]) (0.10.1)\n",
      "Requirement already satisfied: typer<0.5.0,>=0.3.0 in /Users/pamelagangopadhyay/miniforge3/envs/wave2vec2_ft/lib/python3.10/site-packages (from spacy[apple]) (0.4.2)\n",
      "Requirement already satisfied: langcodes<4.0.0,>=3.2.0 in /Users/pamelagangopadhyay/miniforge3/envs/wave2vec2_ft/lib/python3.10/site-packages (from spacy[apple]) (3.3.0)\n",
      "Requirement already satisfied: jinja2 in /Users/pamelagangopadhyay/miniforge3/envs/wave2vec2_ft/lib/python3.10/site-packages (from spacy[apple]) (3.1.2)\n",
      "Requirement already satisfied: setuptools in /Users/pamelagangopadhyay/miniforge3/envs/wave2vec2_ft/lib/python3.10/site-packages (from spacy[apple]) (65.5.0)\n",
      "Requirement already satisfied: spacy-loggers<2.0.0,>=1.0.0 in /Users/pamelagangopadhyay/miniforge3/envs/wave2vec2_ft/lib/python3.10/site-packages (from spacy[apple]) (1.0.3)\n",
      "Requirement already satisfied: packaging>=20.0 in /Users/pamelagangopadhyay/miniforge3/envs/wave2vec2_ft/lib/python3.10/site-packages (from spacy[apple]) (21.3)\n",
      "Requirement already satisfied: catalogue<2.1.0,>=2.0.6 in /Users/pamelagangopadhyay/miniforge3/envs/wave2vec2_ft/lib/python3.10/site-packages (from spacy[apple]) (2.0.8)\n",
      "Requirement already satisfied: pydantic!=1.8,!=1.8.1,<1.11.0,>=1.7.4 in /Users/pamelagangopadhyay/miniforge3/envs/wave2vec2_ft/lib/python3.10/site-packages (from spacy[apple]) (1.10.2)\n",
      "Requirement already satisfied: thinc<8.2.0,>=8.1.0 in /Users/pamelagangopadhyay/miniforge3/envs/wave2vec2_ft/lib/python3.10/site-packages (from spacy[apple]) (8.1.5)\n",
      "Requirement already satisfied: pathy>=0.3.5 in /Users/pamelagangopadhyay/miniforge3/envs/wave2vec2_ft/lib/python3.10/site-packages (from spacy[apple]) (0.6.2)\n",
      "Requirement already satisfied: srsly<3.0.0,>=2.4.3 in /Users/pamelagangopadhyay/miniforge3/envs/wave2vec2_ft/lib/python3.10/site-packages (from spacy[apple]) (2.4.5)\n",
      "Requirement already satisfied: tqdm<5.0.0,>=4.38.0 in /Users/pamelagangopadhyay/miniforge3/envs/wave2vec2_ft/lib/python3.10/site-packages (from spacy[apple]) (4.64.1)\n",
      "Requirement already satisfied: murmurhash<1.1.0,>=0.28.0 in /Users/pamelagangopadhyay/miniforge3/envs/wave2vec2_ft/lib/python3.10/site-packages (from spacy[apple]) (1.0.9)\n",
      "Requirement already satisfied: preshed<3.1.0,>=3.0.2 in /Users/pamelagangopadhyay/miniforge3/envs/wave2vec2_ft/lib/python3.10/site-packages (from spacy[apple]) (3.0.8)\n",
      "Requirement already satisfied: numpy>=1.15.0 in /Users/pamelagangopadhyay/miniforge3/envs/wave2vec2_ft/lib/python3.10/site-packages (from spacy[apple]) (1.23.3)\n",
      "Requirement already satisfied: requests<3.0.0,>=2.13.0 in /Users/pamelagangopadhyay/miniforge3/envs/wave2vec2_ft/lib/python3.10/site-packages (from spacy[apple]) (2.28.1)\n",
      "Requirement already satisfied: spacy-legacy<3.1.0,>=3.0.10 in /Users/pamelagangopadhyay/miniforge3/envs/wave2vec2_ft/lib/python3.10/site-packages (from spacy[apple]) (3.0.10)\n",
      "Requirement already satisfied: thinc-apple-ops<1.0.0,>=0.1.0.dev0 in /Users/pamelagangopadhyay/miniforge3/envs/wave2vec2_ft/lib/python3.10/site-packages (from spacy[apple]) (0.1.2)\n",
      "Requirement already satisfied: pyparsing!=3.0.5,>=2.0.2 in /Users/pamelagangopadhyay/miniforge3/envs/wave2vec2_ft/lib/python3.10/site-packages (from packaging>=20.0->spacy[apple]) (3.0.9)\n",
      "Requirement already satisfied: smart-open<6.0.0,>=5.2.1 in /Users/pamelagangopadhyay/miniforge3/envs/wave2vec2_ft/lib/python3.10/site-packages (from pathy>=0.3.5->spacy[apple]) (5.2.1)\n",
      "Requirement already satisfied: typing-extensions>=4.1.0 in /Users/pamelagangopadhyay/miniforge3/envs/wave2vec2_ft/lib/python3.10/site-packages (from pydantic!=1.8,!=1.8.1,<1.11.0,>=1.7.4->spacy[apple]) (4.4.0)\n",
      "Requirement already satisfied: idna<4,>=2.5 in /Users/pamelagangopadhyay/miniforge3/envs/wave2vec2_ft/lib/python3.10/site-packages (from requests<3.0.0,>=2.13.0->spacy[apple]) (3.4)\n",
      "Requirement already satisfied: charset-normalizer<3,>=2 in /Users/pamelagangopadhyay/miniforge3/envs/wave2vec2_ft/lib/python3.10/site-packages (from requests<3.0.0,>=2.13.0->spacy[apple]) (2.1.1)\n",
      "Requirement already satisfied: certifi>=2017.4.17 in /Users/pamelagangopadhyay/miniforge3/envs/wave2vec2_ft/lib/python3.10/site-packages (from requests<3.0.0,>=2.13.0->spacy[apple]) (2022.9.24)\n",
      "Requirement already satisfied: urllib3<1.27,>=1.21.1 in /Users/pamelagangopadhyay/miniforge3/envs/wave2vec2_ft/lib/python3.10/site-packages (from requests<3.0.0,>=2.13.0->spacy[apple]) (1.26.11)\n",
      "Requirement already satisfied: blis<0.8.0,>=0.7.8 in /Users/pamelagangopadhyay/miniforge3/envs/wave2vec2_ft/lib/python3.10/site-packages (from thinc<8.2.0,>=8.1.0->spacy[apple]) (0.7.9)\n",
      "Requirement already satisfied: confection<1.0.0,>=0.0.1 in /Users/pamelagangopadhyay/miniforge3/envs/wave2vec2_ft/lib/python3.10/site-packages (from thinc<8.2.0,>=8.1.0->spacy[apple]) (0.0.3)\n",
      "Requirement already satisfied: click<9.0.0,>=7.1.1 in /Users/pamelagangopadhyay/miniforge3/envs/wave2vec2_ft/lib/python3.10/site-packages (from typer<0.5.0,>=0.3.0->spacy[apple]) (8.1.3)\n",
      "Requirement already satisfied: MarkupSafe>=2.0 in /Users/pamelagangopadhyay/miniforge3/envs/wave2vec2_ft/lib/python3.10/site-packages (from jinja2->spacy[apple]) (2.1.1)\n"
     ]
    }
   ],
   "source": [
    "!pip install -U \"spacy[apple]\""
   ]
  },
  {
   "cell_type": "code",
   "execution_count": 15,
   "id": "3ffd142b",
   "metadata": {},
   "outputs": [
    {
     "name": "stdout",
     "output_type": "stream",
     "text": [
      "huggingface/tokenizers: The current process just got forked, after parallelism has already been used. Disabling parallelism to avoid deadlocks...\n",
      "To disable this warning, you can either:\n",
      "\t- Avoid using `tokenizers` before the fork if possible\n",
      "\t- Explicitly set the environment variable TOKENIZERS_PARALLELISM=(true | false)\n",
      "Requirement already satisfied: spacy[transformers] in /Users/pamelagangopadhyay/miniforge3/envs/wave2vec2_ft/lib/python3.10/site-packages (3.4.2)\n",
      "Requirement already satisfied: tqdm<5.0.0,>=4.38.0 in /Users/pamelagangopadhyay/miniforge3/envs/wave2vec2_ft/lib/python3.10/site-packages (from spacy[transformers]) (4.64.1)\n",
      "Requirement already satisfied: jinja2 in /Users/pamelagangopadhyay/miniforge3/envs/wave2vec2_ft/lib/python3.10/site-packages (from spacy[transformers]) (3.1.2)\n",
      "Requirement already satisfied: preshed<3.1.0,>=3.0.2 in /Users/pamelagangopadhyay/miniforge3/envs/wave2vec2_ft/lib/python3.10/site-packages (from spacy[transformers]) (3.0.8)\n",
      "Requirement already satisfied: numpy>=1.15.0 in /Users/pamelagangopadhyay/miniforge3/envs/wave2vec2_ft/lib/python3.10/site-packages (from spacy[transformers]) (1.23.3)\n",
      "Requirement already satisfied: packaging>=20.0 in /Users/pamelagangopadhyay/miniforge3/envs/wave2vec2_ft/lib/python3.10/site-packages (from spacy[transformers]) (21.3)\n",
      "Requirement already satisfied: langcodes<4.0.0,>=3.2.0 in /Users/pamelagangopadhyay/miniforge3/envs/wave2vec2_ft/lib/python3.10/site-packages (from spacy[transformers]) (3.3.0)\n",
      "Requirement already satisfied: setuptools in /Users/pamelagangopadhyay/miniforge3/envs/wave2vec2_ft/lib/python3.10/site-packages (from spacy[transformers]) (65.5.0)\n",
      "Requirement already satisfied: srsly<3.0.0,>=2.4.3 in /Users/pamelagangopadhyay/miniforge3/envs/wave2vec2_ft/lib/python3.10/site-packages (from spacy[transformers]) (2.4.5)\n",
      "Requirement already satisfied: spacy-legacy<3.1.0,>=3.0.10 in /Users/pamelagangopadhyay/miniforge3/envs/wave2vec2_ft/lib/python3.10/site-packages (from spacy[transformers]) (3.0.10)\n",
      "Requirement already satisfied: thinc<8.2.0,>=8.1.0 in /Users/pamelagangopadhyay/miniforge3/envs/wave2vec2_ft/lib/python3.10/site-packages (from spacy[transformers]) (8.1.5)\n",
      "Requirement already satisfied: wasabi<1.1.0,>=0.9.1 in /Users/pamelagangopadhyay/miniforge3/envs/wave2vec2_ft/lib/python3.10/site-packages (from spacy[transformers]) (0.10.1)\n",
      "Requirement already satisfied: catalogue<2.1.0,>=2.0.6 in /Users/pamelagangopadhyay/miniforge3/envs/wave2vec2_ft/lib/python3.10/site-packages (from spacy[transformers]) (2.0.8)\n",
      "Requirement already satisfied: cymem<2.1.0,>=2.0.2 in /Users/pamelagangopadhyay/miniforge3/envs/wave2vec2_ft/lib/python3.10/site-packages (from spacy[transformers]) (2.0.7)\n",
      "Requirement already satisfied: spacy-loggers<2.0.0,>=1.0.0 in /Users/pamelagangopadhyay/miniforge3/envs/wave2vec2_ft/lib/python3.10/site-packages (from spacy[transformers]) (1.0.3)\n",
      "Requirement already satisfied: requests<3.0.0,>=2.13.0 in /Users/pamelagangopadhyay/miniforge3/envs/wave2vec2_ft/lib/python3.10/site-packages (from spacy[transformers]) (2.28.1)\n",
      "Requirement already satisfied: pydantic!=1.8,!=1.8.1,<1.11.0,>=1.7.4 in /Users/pamelagangopadhyay/miniforge3/envs/wave2vec2_ft/lib/python3.10/site-packages (from spacy[transformers]) (1.10.2)\n",
      "Requirement already satisfied: murmurhash<1.1.0,>=0.28.0 in /Users/pamelagangopadhyay/miniforge3/envs/wave2vec2_ft/lib/python3.10/site-packages (from spacy[transformers]) (1.0.9)\n",
      "Requirement already satisfied: typer<0.5.0,>=0.3.0 in /Users/pamelagangopadhyay/miniforge3/envs/wave2vec2_ft/lib/python3.10/site-packages (from spacy[transformers]) (0.4.2)\n",
      "Requirement already satisfied: pathy>=0.3.5 in /Users/pamelagangopadhyay/miniforge3/envs/wave2vec2_ft/lib/python3.10/site-packages (from spacy[transformers]) (0.6.2)\n",
      "Requirement already satisfied: spacy-transformers<1.2.0,>=1.1.2 in /Users/pamelagangopadhyay/miniforge3/envs/wave2vec2_ft/lib/python3.10/site-packages (from spacy[transformers]) (1.1.8)\n",
      "Requirement already satisfied: pyparsing!=3.0.5,>=2.0.2 in /Users/pamelagangopadhyay/miniforge3/envs/wave2vec2_ft/lib/python3.10/site-packages (from packaging>=20.0->spacy[transformers]) (3.0.9)\n",
      "Requirement already satisfied: smart-open<6.0.0,>=5.2.1 in /Users/pamelagangopadhyay/miniforge3/envs/wave2vec2_ft/lib/python3.10/site-packages (from pathy>=0.3.5->spacy[transformers]) (5.2.1)\n",
      "Requirement already satisfied: typing-extensions>=4.1.0 in /Users/pamelagangopadhyay/miniforge3/envs/wave2vec2_ft/lib/python3.10/site-packages (from pydantic!=1.8,!=1.8.1,<1.11.0,>=1.7.4->spacy[transformers]) (4.4.0)\n",
      "Requirement already satisfied: idna<4,>=2.5 in /Users/pamelagangopadhyay/miniforge3/envs/wave2vec2_ft/lib/python3.10/site-packages (from requests<3.0.0,>=2.13.0->spacy[transformers]) (3.4)\n",
      "Requirement already satisfied: charset-normalizer<3,>=2 in /Users/pamelagangopadhyay/miniforge3/envs/wave2vec2_ft/lib/python3.10/site-packages (from requests<3.0.0,>=2.13.0->spacy[transformers]) (2.1.1)\n",
      "Requirement already satisfied: certifi>=2017.4.17 in /Users/pamelagangopadhyay/miniforge3/envs/wave2vec2_ft/lib/python3.10/site-packages (from requests<3.0.0,>=2.13.0->spacy[transformers]) (2022.9.24)\n",
      "Requirement already satisfied: urllib3<1.27,>=1.21.1 in /Users/pamelagangopadhyay/miniforge3/envs/wave2vec2_ft/lib/python3.10/site-packages (from requests<3.0.0,>=2.13.0->spacy[transformers]) (1.26.11)\n",
      "Requirement already satisfied: torch>=1.6.0 in /Users/pamelagangopadhyay/miniforge3/envs/wave2vec2_ft/lib/python3.10/site-packages (from spacy-transformers<1.2.0,>=1.1.2->spacy[transformers]) (1.14.0.dev20221017)\n",
      "Requirement already satisfied: spacy-alignments<1.0.0,>=0.7.2 in /Users/pamelagangopadhyay/miniforge3/envs/wave2vec2_ft/lib/python3.10/site-packages (from spacy-transformers<1.2.0,>=1.1.2->spacy[transformers]) (0.8.6)\n",
      "Requirement already satisfied: transformers<4.22.0,>=3.4.0 in /Users/pamelagangopadhyay/miniforge3/envs/wave2vec2_ft/lib/python3.10/site-packages (from spacy-transformers<1.2.0,>=1.1.2->spacy[transformers]) (4.11.3)\n",
      "Requirement already satisfied: confection<1.0.0,>=0.0.1 in /Users/pamelagangopadhyay/miniforge3/envs/wave2vec2_ft/lib/python3.10/site-packages (from thinc<8.2.0,>=8.1.0->spacy[transformers]) (0.0.3)\n",
      "Requirement already satisfied: blis<0.8.0,>=0.7.8 in /Users/pamelagangopadhyay/miniforge3/envs/wave2vec2_ft/lib/python3.10/site-packages (from thinc<8.2.0,>=8.1.0->spacy[transformers]) (0.7.9)\n",
      "Requirement already satisfied: click<9.0.0,>=7.1.1 in /Users/pamelagangopadhyay/miniforge3/envs/wave2vec2_ft/lib/python3.10/site-packages (from typer<0.5.0,>=0.3.0->spacy[transformers]) (8.1.3)\n",
      "Requirement already satisfied: MarkupSafe>=2.0 in /Users/pamelagangopadhyay/miniforge3/envs/wave2vec2_ft/lib/python3.10/site-packages (from jinja2->spacy[transformers]) (2.1.1)\n",
      "Requirement already satisfied: sympy in /Users/pamelagangopadhyay/miniforge3/envs/wave2vec2_ft/lib/python3.10/site-packages (from torch>=1.6.0->spacy-transformers<1.2.0,>=1.1.2->spacy[transformers]) (1.11.1)\n",
      "Requirement already satisfied: networkx in /Users/pamelagangopadhyay/miniforge3/envs/wave2vec2_ft/lib/python3.10/site-packages (from torch>=1.6.0->spacy-transformers<1.2.0,>=1.1.2->spacy[transformers]) (2.8.7)\n",
      "Requirement already satisfied: filelock in /Users/pamelagangopadhyay/miniforge3/envs/wave2vec2_ft/lib/python3.10/site-packages (from transformers<4.22.0,>=3.4.0->spacy-transformers<1.2.0,>=1.1.2->spacy[transformers]) (3.8.0)\n",
      "Requirement already satisfied: tokenizers<0.11,>=0.10.1 in /Users/pamelagangopadhyay/miniforge3/envs/wave2vec2_ft/lib/python3.10/site-packages (from transformers<4.22.0,>=3.4.0->spacy-transformers<1.2.0,>=1.1.2->spacy[transformers]) (0.10.3)\n",
      "Requirement already satisfied: sacremoses in /Users/pamelagangopadhyay/miniforge3/envs/wave2vec2_ft/lib/python3.10/site-packages (from transformers<4.22.0,>=3.4.0->spacy-transformers<1.2.0,>=1.1.2->spacy[transformers]) (0.0.53)\n",
      "Requirement already satisfied: pyyaml>=5.1 in /Users/pamelagangopadhyay/miniforge3/envs/wave2vec2_ft/lib/python3.10/site-packages (from transformers<4.22.0,>=3.4.0->spacy-transformers<1.2.0,>=1.1.2->spacy[transformers]) (6.0)\n",
      "Requirement already satisfied: huggingface-hub>=0.0.17 in /Users/pamelagangopadhyay/miniforge3/envs/wave2vec2_ft/lib/python3.10/site-packages (from transformers<4.22.0,>=3.4.0->spacy-transformers<1.2.0,>=1.1.2->spacy[transformers]) (0.10.1)\n",
      "Requirement already satisfied: regex!=2019.12.17 in /Users/pamelagangopadhyay/miniforge3/envs/wave2vec2_ft/lib/python3.10/site-packages (from transformers<4.22.0,>=3.4.0->spacy-transformers<1.2.0,>=1.1.2->spacy[transformers]) (2022.9.13)\n"
     ]
    },
    {
     "name": "stdout",
     "output_type": "stream",
     "text": [
      "Requirement already satisfied: six in /Users/pamelagangopadhyay/miniforge3/envs/wave2vec2_ft/lib/python3.10/site-packages (from sacremoses->transformers<4.22.0,>=3.4.0->spacy-transformers<1.2.0,>=1.1.2->spacy[transformers]) (1.16.0)\r\n",
      "Requirement already satisfied: joblib in /Users/pamelagangopadhyay/miniforge3/envs/wave2vec2_ft/lib/python3.10/site-packages (from sacremoses->transformers<4.22.0,>=3.4.0->spacy-transformers<1.2.0,>=1.1.2->spacy[transformers]) (1.2.0)\r\n",
      "Requirement already satisfied: mpmath>=0.19 in /Users/pamelagangopadhyay/miniforge3/envs/wave2vec2_ft/lib/python3.10/site-packages (from sympy->torch>=1.6.0->spacy-transformers<1.2.0,>=1.1.2->spacy[transformers]) (1.2.1)\r\n"
     ]
    }
   ],
   "source": [
    "!pip install -U \"spacy[transformers]\""
   ]
  },
  {
   "cell_type": "code",
   "execution_count": 6,
   "id": "a4500e9c",
   "metadata": {},
   "outputs": [],
   "source": [
    "txt = \"Apple reached an all-time high stock price of 143 dollars this January.\""
   ]
  },
  {
   "cell_type": "code",
   "execution_count": 8,
   "id": "104228b5",
   "metadata": {},
   "outputs": [],
   "source": [
    "txt_1 = \"THIS CO-BRANDING AND ADVERTISING AGREEMENT the Agreement is made as of June 21, 1999 the Effective Date by and between I-ESCROW, INC., with its principal place of business at 1730 S. Amphlett Blvd., Suite 233, San Mateo, California 94402 i-Escrow, and 2THEMART.COM, INC. having its principal place of business at 18301 Von Karman Avenue, 7th Floor, Irvine, California 92612 (2TheMart)\""
   ]
  },
  {
   "cell_type": "code",
   "execution_count": 1,
   "id": "546a57f8",
   "metadata": {},
   "outputs": [
    {
     "name": "stdout",
     "output_type": "stream",
     "text": [
      "Collecting en-core-web-trf==3.4.1\n",
      "  Downloading https://github.com/explosion/spacy-models/releases/download/en_core_web_trf-3.4.1/en_core_web_trf-3.4.1-py3-none-any.whl (460.3 MB)\n",
      "\u001b[2K     \u001b[90m━━━━━━━━━━━━━━━━━━━━━━━━━━━━━━━━━━━━━━━\u001b[0m \u001b[32m460.3/460.3 MB\u001b[0m \u001b[31m2.3 MB/s\u001b[0m eta \u001b[36m0:00:00\u001b[0m00:01\u001b[0m00:02\u001b[0m\n",
      "\u001b[?25hRequirement already satisfied: spacy<3.5.0,>=3.4.1 in /Users/pamelagangopadhyay/miniforge3/envs/wave2vec2_ft/lib/python3.10/site-packages (from en-core-web-trf==3.4.1) (3.4.2)\n",
      "Requirement already satisfied: spacy-transformers<1.2.0,>=1.1.2 in /Users/pamelagangopadhyay/miniforge3/envs/wave2vec2_ft/lib/python3.10/site-packages (from en-core-web-trf==3.4.1) (1.1.8)\n",
      "Requirement already satisfied: thinc<8.2.0,>=8.1.0 in /Users/pamelagangopadhyay/miniforge3/envs/wave2vec2_ft/lib/python3.10/site-packages (from spacy<3.5.0,>=3.4.1->en-core-web-trf==3.4.1) (8.1.5)\n",
      "Requirement already satisfied: typer<0.5.0,>=0.3.0 in /Users/pamelagangopadhyay/miniforge3/envs/wave2vec2_ft/lib/python3.10/site-packages (from spacy<3.5.0,>=3.4.1->en-core-web-trf==3.4.1) (0.4.2)\n",
      "Requirement already satisfied: spacy-legacy<3.1.0,>=3.0.10 in /Users/pamelagangopadhyay/miniforge3/envs/wave2vec2_ft/lib/python3.10/site-packages (from spacy<3.5.0,>=3.4.1->en-core-web-trf==3.4.1) (3.0.10)\n",
      "Requirement already satisfied: srsly<3.0.0,>=2.4.3 in /Users/pamelagangopadhyay/miniforge3/envs/wave2vec2_ft/lib/python3.10/site-packages (from spacy<3.5.0,>=3.4.1->en-core-web-trf==3.4.1) (2.4.5)\n",
      "Requirement already satisfied: setuptools in /Users/pamelagangopadhyay/miniforge3/envs/wave2vec2_ft/lib/python3.10/site-packages (from spacy<3.5.0,>=3.4.1->en-core-web-trf==3.4.1) (65.5.0)\n",
      "Requirement already satisfied: preshed<3.1.0,>=3.0.2 in /Users/pamelagangopadhyay/miniforge3/envs/wave2vec2_ft/lib/python3.10/site-packages (from spacy<3.5.0,>=3.4.1->en-core-web-trf==3.4.1) (3.0.8)\n",
      "Requirement already satisfied: numpy>=1.15.0 in /Users/pamelagangopadhyay/miniforge3/envs/wave2vec2_ft/lib/python3.10/site-packages (from spacy<3.5.0,>=3.4.1->en-core-web-trf==3.4.1) (1.23.3)\n",
      "Requirement already satisfied: wasabi<1.1.0,>=0.9.1 in /Users/pamelagangopadhyay/miniforge3/envs/wave2vec2_ft/lib/python3.10/site-packages (from spacy<3.5.0,>=3.4.1->en-core-web-trf==3.4.1) (0.10.1)\n",
      "Requirement already satisfied: spacy-loggers<2.0.0,>=1.0.0 in /Users/pamelagangopadhyay/miniforge3/envs/wave2vec2_ft/lib/python3.10/site-packages (from spacy<3.5.0,>=3.4.1->en-core-web-trf==3.4.1) (1.0.3)\n",
      "Requirement already satisfied: cymem<2.1.0,>=2.0.2 in /Users/pamelagangopadhyay/miniforge3/envs/wave2vec2_ft/lib/python3.10/site-packages (from spacy<3.5.0,>=3.4.1->en-core-web-trf==3.4.1) (2.0.7)\n",
      "Requirement already satisfied: catalogue<2.1.0,>=2.0.6 in /Users/pamelagangopadhyay/miniforge3/envs/wave2vec2_ft/lib/python3.10/site-packages (from spacy<3.5.0,>=3.4.1->en-core-web-trf==3.4.1) (2.0.8)\n",
      "Requirement already satisfied: pathy>=0.3.5 in /Users/pamelagangopadhyay/miniforge3/envs/wave2vec2_ft/lib/python3.10/site-packages (from spacy<3.5.0,>=3.4.1->en-core-web-trf==3.4.1) (0.6.2)\n",
      "Requirement already satisfied: packaging>=20.0 in /Users/pamelagangopadhyay/miniforge3/envs/wave2vec2_ft/lib/python3.10/site-packages (from spacy<3.5.0,>=3.4.1->en-core-web-trf==3.4.1) (21.3)\n",
      "Requirement already satisfied: pydantic!=1.8,!=1.8.1,<1.11.0,>=1.7.4 in /Users/pamelagangopadhyay/miniforge3/envs/wave2vec2_ft/lib/python3.10/site-packages (from spacy<3.5.0,>=3.4.1->en-core-web-trf==3.4.1) (1.10.2)\n",
      "Requirement already satisfied: tqdm<5.0.0,>=4.38.0 in /Users/pamelagangopadhyay/miniforge3/envs/wave2vec2_ft/lib/python3.10/site-packages (from spacy<3.5.0,>=3.4.1->en-core-web-trf==3.4.1) (4.64.1)\n",
      "Requirement already satisfied: requests<3.0.0,>=2.13.0 in /Users/pamelagangopadhyay/miniforge3/envs/wave2vec2_ft/lib/python3.10/site-packages (from spacy<3.5.0,>=3.4.1->en-core-web-trf==3.4.1) (2.28.1)\n",
      "Requirement already satisfied: jinja2 in /Users/pamelagangopadhyay/miniforge3/envs/wave2vec2_ft/lib/python3.10/site-packages (from spacy<3.5.0,>=3.4.1->en-core-web-trf==3.4.1) (3.1.2)\n",
      "Requirement already satisfied: langcodes<4.0.0,>=3.2.0 in /Users/pamelagangopadhyay/miniforge3/envs/wave2vec2_ft/lib/python3.10/site-packages (from spacy<3.5.0,>=3.4.1->en-core-web-trf==3.4.1) (3.3.0)\n",
      "Requirement already satisfied: murmurhash<1.1.0,>=0.28.0 in /Users/pamelagangopadhyay/miniforge3/envs/wave2vec2_ft/lib/python3.10/site-packages (from spacy<3.5.0,>=3.4.1->en-core-web-trf==3.4.1) (1.0.9)\n",
      "Requirement already satisfied: spacy-alignments<1.0.0,>=0.7.2 in /Users/pamelagangopadhyay/miniforge3/envs/wave2vec2_ft/lib/python3.10/site-packages (from spacy-transformers<1.2.0,>=1.1.2->en-core-web-trf==3.4.1) (0.8.6)\n",
      "Requirement already satisfied: torch>=1.6.0 in /Users/pamelagangopadhyay/miniforge3/envs/wave2vec2_ft/lib/python3.10/site-packages (from spacy-transformers<1.2.0,>=1.1.2->en-core-web-trf==3.4.1) (1.14.0.dev20221017)\n",
      "Requirement already satisfied: transformers<4.22.0,>=3.4.0 in /Users/pamelagangopadhyay/miniforge3/envs/wave2vec2_ft/lib/python3.10/site-packages (from spacy-transformers<1.2.0,>=1.1.2->en-core-web-trf==3.4.1) (4.11.3)\n",
      "Requirement already satisfied: pyparsing!=3.0.5,>=2.0.2 in /Users/pamelagangopadhyay/miniforge3/envs/wave2vec2_ft/lib/python3.10/site-packages (from packaging>=20.0->spacy<3.5.0,>=3.4.1->en-core-web-trf==3.4.1) (3.0.9)\n",
      "Requirement already satisfied: smart-open<6.0.0,>=5.2.1 in /Users/pamelagangopadhyay/miniforge3/envs/wave2vec2_ft/lib/python3.10/site-packages (from pathy>=0.3.5->spacy<3.5.0,>=3.4.1->en-core-web-trf==3.4.1) (5.2.1)\n",
      "Requirement already satisfied: typing-extensions>=4.1.0 in /Users/pamelagangopadhyay/miniforge3/envs/wave2vec2_ft/lib/python3.10/site-packages (from pydantic!=1.8,!=1.8.1,<1.11.0,>=1.7.4->spacy<3.5.0,>=3.4.1->en-core-web-trf==3.4.1) (4.4.0)\n",
      "Requirement already satisfied: idna<4,>=2.5 in /Users/pamelagangopadhyay/miniforge3/envs/wave2vec2_ft/lib/python3.10/site-packages (from requests<3.0.0,>=2.13.0->spacy<3.5.0,>=3.4.1->en-core-web-trf==3.4.1) (3.4)\n",
      "Requirement already satisfied: urllib3<1.27,>=1.21.1 in /Users/pamelagangopadhyay/miniforge3/envs/wave2vec2_ft/lib/python3.10/site-packages (from requests<3.0.0,>=2.13.0->spacy<3.5.0,>=3.4.1->en-core-web-trf==3.4.1) (1.26.11)\n",
      "Requirement already satisfied: certifi>=2017.4.17 in /Users/pamelagangopadhyay/miniforge3/envs/wave2vec2_ft/lib/python3.10/site-packages (from requests<3.0.0,>=2.13.0->spacy<3.5.0,>=3.4.1->en-core-web-trf==3.4.1) (2022.9.24)\n",
      "Requirement already satisfied: charset-normalizer<3,>=2 in /Users/pamelagangopadhyay/miniforge3/envs/wave2vec2_ft/lib/python3.10/site-packages (from requests<3.0.0,>=2.13.0->spacy<3.5.0,>=3.4.1->en-core-web-trf==3.4.1) (2.1.1)\n",
      "Requirement already satisfied: confection<1.0.0,>=0.0.1 in /Users/pamelagangopadhyay/miniforge3/envs/wave2vec2_ft/lib/python3.10/site-packages (from thinc<8.2.0,>=8.1.0->spacy<3.5.0,>=3.4.1->en-core-web-trf==3.4.1) (0.0.3)\n",
      "Requirement already satisfied: blis<0.8.0,>=0.7.8 in /Users/pamelagangopadhyay/miniforge3/envs/wave2vec2_ft/lib/python3.10/site-packages (from thinc<8.2.0,>=8.1.0->spacy<3.5.0,>=3.4.1->en-core-web-trf==3.4.1) (0.7.9)\n",
      "Requirement already satisfied: sympy in /Users/pamelagangopadhyay/miniforge3/envs/wave2vec2_ft/lib/python3.10/site-packages (from torch>=1.6.0->spacy-transformers<1.2.0,>=1.1.2->en-core-web-trf==3.4.1) (1.11.1)\n",
      "Requirement already satisfied: networkx in /Users/pamelagangopadhyay/miniforge3/envs/wave2vec2_ft/lib/python3.10/site-packages (from torch>=1.6.0->spacy-transformers<1.2.0,>=1.1.2->en-core-web-trf==3.4.1) (2.8.7)\n",
      "Requirement already satisfied: sacremoses in /Users/pamelagangopadhyay/miniforge3/envs/wave2vec2_ft/lib/python3.10/site-packages (from transformers<4.22.0,>=3.4.0->spacy-transformers<1.2.0,>=1.1.2->en-core-web-trf==3.4.1) (0.0.53)\n",
      "Requirement already satisfied: regex!=2019.12.17 in /Users/pamelagangopadhyay/miniforge3/envs/wave2vec2_ft/lib/python3.10/site-packages (from transformers<4.22.0,>=3.4.0->spacy-transformers<1.2.0,>=1.1.2->en-core-web-trf==3.4.1) (2022.9.13)\n",
      "Requirement already satisfied: tokenizers<0.11,>=0.10.1 in /Users/pamelagangopadhyay/miniforge3/envs/wave2vec2_ft/lib/python3.10/site-packages (from transformers<4.22.0,>=3.4.0->spacy-transformers<1.2.0,>=1.1.2->en-core-web-trf==3.4.1) (0.10.3)\n",
      "Requirement already satisfied: filelock in /Users/pamelagangopadhyay/miniforge3/envs/wave2vec2_ft/lib/python3.10/site-packages (from transformers<4.22.0,>=3.4.0->spacy-transformers<1.2.0,>=1.1.2->en-core-web-trf==3.4.1) (3.8.0)\n",
      "Requirement already satisfied: huggingface-hub>=0.0.17 in /Users/pamelagangopadhyay/miniforge3/envs/wave2vec2_ft/lib/python3.10/site-packages (from transformers<4.22.0,>=3.4.0->spacy-transformers<1.2.0,>=1.1.2->en-core-web-trf==3.4.1) (0.10.1)\n",
      "Requirement already satisfied: pyyaml>=5.1 in /Users/pamelagangopadhyay/miniforge3/envs/wave2vec2_ft/lib/python3.10/site-packages (from transformers<4.22.0,>=3.4.0->spacy-transformers<1.2.0,>=1.1.2->en-core-web-trf==3.4.1) (6.0)\n"
     ]
    },
    {
     "name": "stdout",
     "output_type": "stream",
     "text": [
      "Requirement already satisfied: click<9.0.0,>=7.1.1 in /Users/pamelagangopadhyay/miniforge3/envs/wave2vec2_ft/lib/python3.10/site-packages (from typer<0.5.0,>=0.3.0->spacy<3.5.0,>=3.4.1->en-core-web-trf==3.4.1) (8.1.3)\n",
      "Requirement already satisfied: MarkupSafe>=2.0 in /Users/pamelagangopadhyay/miniforge3/envs/wave2vec2_ft/lib/python3.10/site-packages (from jinja2->spacy<3.5.0,>=3.4.1->en-core-web-trf==3.4.1) (2.1.1)\n",
      "Requirement already satisfied: six in /Users/pamelagangopadhyay/miniforge3/envs/wave2vec2_ft/lib/python3.10/site-packages (from sacremoses->transformers<4.22.0,>=3.4.0->spacy-transformers<1.2.0,>=1.1.2->en-core-web-trf==3.4.1) (1.16.0)\n",
      "Requirement already satisfied: joblib in /Users/pamelagangopadhyay/miniforge3/envs/wave2vec2_ft/lib/python3.10/site-packages (from sacremoses->transformers<4.22.0,>=3.4.0->spacy-transformers<1.2.0,>=1.1.2->en-core-web-trf==3.4.1) (1.2.0)\n",
      "Requirement already satisfied: mpmath>=0.19 in /Users/pamelagangopadhyay/miniforge3/envs/wave2vec2_ft/lib/python3.10/site-packages (from sympy->torch>=1.6.0->spacy-transformers<1.2.0,>=1.1.2->en-core-web-trf==3.4.1) (1.2.1)\n",
      "Installing collected packages: en-core-web-trf\n",
      "Successfully installed en-core-web-trf-3.4.1\n",
      "\u001b[38;5;2m✔ Download and installation successful\u001b[0m\n",
      "You can now load the package via spacy.load('en_core_web_trf')\n"
     ]
    }
   ],
   "source": [
    "!python -m spacy download en_core_web_trf"
   ]
  },
  {
   "cell_type": "code",
   "execution_count": 3,
   "id": "bb1eb0e3",
   "metadata": {},
   "outputs": [],
   "source": [
    "import spacy\n",
    "from spacy import displacy"
   ]
  },
  {
   "cell_type": "code",
   "execution_count": 4,
   "id": "0263febd",
   "metadata": {},
   "outputs": [],
   "source": [
    "trf = spacy.load(\"en_core_web_trf\")"
   ]
  },
  {
   "cell_type": "code",
   "execution_count": 9,
   "id": "2b621e32",
   "metadata": {},
   "outputs": [
    {
     "data": {
      "text/html": [
       "<span class=\"tex2jax_ignore\"><div class=\"entities\" style=\"line-height: 2.5; direction: ltr\">THIS CO-BRANDING AND ADVERTISING AGREEMENT the Agreement is made as of \n",
       "<mark class=\"entity\" style=\"background: #bfe1d9; padding: 0.45em 0.6em; margin: 0 0.25em; line-height: 1; border-radius: 0.35em;\">\n",
       "    June 21, 1999\n",
       "    <span style=\"font-size: 0.8em; font-weight: bold; line-height: 1; border-radius: 0.35em; vertical-align: middle; margin-left: 0.5rem\">DATE</span>\n",
       "</mark>\n",
       " the Effective Date by and between \n",
       "<mark class=\"entity\" style=\"background: #7aecec; padding: 0.45em 0.6em; margin: 0 0.25em; line-height: 1; border-radius: 0.35em;\">\n",
       "    I-ESCROW, INC.\n",
       "    <span style=\"font-size: 0.8em; font-weight: bold; line-height: 1; border-radius: 0.35em; vertical-align: middle; margin-left: 0.5rem\">ORG</span>\n",
       "</mark>\n",
       ", with its principal place of business at \n",
       "<mark class=\"entity\" style=\"background: #9cc9cc; padding: 0.45em 0.6em; margin: 0 0.25em; line-height: 1; border-radius: 0.35em;\">\n",
       "    1730 S. Amphlett Blvd.\n",
       "    <span style=\"font-size: 0.8em; font-weight: bold; line-height: 1; border-radius: 0.35em; vertical-align: middle; margin-left: 0.5rem\">FAC</span>\n",
       "</mark>\n",
       ", Suite \n",
       "<mark class=\"entity\" style=\"background: #e4e7d2; padding: 0.45em 0.6em; margin: 0 0.25em; line-height: 1; border-radius: 0.35em;\">\n",
       "    233\n",
       "    <span style=\"font-size: 0.8em; font-weight: bold; line-height: 1; border-radius: 0.35em; vertical-align: middle; margin-left: 0.5rem\">CARDINAL</span>\n",
       "</mark>\n",
       ", \n",
       "<mark class=\"entity\" style=\"background: #feca74; padding: 0.45em 0.6em; margin: 0 0.25em; line-height: 1; border-radius: 0.35em;\">\n",
       "    San Mateo\n",
       "    <span style=\"font-size: 0.8em; font-weight: bold; line-height: 1; border-radius: 0.35em; vertical-align: middle; margin-left: 0.5rem\">GPE</span>\n",
       "</mark>\n",
       ", \n",
       "<mark class=\"entity\" style=\"background: #feca74; padding: 0.45em 0.6em; margin: 0 0.25em; line-height: 1; border-radius: 0.35em;\">\n",
       "    California\n",
       "    <span style=\"font-size: 0.8em; font-weight: bold; line-height: 1; border-radius: 0.35em; vertical-align: middle; margin-left: 0.5rem\">GPE</span>\n",
       "</mark>\n",
       " 94402 i-Escrow, and \n",
       "<mark class=\"entity\" style=\"background: #7aecec; padding: 0.45em 0.6em; margin: 0 0.25em; line-height: 1; border-radius: 0.35em;\">\n",
       "    2THEMART.COM, INC.\n",
       "    <span style=\"font-size: 0.8em; font-weight: bold; line-height: 1; border-radius: 0.35em; vertical-align: middle; margin-left: 0.5rem\">ORG</span>\n",
       "</mark>\n",
       " having its principal place of business at \n",
       "<mark class=\"entity\" style=\"background: #9cc9cc; padding: 0.45em 0.6em; margin: 0 0.25em; line-height: 1; border-radius: 0.35em;\">\n",
       "    18301 Von Karman Avenue\n",
       "    <span style=\"font-size: 0.8em; font-weight: bold; line-height: 1; border-radius: 0.35em; vertical-align: middle; margin-left: 0.5rem\">FAC</span>\n",
       "</mark>\n",
       ", 7th Floor, \n",
       "<mark class=\"entity\" style=\"background: #feca74; padding: 0.45em 0.6em; margin: 0 0.25em; line-height: 1; border-radius: 0.35em;\">\n",
       "    Irvine\n",
       "    <span style=\"font-size: 0.8em; font-weight: bold; line-height: 1; border-radius: 0.35em; vertical-align: middle; margin-left: 0.5rem\">GPE</span>\n",
       "</mark>\n",
       ", \n",
       "<mark class=\"entity\" style=\"background: #feca74; padding: 0.45em 0.6em; margin: 0 0.25em; line-height: 1; border-radius: 0.35em;\">\n",
       "    California\n",
       "    <span style=\"font-size: 0.8em; font-weight: bold; line-height: 1; border-radius: 0.35em; vertical-align: middle; margin-left: 0.5rem\">GPE</span>\n",
       "</mark>\n",
       " \n",
       "<mark class=\"entity\" style=\"background: #e4e7d2; padding: 0.45em 0.6em; margin: 0 0.25em; line-height: 1; border-radius: 0.35em;\">\n",
       "    92612\n",
       "    <span style=\"font-size: 0.8em; font-weight: bold; line-height: 1; border-radius: 0.35em; vertical-align: middle; margin-left: 0.5rem\">CARDINAL</span>\n",
       "</mark>\n",
       " (\n",
       "<mark class=\"entity\" style=\"background: #7aecec; padding: 0.45em 0.6em; margin: 0 0.25em; line-height: 1; border-radius: 0.35em;\">\n",
       "    2TheMart\n",
       "    <span style=\"font-size: 0.8em; font-weight: bold; line-height: 1; border-radius: 0.35em; vertical-align: middle; margin-left: 0.5rem\">ORG</span>\n",
       "</mark>\n",
       ")</div></span>"
      ],
      "text/plain": [
       "<IPython.core.display.HTML object>"
      ]
     },
     "metadata": {},
     "output_type": "display_data"
    }
   ],
   "source": [
    "doc = trf(txt_1)\n",
    "displacy.render(doc, style=\"ent\")"
   ]
  },
  {
   "cell_type": "code",
   "execution_count": 12,
   "id": "7da7210b",
   "metadata": {},
   "outputs": [],
   "source": [
    "# Write a function to display basic entity info:\n",
    "def show_ents(doc):\n",
    "    if doc.ents:\n",
    "        for ent in doc.ents:\n",
    "            print(ent.text+' - ' +str(ent.start_char) +' - '+ str(ent.end_char) +' - '+ent.label_+ ' - '+str(spacy.explain(ent.label_)))\n",
    "    else:\n",
    "        print('No named entities found.')"
   ]
  },
  {
   "cell_type": "code",
   "execution_count": 13,
   "id": "b5652af8",
   "metadata": {},
   "outputs": [
    {
     "name": "stdout",
     "output_type": "stream",
     "text": [
      "June 21, 1999 - 71 - 84 - DATE - Absolute or relative dates or periods\n",
      "I-ESCROW, INC. - 119 - 133 - ORG - Companies, agencies, institutions, etc.\n",
      "1730 S. Amphlett Blvd. - 175 - 197 - FAC - Buildings, airports, highways, bridges, etc.\n",
      "233 - 205 - 208 - CARDINAL - Numerals that do not fall under another type\n",
      "San Mateo - 210 - 219 - GPE - Countries, cities, states\n",
      "California - 221 - 231 - GPE - Countries, cities, states\n",
      "2THEMART.COM, INC. - 252 - 270 - ORG - Companies, agencies, institutions, etc.\n",
      "18301 Von Karman Avenue - 313 - 336 - FAC - Buildings, airports, highways, bridges, etc.\n",
      "Irvine - 349 - 355 - GPE - Countries, cities, states\n",
      "California - 357 - 367 - GPE - Countries, cities, states\n",
      "92612 - 368 - 373 - CARDINAL - Numerals that do not fall under another type\n",
      "2TheMart - 375 - 383 - ORG - Companies, agencies, institutions, etc.\n"
     ]
    }
   ],
   "source": [
    "show_ents(doc)"
   ]
  },
  {
   "cell_type": "code",
   "execution_count": null,
   "id": "1d47b2e9",
   "metadata": {},
   "outputs": [],
   "source": []
  }
 ],
 "metadata": {
  "kernelspec": {
   "display_name": "Python 3 (ipykernel)",
   "language": "python",
   "name": "python3"
  },
  "language_info": {
   "codemirror_mode": {
    "name": "ipython",
    "version": 3
   },
   "file_extension": ".py",
   "mimetype": "text/x-python",
   "name": "python",
   "nbconvert_exporter": "python",
   "pygments_lexer": "ipython3",
   "version": "3.10.0"
  }
 },
 "nbformat": 4,
 "nbformat_minor": 5
}
