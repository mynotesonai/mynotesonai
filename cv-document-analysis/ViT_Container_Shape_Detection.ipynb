{
 "cells": [
  {
   "cell_type": "markdown",
   "id": "af289d0c",
   "metadata": {},
   "source": [
    "# Finetuning HuggingFace Vision Transformer with Custom Dataset"
   ]
  },
  {
   "cell_type": "code",
   "execution_count": 2,
   "id": "674aac83",
   "metadata": {},
   "outputs": [
    {
     "name": "stdout",
     "output_type": "stream",
     "text": [
      "Collecting seaborn\n",
      "  Downloading seaborn-0.12.1-py3-none-any.whl (288 kB)\n",
      "\u001b[2K     \u001b[90m━━━━━━━━━━━━━━━━━━━━━━━━━━━━━━━━━━━━━━━\u001b[0m \u001b[32m288.2/288.2 kB\u001b[0m \u001b[31m2.2 MB/s\u001b[0m eta \u001b[36m0:00:00\u001b[0m00:01\u001b[0m00:01\u001b[0m\n",
      "\u001b[?25hRequirement already satisfied: numpy>=1.17 in /Users/pamelagangopadhyay/miniforge3/envs/wave2vec2_ft/lib/python3.10/site-packages (from seaborn) (1.23.2)\n",
      "Collecting matplotlib!=3.6.1,>=3.1\n",
      "  Downloading matplotlib-3.6.2-cp310-cp310-macosx_11_0_arm64.whl (7.2 MB)\n",
      "\u001b[2K     \u001b[90m━━━━━━━━━━━━━━━━━━━━━━━━━━━━━━━━━━━━━━━━\u001b[0m \u001b[32m7.2/7.2 MB\u001b[0m \u001b[31m5.3 MB/s\u001b[0m eta \u001b[36m0:00:00\u001b[0m00:01\u001b[0m00:01\u001b[0m\n",
      "\u001b[?25hRequirement already satisfied: pandas>=0.25 in /Users/pamelagangopadhyay/miniforge3/envs/wave2vec2_ft/lib/python3.10/site-packages (from seaborn) (1.5.0)\n",
      "Requirement already satisfied: fonttools>=4.22.0 in /Users/pamelagangopadhyay/miniforge3/envs/wave2vec2_ft/lib/python3.10/site-packages (from matplotlib!=3.6.1,>=3.1->seaborn) (4.38.0)\n",
      "Requirement already satisfied: pyparsing>=2.2.1 in /Users/pamelagangopadhyay/miniforge3/envs/wave2vec2_ft/lib/python3.10/site-packages (from matplotlib!=3.6.1,>=3.1->seaborn) (3.0.9)\n",
      "Requirement already satisfied: cycler>=0.10 in /Users/pamelagangopadhyay/miniforge3/envs/wave2vec2_ft/lib/python3.10/site-packages (from matplotlib!=3.6.1,>=3.1->seaborn) (0.11.0)\n",
      "Requirement already satisfied: packaging>=20.0 in /Users/pamelagangopadhyay/miniforge3/envs/wave2vec2_ft/lib/python3.10/site-packages (from matplotlib!=3.6.1,>=3.1->seaborn) (21.3)\n",
      "Requirement already satisfied: pillow>=6.2.0 in /Users/pamelagangopadhyay/miniforge3/envs/wave2vec2_ft/lib/python3.10/site-packages (from matplotlib!=3.6.1,>=3.1->seaborn) (9.2.0)\n",
      "Requirement already satisfied: kiwisolver>=1.0.1 in /Users/pamelagangopadhyay/miniforge3/envs/wave2vec2_ft/lib/python3.10/site-packages (from matplotlib!=3.6.1,>=3.1->seaborn) (1.4.4)\n",
      "Requirement already satisfied: contourpy>=1.0.1 in /Users/pamelagangopadhyay/miniforge3/envs/wave2vec2_ft/lib/python3.10/site-packages (from matplotlib!=3.6.1,>=3.1->seaborn) (1.0.5)\n",
      "Requirement already satisfied: python-dateutil>=2.7 in /Users/pamelagangopadhyay/miniforge3/envs/wave2vec2_ft/lib/python3.10/site-packages (from matplotlib!=3.6.1,>=3.1->seaborn) (2.8.2)\n",
      "Requirement already satisfied: pytz>=2020.1 in /Users/pamelagangopadhyay/miniforge3/envs/wave2vec2_ft/lib/python3.10/site-packages (from pandas>=0.25->seaborn) (2022.4)\n",
      "Requirement already satisfied: six>=1.5 in /Users/pamelagangopadhyay/miniforge3/envs/wave2vec2_ft/lib/python3.10/site-packages (from python-dateutil>=2.7->matplotlib!=3.6.1,>=3.1->seaborn) (1.16.0)\n",
      "Installing collected packages: matplotlib, seaborn\n",
      "  Attempting uninstall: matplotlib\n",
      "    Found existing installation: matplotlib 3.6.1\n",
      "    Uninstalling matplotlib-3.6.1:\n",
      "      Successfully uninstalled matplotlib-3.6.1\n",
      "Successfully installed matplotlib-3.6.2 seaborn-0.12.1\n"
     ]
    }
   ],
   "source": [
    "!pip install seaborn"
   ]
  },
  {
   "cell_type": "code",
   "execution_count": 3,
   "id": "a13f0040",
   "metadata": {},
   "outputs": [],
   "source": [
    "import torchvision\n",
    "from torchvision.transforms import ToTensor\n",
    "from sklearn.metrics import classification_report,confusion_matrix, accuracy_score\n",
    "import seaborn as sn\n",
    "import matplotlib.pyplot as plt"
   ]
  },
  {
   "cell_type": "code",
   "execution_count": 2,
   "id": "f1aebf6e",
   "metadata": {},
   "outputs": [],
   "source": [
    "import torch"
   ]
  },
  {
   "cell_type": "code",
   "execution_count": 3,
   "id": "e72fe97a",
   "metadata": {},
   "outputs": [
    {
     "data": {
      "text/plain": [
       "'1.12.1'"
      ]
     },
     "execution_count": 3,
     "metadata": {},
     "output_type": "execute_result"
    }
   ],
   "source": [
    "torch.__version__"
   ]
  },
  {
   "cell_type": "code",
   "execution_count": 5,
   "id": "fe2ef4b6",
   "metadata": {},
   "outputs": [],
   "source": [
    "!pip install -q git+https://github.com/huggingface/transformers"
   ]
  },
  {
   "cell_type": "markdown",
   "id": "c9387a2e",
   "metadata": {},
   "source": [
    "### Loading data and creating datasets"
   ]
  },
  {
   "cell_type": "code",
   "execution_count": 7,
   "id": "7db5042b",
   "metadata": {},
   "outputs": [],
   "source": [
    "import torchvision.transforms as transforms\n",
    "\n",
    "transform = transforms.Compose(\n",
    "    [transforms.Resize((150,150)), \n",
    "    transforms.ToTensor(),\n",
    "    transforms.Normalize((0.5, 0.5, 0.5), (0.5, 0.5, 0.5))])\n",
    "\n",
    "train_ds = torchvision.datasets.ImageFolder('data/plastic/train', transform=transform)\n",
    "test_ds = torchvision.datasets.ImageFolder('data/plastic/test', transform=transform)"
   ]
  },
  {
   "cell_type": "markdown",
   "id": "d8769adf",
   "metadata": {},
   "source": [
    "### Finetuning pretrained vit-base-patch16-224-in21k model"
   ]
  },
  {
   "cell_type": "code",
   "execution_count": 8,
   "id": "6d62604e",
   "metadata": {},
   "outputs": [],
   "source": [
    "from transformers import ViTModel\n",
    "from transformers.modeling_outputs import SequenceClassifierOutput\n",
    "import torch.nn as nn\n",
    "import torch.nn.functional as F\n",
    "\n",
    "class ViTForImageClassification(nn.Module):\n",
    "    def __init__(self, num_labels=3):\n",
    "        super(ViTForImageClassification, self).__init__()\n",
    "        self.vit = ViTModel.from_pretrained('google/vit-base-patch16-224-in21k')\n",
    "        self.dropout = nn.Dropout(0.1)\n",
    "        self.classifier = nn.Linear(self.vit.config.hidden_size, num_labels)\n",
    "        self.num_labels = num_labels\n",
    "\n",
    "    def forward(self, pixel_values, labels):\n",
    "        outputs = self.vit(pixel_values=pixel_values)\n",
    "        output = self.dropout(outputs.last_hidden_state[:,0])\n",
    "        logits = self.classifier(output)\n",
    "\n",
    "        loss = None\n",
    "        if labels is not None:\n",
    "            loss_fct = nn.CrossEntropyLoss()\n",
    "            loss = loss_fct(logits.view(-1, self.num_labels), labels.view(-1))\n",
    "        if loss is not None:\n",
    "            return logits, loss.item()\n",
    "        else:\n",
    "            return logits, None"
   ]
  },
  {
   "cell_type": "code",
   "execution_count": 9,
   "id": "f34d3648",
   "metadata": {},
   "outputs": [],
   "source": [
    "EPOCHS = 5\n",
    "BATCH_SIZE = 10\n",
    "LEARNING_RATE = 2e-4"
   ]
  },
  {
   "cell_type": "code",
   "execution_count": 28,
   "id": "839e6e63",
   "metadata": {},
   "outputs": [],
   "source": [
    "labels = ['bottles', 'cans', 'sprays']"
   ]
  },
  {
   "cell_type": "code",
   "execution_count": 10,
   "id": "0f015f1b",
   "metadata": {},
   "outputs": [],
   "source": [
    "from transformers import ViTFeatureExtractor\n",
    "import torch.nn as nn\n",
    "import torch\n",
    "\n",
    "# Define Model\n",
    "model = ViTForImageClassification(len(train_ds.classes))\n",
    "\n",
    "# Feature Extractor\n",
    "feature_extractor = ViTFeatureExtractor.from_pretrained('google/vit-base-patch16-224-in21k')\n",
    "\n",
    "# Adam Optimizer\n",
    "optimizer = torch.optim.Adam(model.parameters(), lr=LEARNING_RATE)\n",
    "\n",
    "# Cross Entropy Loss\n",
    "loss_func = nn.CrossEntropyLoss()"
   ]
  },
  {
   "cell_type": "code",
   "execution_count": 11,
   "id": "80231425",
   "metadata": {},
   "outputs": [],
   "source": [
    "device = torch.device(\"cuda\" if torch.cuda.is_available() else \"cpu\")"
   ]
  },
  {
   "cell_type": "markdown",
   "id": "e7b2a3ca",
   "metadata": {},
   "source": [
    "### Model training"
   ]
  },
  {
   "cell_type": "code",
   "execution_count": 12,
   "id": "da9d8dab",
   "metadata": {},
   "outputs": [
    {
     "name": "stdout",
     "output_type": "stream",
     "text": [
      "Number of train samples:  780\n",
      "Number of test samples:  30\n",
      "Detected Classes are:  {'bottles': 0, 'cans': 1, 'sprays': 2}\n",
      "Epoch:  0 | train loss: 1.1196\n",
      "Epoch:  0 | train loss: 0.4546\n",
      "Epoch:  0 | train loss: 0.1524\n",
      "Epoch:  0 | train loss: 0.0690\n",
      "Epoch:  0 | train loss: 1.1545\n",
      "Epoch:  0 | train loss: 0.1089\n",
      "Epoch:  0 | train loss: 0.1731\n",
      "Epoch:  0 | train loss: 0.4896\n",
      "Epoch:  1 | train loss: 0.0474\n",
      "Epoch:  1 | train loss: 0.0419\n",
      "Epoch:  1 | train loss: 0.0607\n",
      "Epoch:  1 | train loss: 0.0420\n",
      "Epoch:  1 | train loss: 0.3447\n",
      "Epoch:  1 | train loss: 0.1624\n",
      "Epoch:  1 | train loss: 0.0372\n",
      "Epoch:  1 | train loss: 0.0655\n",
      "Epoch:  2 | train loss: 0.6340\n",
      "Epoch:  2 | train loss: 0.7879\n",
      "Epoch:  2 | train loss: 0.8784\n",
      "Epoch:  2 | train loss: 0.5107\n",
      "Epoch:  2 | train loss: 1.1252\n",
      "Epoch:  2 | train loss: 0.6410\n",
      "Epoch:  2 | train loss: 0.9133\n",
      "Epoch:  2 | train loss: 0.2076\n",
      "Epoch:  3 | train loss: 0.0432\n",
      "Epoch:  3 | train loss: 0.0267\n",
      "Epoch:  3 | train loss: 0.1507\n",
      "Epoch:  3 | train loss: 0.2346\n",
      "Epoch:  3 | train loss: 0.0470\n",
      "Epoch:  3 | train loss: 0.0235\n",
      "Epoch:  3 | train loss: 0.0195\n",
      "Epoch:  3 | train loss: 0.0153\n",
      "Epoch:  4 | train loss: 0.0181\n",
      "Epoch:  4 | train loss: 0.0462\n",
      "Epoch:  4 | train loss: 0.0200\n",
      "Epoch:  4 | train loss: 0.0166\n",
      "Epoch:  4 | train loss: 0.3125\n",
      "Epoch:  4 | train loss: 0.0244\n",
      "Epoch:  4 | train loss: 0.0167\n",
      "Epoch:  4 | train loss: 0.0140\n"
     ]
    }
   ],
   "source": [
    "import torch.utils.data as data\n",
    "from torch.autograd import Variable\n",
    "import numpy as np\n",
    "\n",
    "print(\"Number of train samples: \", len(train_ds))\n",
    "print(\"Number of test samples: \", len(test_ds))\n",
    "print(\"Detected Classes are: \", train_ds.class_to_idx) \n",
    "\n",
    "train_loader = data.DataLoader(train_ds, batch_size=BATCH_SIZE, shuffle=True,  num_workers=4)\n",
    "\n",
    "# Train the model\n",
    "for epoch in range(EPOCHS):\n",
    "    for step, (x, y) in enumerate(train_loader):\n",
    "        x = np.split(np.squeeze(np.array(x)), BATCH_SIZE)\n",
    "        for index, array in enumerate(x):\n",
    "            x[index] = np.squeeze(array)\n",
    "        x = torch.tensor(np.stack(feature_extractor(x)['pixel_values'], axis=0))\n",
    "        x, y  = x.to(device), y.to(device)\n",
    "        b_x = Variable(x)\n",
    "        b_y = Variable(y)\n",
    "        output, loss = model(b_x, None)\n",
    "        # Calculate loss\n",
    "        if loss is None: \n",
    "            loss = loss_func(output, b_y)   \n",
    "            optimizer.zero_grad()           \n",
    "            loss.backward()                 \n",
    "            optimizer.step()\n",
    "\n",
    "        if step % 10 == 0:\n",
    "            print('Epoch: ', epoch, '| train loss: %.4f' % loss)"
   ]
  },
  {
   "cell_type": "code",
   "execution_count": 18,
   "id": "97ed3543",
   "metadata": {},
   "outputs": [],
   "source": [
    "torch.save(model.state_dict(), \"data/plastic/models/vt_finetuned_v1.pth\")"
   ]
  },
  {
   "cell_type": "markdown",
   "id": "d0bb74c2",
   "metadata": {},
   "source": [
    "### Model Testing and Evaluation"
   ]
  },
  {
   "cell_type": "code",
   "execution_count": 15,
   "id": "404a72e3",
   "metadata": {},
   "outputs": [],
   "source": [
    "test_ds_1 = torchvision.datasets.ImageFolder('data/plastic/test_images', transform=transform)"
   ]
  },
  {
   "cell_type": "code",
   "execution_count": 19,
   "id": "0f948d29",
   "metadata": {},
   "outputs": [],
   "source": [
    "test_loader_1  = data.DataLoader(test_ds_1, batch_size=BATCH_SIZE, shuffle=True, num_workers=4) "
   ]
  },
  {
   "cell_type": "code",
   "execution_count": 20,
   "id": "c69a8b3a",
   "metadata": {},
   "outputs": [
    {
     "name": "stdout",
     "output_type": "stream",
     "text": [
      "tensor([0, 2, 0, 2, 1, 1, 2, 0, 1, 2])\n",
      "tensor([0, 1, 0, 2, 1, 0, 2, 0, 1, 2])\n",
      " test accuracy: 0.80\n"
     ]
    }
   ],
   "source": [
    "test_1 = next(iter(test_loader_1))\n",
    "test_1_x = test_1[0]\n",
    "test_1_x = np.split(np.squeeze(np.array(test_1_x)), BATCH_SIZE)\n",
    "for index, array in enumerate(test_1_x):\n",
    "    test_1_x[index] = np.squeeze(array)\n",
    "\n",
    "test_1_x = torch.tensor(np.stack(feature_extractor(test_1_x)['pixel_values'], axis=0))\n",
    "\n",
    "test_1_x = test_1_x.to(device)\n",
    "test_1_y = test_1[1].to(device)\n",
    "\n",
    "test_output_1, loss_1 = model(test_1_x, test_1_y)\n",
    "test_output_1 = test_output_1.argmax(1)\n",
    "print(test_output_1)\n",
    "print(test_1_y)\n",
    "\n",
    "accuracy_ = (test_output_1 == test_1_y).sum().item() / BATCH_SIZE\n",
    "print(' test accuracy: %.2f' % accuracy_)"
   ]
  },
  {
   "cell_type": "code",
   "execution_count": 23,
   "id": "6d4cbaa6",
   "metadata": {},
   "outputs": [],
   "source": [
    "def calculate_recognition_accuracy(predicted, actual):\n",
    "    num_correct_predictions = np.sum(predicted == actual)\n",
    "    recognition_acc = num_correct_predictions/len(actual)\n",
    "    return recognition_acc"
   ]
  },
  {
   "cell_type": "code",
   "execution_count": 24,
   "id": "7a9f19ac",
   "metadata": {},
   "outputs": [],
   "source": [
    "recog_acc = calculate_recognition_accuracy(np.array(test_output_1), np.array(test_1_y))"
   ]
  },
  {
   "cell_type": "code",
   "execution_count": 26,
   "id": "3bc25b46",
   "metadata": {},
   "outputs": [
    {
     "name": "stdout",
     "output_type": "stream",
     "text": [
      "The recognition accuracy for the test images 0.8\n"
     ]
    }
   ],
   "source": [
    "print(f'The recognition accuracy for the test images {recog_acc}')"
   ]
  },
  {
   "cell_type": "code",
   "execution_count": 30,
   "id": "a3f2ac0d",
   "metadata": {},
   "outputs": [],
   "source": [
    "cm = confusion_matrix(test_1_y, test_output_1)"
   ]
  },
  {
   "cell_type": "code",
   "execution_count": 37,
   "id": "c6b003b8",
   "metadata": {},
   "outputs": [
    {
     "name": "stdout",
     "output_type": "stream",
     "text": [
      "Counter({0: 4, 1: 3, 2: 3})\n",
      "Accuracy of bottles 75.0\n",
      "Accuracy of cans 66.66666666666667\n",
      "Accuracy of sprays 100.0\n"
     ]
    }
   ],
   "source": [
    "from collections import Counter\n",
    "\n",
    "test_labels = np.array(test_1_y)\n",
    "act_dict = Counter(list(test_labels))\n",
    "pred_list = cm.diagonal()\n",
    "        \n",
    "for i in range(len(labels)):\n",
    "    label_recog = 100 * pred_list[i] / act_dict[i]\n",
    "    print('Accuracy of', labels[i], label_recog)      "
   ]
  },
  {
   "cell_type": "code",
   "execution_count": 38,
   "id": "870802a2",
   "metadata": {},
   "outputs": [
    {
     "data": {
      "text/plain": [
       "<AxesSubplot:>"
      ]
     },
     "execution_count": 38,
     "metadata": {},
     "output_type": "execute_result"
    },
    {
     "data": {
      "image/png": "[encoded data removed]",
      "text/plain": [
       "<Figure size 360x288 with 2 Axes>"
      ]
     },
     "metadata": {
      "needs_background": "light"
     },
     "output_type": "display_data"
    }
   ],
   "source": [
    "plt.figure(figsize = (5,4))\n",
    "sn.heatmap(cm, cmap=\"Blues\", annot=True,annot_kws={\"size\": 16})"
   ]
  },
  {
   "cell_type": "code",
   "execution_count": null,
   "id": "95e3c916",
   "metadata": {},
   "outputs": [],
   "source": []
  }
 ],
 "metadata": {
  "kernelspec": {
   "display_name": "Python 3 (ipykernel)",
   "language": "python",
   "name": "python3"
  },
  "language_info": {
   "codemirror_mode": {
    "name": "ipython",
    "version": 3
   },
   "file_extension": ".py",
   "mimetype": "text/x-python",
   "name": "python",
   "nbconvert_exporter": "python",
   "pygments_lexer": "ipython3",
   "version": "3.10.0"
  }
 },
 "nbformat": 4,
 "nbformat_minor": 5
}
